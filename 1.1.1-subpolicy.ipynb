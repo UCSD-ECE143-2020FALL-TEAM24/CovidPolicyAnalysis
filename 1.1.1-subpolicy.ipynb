{
 "cells": [
  {
   "cell_type": "markdown",
   "metadata": {},
   "source": [
    "https://www.endcoronavirus.org/countries"
   ]
  },
  {
   "cell_type": "code",
   "execution_count": 2,
   "metadata": {},
   "outputs": [],
   "source": [
    "import pandas as pd\n",
    "import numpy as np\n",
    "import matplotlib.pyplot as plt"
   ]
  },
  {
   "cell_type": "code",
   "execution_count": 3,
   "metadata": {},
   "outputs": [],
   "source": [
    "import warnings\n",
    "warnings.filterwarnings(\"ignore\")"
   ]
  },
  {
   "cell_type": "code",
   "execution_count": 4,
   "metadata": {},
   "outputs": [
    {
     "name": "stdout",
     "output_type": "stream",
     "text": [
      "The dataset currently contains 86385 records, here is a sample:\n"
     ]
    },
    {
     "data": {
      "text/html": [
       "<div>\n",
       "<style scoped>\n",
       "    .dataframe tbody tr th:only-of-type {\n",
       "        vertical-align: middle;\n",
       "    }\n",
       "\n",
       "    .dataframe tbody tr th {\n",
       "        vertical-align: top;\n",
       "    }\n",
       "\n",
       "    .dataframe thead th {\n",
       "        text-align: right;\n",
       "    }\n",
       "</style>\n",
       "<table border=\"1\" class=\"dataframe\">\n",
       "  <thead>\n",
       "    <tr style=\"text-align: right;\">\n",
       "      <th></th>\n",
       "      <th>date</th>\n",
       "      <th>key</th>\n",
       "      <th>school_closing</th>\n",
       "      <th>workplace_closing</th>\n",
       "      <th>cancel_public_events</th>\n",
       "      <th>restrictions_on_gatherings</th>\n",
       "      <th>public_transport_closing</th>\n",
       "      <th>stay_at_home_requirements</th>\n",
       "      <th>restrictions_on_internal_movement</th>\n",
       "      <th>international_travel_controls</th>\n",
       "      <th>income_support</th>\n",
       "      <th>debt_relief</th>\n",
       "      <th>fiscal_measures</th>\n",
       "      <th>international_support</th>\n",
       "      <th>public_information_campaigns</th>\n",
       "      <th>testing_policy</th>\n",
       "      <th>contact_tracing</th>\n",
       "      <th>emergency_investment_in_healthcare</th>\n",
       "      <th>investment_in_vaccines</th>\n",
       "      <th>stringency_index</th>\n",
       "    </tr>\n",
       "  </thead>\n",
       "  <tbody>\n",
       "    <tr>\n",
       "      <th>0</th>\n",
       "      <td>2020-01-01</td>\n",
       "      <td>AD</td>\n",
       "      <td>0.0</td>\n",
       "      <td>0.0</td>\n",
       "      <td>0.0</td>\n",
       "      <td>0.0</td>\n",
       "      <td>0.0</td>\n",
       "      <td>0.0</td>\n",
       "      <td>0.0</td>\n",
       "      <td>0.0</td>\n",
       "      <td>0.0</td>\n",
       "      <td>0.0</td>\n",
       "      <td>0.0</td>\n",
       "      <td>0.0</td>\n",
       "      <td>0.0</td>\n",
       "      <td>0.0</td>\n",
       "      <td>0.0</td>\n",
       "      <td>0.0</td>\n",
       "      <td>0.0</td>\n",
       "      <td>0.00</td>\n",
       "    </tr>\n",
       "    <tr>\n",
       "      <th>1</th>\n",
       "      <td>2020-01-01</td>\n",
       "      <td>AE</td>\n",
       "      <td>0.0</td>\n",
       "      <td>0.0</td>\n",
       "      <td>0.0</td>\n",
       "      <td>0.0</td>\n",
       "      <td>0.0</td>\n",
       "      <td>0.0</td>\n",
       "      <td>0.0</td>\n",
       "      <td>0.0</td>\n",
       "      <td>0.0</td>\n",
       "      <td>0.0</td>\n",
       "      <td>0.0</td>\n",
       "      <td>0.0</td>\n",
       "      <td>0.0</td>\n",
       "      <td>0.0</td>\n",
       "      <td>0.0</td>\n",
       "      <td>0.0</td>\n",
       "      <td>0.0</td>\n",
       "      <td>0.00</td>\n",
       "    </tr>\n",
       "    <tr>\n",
       "      <th>2</th>\n",
       "      <td>2020-01-01</td>\n",
       "      <td>AF</td>\n",
       "      <td>0.0</td>\n",
       "      <td>0.0</td>\n",
       "      <td>0.0</td>\n",
       "      <td>0.0</td>\n",
       "      <td>0.0</td>\n",
       "      <td>0.0</td>\n",
       "      <td>0.0</td>\n",
       "      <td>0.0</td>\n",
       "      <td>0.0</td>\n",
       "      <td>0.0</td>\n",
       "      <td>0.0</td>\n",
       "      <td>0.0</td>\n",
       "      <td>0.0</td>\n",
       "      <td>0.0</td>\n",
       "      <td>0.0</td>\n",
       "      <td>0.0</td>\n",
       "      <td>0.0</td>\n",
       "      <td>0.00</td>\n",
       "    </tr>\n",
       "    <tr>\n",
       "      <th>3</th>\n",
       "      <td>2020-01-01</td>\n",
       "      <td>AL</td>\n",
       "      <td>0.0</td>\n",
       "      <td>0.0</td>\n",
       "      <td>0.0</td>\n",
       "      <td>0.0</td>\n",
       "      <td>0.0</td>\n",
       "      <td>0.0</td>\n",
       "      <td>0.0</td>\n",
       "      <td>0.0</td>\n",
       "      <td>0.0</td>\n",
       "      <td>0.0</td>\n",
       "      <td>0.0</td>\n",
       "      <td>0.0</td>\n",
       "      <td>0.0</td>\n",
       "      <td>0.0</td>\n",
       "      <td>0.0</td>\n",
       "      <td>0.0</td>\n",
       "      <td>0.0</td>\n",
       "      <td>0.00</td>\n",
       "    </tr>\n",
       "    <tr>\n",
       "      <th>4</th>\n",
       "      <td>2020-01-01</td>\n",
       "      <td>AO</td>\n",
       "      <td>0.0</td>\n",
       "      <td>0.0</td>\n",
       "      <td>0.0</td>\n",
       "      <td>0.0</td>\n",
       "      <td>0.0</td>\n",
       "      <td>0.0</td>\n",
       "      <td>0.0</td>\n",
       "      <td>0.0</td>\n",
       "      <td>0.0</td>\n",
       "      <td>0.0</td>\n",
       "      <td>0.0</td>\n",
       "      <td>0.0</td>\n",
       "      <td>0.0</td>\n",
       "      <td>0.0</td>\n",
       "      <td>0.0</td>\n",
       "      <td>0.0</td>\n",
       "      <td>0.0</td>\n",
       "      <td>0.00</td>\n",
       "    </tr>\n",
       "    <tr>\n",
       "      <th>...</th>\n",
       "      <td>...</td>\n",
       "      <td>...</td>\n",
       "      <td>...</td>\n",
       "      <td>...</td>\n",
       "      <td>...</td>\n",
       "      <td>...</td>\n",
       "      <td>...</td>\n",
       "      <td>...</td>\n",
       "      <td>...</td>\n",
       "      <td>...</td>\n",
       "      <td>...</td>\n",
       "      <td>...</td>\n",
       "      <td>...</td>\n",
       "      <td>...</td>\n",
       "      <td>...</td>\n",
       "      <td>...</td>\n",
       "      <td>...</td>\n",
       "      <td>...</td>\n",
       "      <td>...</td>\n",
       "      <td>...</td>\n",
       "    </tr>\n",
       "    <tr>\n",
       "      <th>86380</th>\n",
       "      <td>2020-12-02</td>\n",
       "      <td>CY</td>\n",
       "      <td>1.0</td>\n",
       "      <td>NaN</td>\n",
       "      <td>NaN</td>\n",
       "      <td>NaN</td>\n",
       "      <td>NaN</td>\n",
       "      <td>NaN</td>\n",
       "      <td>NaN</td>\n",
       "      <td>NaN</td>\n",
       "      <td>NaN</td>\n",
       "      <td>NaN</td>\n",
       "      <td>NaN</td>\n",
       "      <td>NaN</td>\n",
       "      <td>NaN</td>\n",
       "      <td>NaN</td>\n",
       "      <td>NaN</td>\n",
       "      <td>NaN</td>\n",
       "      <td>NaN</td>\n",
       "      <td>NaN</td>\n",
       "    </tr>\n",
       "    <tr>\n",
       "      <th>86381</th>\n",
       "      <td>2020-12-02</td>\n",
       "      <td>IR</td>\n",
       "      <td>3.0</td>\n",
       "      <td>3.0</td>\n",
       "      <td>2.0</td>\n",
       "      <td>4.0</td>\n",
       "      <td>1.0</td>\n",
       "      <td>1.0</td>\n",
       "      <td>2.0</td>\n",
       "      <td>3.0</td>\n",
       "      <td>1.0</td>\n",
       "      <td>1.0</td>\n",
       "      <td>0.0</td>\n",
       "      <td>0.0</td>\n",
       "      <td>1.0</td>\n",
       "      <td>2.0</td>\n",
       "      <td>1.0</td>\n",
       "      <td>NaN</td>\n",
       "      <td>NaN</td>\n",
       "      <td>70.83</td>\n",
       "    </tr>\n",
       "    <tr>\n",
       "      <th>86382</th>\n",
       "      <td>2020-12-02</td>\n",
       "      <td>LT</td>\n",
       "      <td>2.0</td>\n",
       "      <td>2.0</td>\n",
       "      <td>2.0</td>\n",
       "      <td>4.0</td>\n",
       "      <td>0.0</td>\n",
       "      <td>1.0</td>\n",
       "      <td>1.0</td>\n",
       "      <td>2.0</td>\n",
       "      <td>2.0</td>\n",
       "      <td>2.0</td>\n",
       "      <td>0.0</td>\n",
       "      <td>0.0</td>\n",
       "      <td>2.0</td>\n",
       "      <td>2.0</td>\n",
       "      <td>2.0</td>\n",
       "      <td>0.0</td>\n",
       "      <td>0.0</td>\n",
       "      <td>62.96</td>\n",
       "    </tr>\n",
       "    <tr>\n",
       "      <th>86383</th>\n",
       "      <td>2020-12-02</td>\n",
       "      <td>NO</td>\n",
       "      <td>0.0</td>\n",
       "      <td>1.0</td>\n",
       "      <td>2.0</td>\n",
       "      <td>3.0</td>\n",
       "      <td>0.0</td>\n",
       "      <td>1.0</td>\n",
       "      <td>1.0</td>\n",
       "      <td>2.0</td>\n",
       "      <td>2.0</td>\n",
       "      <td>0.0</td>\n",
       "      <td>0.0</td>\n",
       "      <td>0.0</td>\n",
       "      <td>2.0</td>\n",
       "      <td>2.0</td>\n",
       "      <td>2.0</td>\n",
       "      <td>0.0</td>\n",
       "      <td>0.0</td>\n",
       "      <td>49.07</td>\n",
       "    </tr>\n",
       "    <tr>\n",
       "      <th>86384</th>\n",
       "      <td>2020-12-02</td>\n",
       "      <td>TN</td>\n",
       "      <td>2.0</td>\n",
       "      <td>1.0</td>\n",
       "      <td>2.0</td>\n",
       "      <td>4.0</td>\n",
       "      <td>0.0</td>\n",
       "      <td>2.0</td>\n",
       "      <td>2.0</td>\n",
       "      <td>2.0</td>\n",
       "      <td>1.0</td>\n",
       "      <td>1.0</td>\n",
       "      <td>0.0</td>\n",
       "      <td>0.0</td>\n",
       "      <td>2.0</td>\n",
       "      <td>1.0</td>\n",
       "      <td>2.0</td>\n",
       "      <td>0.0</td>\n",
       "      <td>0.0</td>\n",
       "      <td>68.52</td>\n",
       "    </tr>\n",
       "  </tbody>\n",
       "</table>\n",
       "<p>86385 rows × 20 columns</p>\n",
       "</div>"
      ],
      "text/plain": [
       "             date key  school_closing  workplace_closing  \\\n",
       "0      2020-01-01  AD             0.0                0.0   \n",
       "1      2020-01-01  AE             0.0                0.0   \n",
       "2      2020-01-01  AF             0.0                0.0   \n",
       "3      2020-01-01  AL             0.0                0.0   \n",
       "4      2020-01-01  AO             0.0                0.0   \n",
       "...           ...  ..             ...                ...   \n",
       "86380  2020-12-02  CY             1.0                NaN   \n",
       "86381  2020-12-02  IR             3.0                3.0   \n",
       "86382  2020-12-02  LT             2.0                2.0   \n",
       "86383  2020-12-02  NO             0.0                1.0   \n",
       "86384  2020-12-02  TN             2.0                1.0   \n",
       "\n",
       "       cancel_public_events  restrictions_on_gatherings  \\\n",
       "0                       0.0                         0.0   \n",
       "1                       0.0                         0.0   \n",
       "2                       0.0                         0.0   \n",
       "3                       0.0                         0.0   \n",
       "4                       0.0                         0.0   \n",
       "...                     ...                         ...   \n",
       "86380                   NaN                         NaN   \n",
       "86381                   2.0                         4.0   \n",
       "86382                   2.0                         4.0   \n",
       "86383                   2.0                         3.0   \n",
       "86384                   2.0                         4.0   \n",
       "\n",
       "       public_transport_closing  stay_at_home_requirements  \\\n",
       "0                           0.0                        0.0   \n",
       "1                           0.0                        0.0   \n",
       "2                           0.0                        0.0   \n",
       "3                           0.0                        0.0   \n",
       "4                           0.0                        0.0   \n",
       "...                         ...                        ...   \n",
       "86380                       NaN                        NaN   \n",
       "86381                       1.0                        1.0   \n",
       "86382                       0.0                        1.0   \n",
       "86383                       0.0                        1.0   \n",
       "86384                       0.0                        2.0   \n",
       "\n",
       "       restrictions_on_internal_movement  international_travel_controls  \\\n",
       "0                                    0.0                            0.0   \n",
       "1                                    0.0                            0.0   \n",
       "2                                    0.0                            0.0   \n",
       "3                                    0.0                            0.0   \n",
       "4                                    0.0                            0.0   \n",
       "...                                  ...                            ...   \n",
       "86380                                NaN                            NaN   \n",
       "86381                                2.0                            3.0   \n",
       "86382                                1.0                            2.0   \n",
       "86383                                1.0                            2.0   \n",
       "86384                                2.0                            2.0   \n",
       "\n",
       "       income_support  debt_relief  fiscal_measures  international_support  \\\n",
       "0                 0.0          0.0              0.0                    0.0   \n",
       "1                 0.0          0.0              0.0                    0.0   \n",
       "2                 0.0          0.0              0.0                    0.0   \n",
       "3                 0.0          0.0              0.0                    0.0   \n",
       "4                 0.0          0.0              0.0                    0.0   \n",
       "...               ...          ...              ...                    ...   \n",
       "86380             NaN          NaN              NaN                    NaN   \n",
       "86381             1.0          1.0              0.0                    0.0   \n",
       "86382             2.0          2.0              0.0                    0.0   \n",
       "86383             2.0          0.0              0.0                    0.0   \n",
       "86384             1.0          1.0              0.0                    0.0   \n",
       "\n",
       "       public_information_campaigns  testing_policy  contact_tracing  \\\n",
       "0                               0.0             0.0              0.0   \n",
       "1                               0.0             0.0              0.0   \n",
       "2                               0.0             0.0              0.0   \n",
       "3                               0.0             0.0              0.0   \n",
       "4                               0.0             0.0              0.0   \n",
       "...                             ...             ...              ...   \n",
       "86380                           NaN             NaN              NaN   \n",
       "86381                           1.0             2.0              1.0   \n",
       "86382                           2.0             2.0              2.0   \n",
       "86383                           2.0             2.0              2.0   \n",
       "86384                           2.0             1.0              2.0   \n",
       "\n",
       "       emergency_investment_in_healthcare  investment_in_vaccines  \\\n",
       "0                                     0.0                     0.0   \n",
       "1                                     0.0                     0.0   \n",
       "2                                     0.0                     0.0   \n",
       "3                                     0.0                     0.0   \n",
       "4                                     0.0                     0.0   \n",
       "...                                   ...                     ...   \n",
       "86380                                 NaN                     NaN   \n",
       "86381                                 NaN                     NaN   \n",
       "86382                                 0.0                     0.0   \n",
       "86383                                 0.0                     0.0   \n",
       "86384                                 0.0                     0.0   \n",
       "\n",
       "       stringency_index  \n",
       "0                  0.00  \n",
       "1                  0.00  \n",
       "2                  0.00  \n",
       "3                  0.00  \n",
       "4                  0.00  \n",
       "...                 ...  \n",
       "86380               NaN  \n",
       "86381             70.83  \n",
       "86382             62.96  \n",
       "86383             49.07  \n",
       "86384             68.52  \n",
       "\n",
       "[86385 rows x 20 columns]"
      ]
     },
     "execution_count": 4,
     "metadata": {},
     "output_type": "execute_result"
    }
   ],
   "source": [
    "# Load CSV data directly from the URL with pandas, the options are needed to prevent\n",
    "# reading of records with key \"NA\" (Namibia) as NaN\n",
    "data = pd.read_csv(\n",
    "    \"https://storage.googleapis.com/covid19-open-data/v2/oxford-government-response.csv\",\n",
    "    keep_default_na=False,\n",
    "    na_values=[\"\"],\n",
    ")\n",
    "\n",
    "# NOTE: We are only downloading the last day of data, but you can download all\n",
    "# the data at once if you'd like by changing the URL to:\n",
    "# https://storage.googleapis.com/covid19-open-data/v2/main.csv\n",
    "\n",
    "# Print a small snippet of the dataset\n",
    "print(f\"The dataset currently contains {len(data)} records, here is a sample:\")\n",
    "data"
   ]
  },
  {
   "cell_type": "code",
   "execution_count": 5,
   "metadata": {},
   "outputs": [
    {
     "data": {
      "text/plain": [
       "pandas.core.frame.DataFrame"
      ]
     },
     "execution_count": 5,
     "metadata": {},
     "output_type": "execute_result"
    }
   ],
   "source": [
    "type(data)"
   ]
  },
  {
   "cell_type": "markdown",
   "metadata": {},
   "source": [
    "choose specific policies (closure and health)"
   ]
  },
  {
   "cell_type": "code",
   "execution_count": 6,
   "metadata": {},
   "outputs": [
    {
     "data": {
      "text/html": [
       "<div>\n",
       "<style scoped>\n",
       "    .dataframe tbody tr th:only-of-type {\n",
       "        vertical-align: middle;\n",
       "    }\n",
       "\n",
       "    .dataframe tbody tr th {\n",
       "        vertical-align: top;\n",
       "    }\n",
       "\n",
       "    .dataframe thead th {\n",
       "        text-align: right;\n",
       "    }\n",
       "</style>\n",
       "<table border=\"1\" class=\"dataframe\">\n",
       "  <thead>\n",
       "    <tr style=\"text-align: right;\">\n",
       "      <th></th>\n",
       "      <th>date</th>\n",
       "      <th>key</th>\n",
       "      <th>testing_policy</th>\n",
       "    </tr>\n",
       "  </thead>\n",
       "  <tbody>\n",
       "    <tr>\n",
       "      <th>0</th>\n",
       "      <td>2020-01-01</td>\n",
       "      <td>AD</td>\n",
       "      <td>0.000000</td>\n",
       "    </tr>\n",
       "    <tr>\n",
       "      <th>1</th>\n",
       "      <td>2020-01-01</td>\n",
       "      <td>AE</td>\n",
       "      <td>0.000000</td>\n",
       "    </tr>\n",
       "    <tr>\n",
       "      <th>2</th>\n",
       "      <td>2020-01-01</td>\n",
       "      <td>AF</td>\n",
       "      <td>0.000000</td>\n",
       "    </tr>\n",
       "    <tr>\n",
       "      <th>3</th>\n",
       "      <td>2020-01-01</td>\n",
       "      <td>AL</td>\n",
       "      <td>0.000000</td>\n",
       "    </tr>\n",
       "    <tr>\n",
       "      <th>4</th>\n",
       "      <td>2020-01-01</td>\n",
       "      <td>AO</td>\n",
       "      <td>0.000000</td>\n",
       "    </tr>\n",
       "    <tr>\n",
       "      <th>...</th>\n",
       "      <td>...</td>\n",
       "      <td>...</td>\n",
       "      <td>...</td>\n",
       "    </tr>\n",
       "    <tr>\n",
       "      <th>86380</th>\n",
       "      <td>2020-12-02</td>\n",
       "      <td>CY</td>\n",
       "      <td>NaN</td>\n",
       "    </tr>\n",
       "    <tr>\n",
       "      <th>86381</th>\n",
       "      <td>2020-12-02</td>\n",
       "      <td>IR</td>\n",
       "      <td>0.666667</td>\n",
       "    </tr>\n",
       "    <tr>\n",
       "      <th>86382</th>\n",
       "      <td>2020-12-02</td>\n",
       "      <td>LT</td>\n",
       "      <td>0.666667</td>\n",
       "    </tr>\n",
       "    <tr>\n",
       "      <th>86383</th>\n",
       "      <td>2020-12-02</td>\n",
       "      <td>NO</td>\n",
       "      <td>0.666667</td>\n",
       "    </tr>\n",
       "    <tr>\n",
       "      <th>86384</th>\n",
       "      <td>2020-12-02</td>\n",
       "      <td>TN</td>\n",
       "      <td>0.333333</td>\n",
       "    </tr>\n",
       "  </tbody>\n",
       "</table>\n",
       "<p>86385 rows × 3 columns</p>\n",
       "</div>"
      ],
      "text/plain": [
       "             date key  testing_policy\n",
       "0      2020-01-01  AD        0.000000\n",
       "1      2020-01-01  AE        0.000000\n",
       "2      2020-01-01  AF        0.000000\n",
       "3      2020-01-01  AL        0.000000\n",
       "4      2020-01-01  AO        0.000000\n",
       "...           ...  ..             ...\n",
       "86380  2020-12-02  CY             NaN\n",
       "86381  2020-12-02  IR        0.666667\n",
       "86382  2020-12-02  LT        0.666667\n",
       "86383  2020-12-02  NO        0.666667\n",
       "86384  2020-12-02  TN        0.333333\n",
       "\n",
       "[86385 rows x 3 columns]"
      ]
     },
     "execution_count": 6,
     "metadata": {},
     "output_type": "execute_result"
    }
   ],
   "source": [
    "data_health_testing_policy = data[['date','key', 'testing_policy']] \n",
    "s1 = (data_health_testing_policy['testing_policy'] - data_health_testing_policy['testing_policy'].min())/(data_health_testing_policy['testing_policy'].max() - data_health_testing_policy['testing_policy'].min())\n",
    "data_health_testing_policy = data_health_testing_policy.drop(['testing_policy'],axis=1)\n",
    "data_health_testing_policy.insert(2,'testing_policy',s1)\n",
    "data_health_testing_policy"
   ]
  },
  {
   "cell_type": "code",
   "execution_count": 7,
   "metadata": {},
   "outputs": [
    {
     "data": {
      "text/html": [
       "<div>\n",
       "<style scoped>\n",
       "    .dataframe tbody tr th:only-of-type {\n",
       "        vertical-align: middle;\n",
       "    }\n",
       "\n",
       "    .dataframe tbody tr th {\n",
       "        vertical-align: top;\n",
       "    }\n",
       "\n",
       "    .dataframe thead th {\n",
       "        text-align: right;\n",
       "    }\n",
       "</style>\n",
       "<table border=\"1\" class=\"dataframe\">\n",
       "  <thead>\n",
       "    <tr style=\"text-align: right;\">\n",
       "      <th></th>\n",
       "      <th>date</th>\n",
       "      <th>key</th>\n",
       "      <th>contact_tracing</th>\n",
       "    </tr>\n",
       "  </thead>\n",
       "  <tbody>\n",
       "    <tr>\n",
       "      <th>0</th>\n",
       "      <td>2020-01-01</td>\n",
       "      <td>AD</td>\n",
       "      <td>0.0</td>\n",
       "    </tr>\n",
       "    <tr>\n",
       "      <th>1</th>\n",
       "      <td>2020-01-01</td>\n",
       "      <td>AE</td>\n",
       "      <td>0.0</td>\n",
       "    </tr>\n",
       "    <tr>\n",
       "      <th>2</th>\n",
       "      <td>2020-01-01</td>\n",
       "      <td>AF</td>\n",
       "      <td>0.0</td>\n",
       "    </tr>\n",
       "    <tr>\n",
       "      <th>3</th>\n",
       "      <td>2020-01-01</td>\n",
       "      <td>AL</td>\n",
       "      <td>0.0</td>\n",
       "    </tr>\n",
       "    <tr>\n",
       "      <th>4</th>\n",
       "      <td>2020-01-01</td>\n",
       "      <td>AO</td>\n",
       "      <td>0.0</td>\n",
       "    </tr>\n",
       "    <tr>\n",
       "      <th>...</th>\n",
       "      <td>...</td>\n",
       "      <td>...</td>\n",
       "      <td>...</td>\n",
       "    </tr>\n",
       "    <tr>\n",
       "      <th>86380</th>\n",
       "      <td>2020-12-02</td>\n",
       "      <td>CY</td>\n",
       "      <td>NaN</td>\n",
       "    </tr>\n",
       "    <tr>\n",
       "      <th>86381</th>\n",
       "      <td>2020-12-02</td>\n",
       "      <td>IR</td>\n",
       "      <td>0.5</td>\n",
       "    </tr>\n",
       "    <tr>\n",
       "      <th>86382</th>\n",
       "      <td>2020-12-02</td>\n",
       "      <td>LT</td>\n",
       "      <td>1.0</td>\n",
       "    </tr>\n",
       "    <tr>\n",
       "      <th>86383</th>\n",
       "      <td>2020-12-02</td>\n",
       "      <td>NO</td>\n",
       "      <td>1.0</td>\n",
       "    </tr>\n",
       "    <tr>\n",
       "      <th>86384</th>\n",
       "      <td>2020-12-02</td>\n",
       "      <td>TN</td>\n",
       "      <td>1.0</td>\n",
       "    </tr>\n",
       "  </tbody>\n",
       "</table>\n",
       "<p>86385 rows × 3 columns</p>\n",
       "</div>"
      ],
      "text/plain": [
       "             date key  contact_tracing\n",
       "0      2020-01-01  AD              0.0\n",
       "1      2020-01-01  AE              0.0\n",
       "2      2020-01-01  AF              0.0\n",
       "3      2020-01-01  AL              0.0\n",
       "4      2020-01-01  AO              0.0\n",
       "...           ...  ..              ...\n",
       "86380  2020-12-02  CY              NaN\n",
       "86381  2020-12-02  IR              0.5\n",
       "86382  2020-12-02  LT              1.0\n",
       "86383  2020-12-02  NO              1.0\n",
       "86384  2020-12-02  TN              1.0\n",
       "\n",
       "[86385 rows x 3 columns]"
      ]
     },
     "execution_count": 7,
     "metadata": {},
     "output_type": "execute_result"
    }
   ],
   "source": [
    "data_health_contact_tracing = data[['date','key', 'contact_tracing']] \n",
    "s1 = (data_health_contact_tracing['contact_tracing'] - data_health_contact_tracing['contact_tracing'].min())/(data_health_contact_tracing['contact_tracing'].max() - data_health_contact_tracing['contact_tracing'].min())\n",
    "data_health_contact_tracing = data_health_contact_tracing.drop(['contact_tracing'],axis=1)\n",
    "data_health_contact_tracing.insert(2,'contact_tracing',s1)\n",
    "data_health_contact_tracing"
   ]
  },
  {
   "cell_type": "code",
   "execution_count": 8,
   "metadata": {},
   "outputs": [
    {
     "data": {
      "text/html": [
       "<div>\n",
       "<style scoped>\n",
       "    .dataframe tbody tr th:only-of-type {\n",
       "        vertical-align: middle;\n",
       "    }\n",
       "\n",
       "    .dataframe tbody tr th {\n",
       "        vertical-align: top;\n",
       "    }\n",
       "\n",
       "    .dataframe thead th {\n",
       "        text-align: right;\n",
       "    }\n",
       "</style>\n",
       "<table border=\"1\" class=\"dataframe\">\n",
       "  <thead>\n",
       "    <tr style=\"text-align: right;\">\n",
       "      <th></th>\n",
       "      <th>date</th>\n",
       "      <th>key</th>\n",
       "      <th>emergency_investment_in_healthcare</th>\n",
       "    </tr>\n",
       "  </thead>\n",
       "  <tbody>\n",
       "    <tr>\n",
       "      <th>0</th>\n",
       "      <td>2020-01-01</td>\n",
       "      <td>AD</td>\n",
       "      <td>0.0</td>\n",
       "    </tr>\n",
       "    <tr>\n",
       "      <th>1</th>\n",
       "      <td>2020-01-01</td>\n",
       "      <td>AE</td>\n",
       "      <td>0.0</td>\n",
       "    </tr>\n",
       "    <tr>\n",
       "      <th>2</th>\n",
       "      <td>2020-01-01</td>\n",
       "      <td>AF</td>\n",
       "      <td>0.0</td>\n",
       "    </tr>\n",
       "    <tr>\n",
       "      <th>3</th>\n",
       "      <td>2020-01-01</td>\n",
       "      <td>AL</td>\n",
       "      <td>0.0</td>\n",
       "    </tr>\n",
       "    <tr>\n",
       "      <th>4</th>\n",
       "      <td>2020-01-01</td>\n",
       "      <td>AO</td>\n",
       "      <td>0.0</td>\n",
       "    </tr>\n",
       "    <tr>\n",
       "      <th>...</th>\n",
       "      <td>...</td>\n",
       "      <td>...</td>\n",
       "      <td>...</td>\n",
       "    </tr>\n",
       "    <tr>\n",
       "      <th>86380</th>\n",
       "      <td>2020-12-02</td>\n",
       "      <td>CY</td>\n",
       "      <td>NaN</td>\n",
       "    </tr>\n",
       "    <tr>\n",
       "      <th>86381</th>\n",
       "      <td>2020-12-02</td>\n",
       "      <td>IR</td>\n",
       "      <td>NaN</td>\n",
       "    </tr>\n",
       "    <tr>\n",
       "      <th>86382</th>\n",
       "      <td>2020-12-02</td>\n",
       "      <td>LT</td>\n",
       "      <td>0.0</td>\n",
       "    </tr>\n",
       "    <tr>\n",
       "      <th>86383</th>\n",
       "      <td>2020-12-02</td>\n",
       "      <td>NO</td>\n",
       "      <td>0.0</td>\n",
       "    </tr>\n",
       "    <tr>\n",
       "      <th>86384</th>\n",
       "      <td>2020-12-02</td>\n",
       "      <td>TN</td>\n",
       "      <td>0.0</td>\n",
       "    </tr>\n",
       "  </tbody>\n",
       "</table>\n",
       "<p>86385 rows × 3 columns</p>\n",
       "</div>"
      ],
      "text/plain": [
       "             date key  emergency_investment_in_healthcare\n",
       "0      2020-01-01  AD                                 0.0\n",
       "1      2020-01-01  AE                                 0.0\n",
       "2      2020-01-01  AF                                 0.0\n",
       "3      2020-01-01  AL                                 0.0\n",
       "4      2020-01-01  AO                                 0.0\n",
       "...           ...  ..                                 ...\n",
       "86380  2020-12-02  CY                                 NaN\n",
       "86381  2020-12-02  IR                                 NaN\n",
       "86382  2020-12-02  LT                                 0.0\n",
       "86383  2020-12-02  NO                                 0.0\n",
       "86384  2020-12-02  TN                                 0.0\n",
       "\n",
       "[86385 rows x 3 columns]"
      ]
     },
     "execution_count": 8,
     "metadata": {},
     "output_type": "execute_result"
    }
   ],
   "source": [
    "data_health_emergency_investment_in_healthcare = data[['date','key', 'emergency_investment_in_healthcare']] \n",
    "s1 = (data_health_emergency_investment_in_healthcare['emergency_investment_in_healthcare'] - data_health_emergency_investment_in_healthcare['emergency_investment_in_healthcare'].min())/(data_health_emergency_investment_in_healthcare['emergency_investment_in_healthcare'].max() - data_health_emergency_investment_in_healthcare['emergency_investment_in_healthcare'].min())\n",
    "data_health_emergency_investment_in_healthcare = data_health_emergency_investment_in_healthcare.drop(['emergency_investment_in_healthcare'],axis=1)\n",
    "data_health_emergency_investment_in_healthcare.insert(2,'emergency_investment_in_healthcare',s1)\n",
    "data_health_emergency_investment_in_healthcare"
   ]
  },
  {
   "cell_type": "code",
   "execution_count": 9,
   "metadata": {},
   "outputs": [
    {
     "data": {
      "text/html": [
       "<div>\n",
       "<style scoped>\n",
       "    .dataframe tbody tr th:only-of-type {\n",
       "        vertical-align: middle;\n",
       "    }\n",
       "\n",
       "    .dataframe tbody tr th {\n",
       "        vertical-align: top;\n",
       "    }\n",
       "\n",
       "    .dataframe thead th {\n",
       "        text-align: right;\n",
       "    }\n",
       "</style>\n",
       "<table border=\"1\" class=\"dataframe\">\n",
       "  <thead>\n",
       "    <tr style=\"text-align: right;\">\n",
       "      <th></th>\n",
       "      <th>date</th>\n",
       "      <th>key</th>\n",
       "      <th>investment_in_vaccines</th>\n",
       "    </tr>\n",
       "  </thead>\n",
       "  <tbody>\n",
       "    <tr>\n",
       "      <th>0</th>\n",
       "      <td>2020-01-01</td>\n",
       "      <td>AD</td>\n",
       "      <td>0.0</td>\n",
       "    </tr>\n",
       "    <tr>\n",
       "      <th>1</th>\n",
       "      <td>2020-01-01</td>\n",
       "      <td>AE</td>\n",
       "      <td>0.0</td>\n",
       "    </tr>\n",
       "    <tr>\n",
       "      <th>2</th>\n",
       "      <td>2020-01-01</td>\n",
       "      <td>AF</td>\n",
       "      <td>0.0</td>\n",
       "    </tr>\n",
       "    <tr>\n",
       "      <th>3</th>\n",
       "      <td>2020-01-01</td>\n",
       "      <td>AL</td>\n",
       "      <td>0.0</td>\n",
       "    </tr>\n",
       "    <tr>\n",
       "      <th>4</th>\n",
       "      <td>2020-01-01</td>\n",
       "      <td>AO</td>\n",
       "      <td>0.0</td>\n",
       "    </tr>\n",
       "    <tr>\n",
       "      <th>...</th>\n",
       "      <td>...</td>\n",
       "      <td>...</td>\n",
       "      <td>...</td>\n",
       "    </tr>\n",
       "    <tr>\n",
       "      <th>86380</th>\n",
       "      <td>2020-12-02</td>\n",
       "      <td>CY</td>\n",
       "      <td>NaN</td>\n",
       "    </tr>\n",
       "    <tr>\n",
       "      <th>86381</th>\n",
       "      <td>2020-12-02</td>\n",
       "      <td>IR</td>\n",
       "      <td>NaN</td>\n",
       "    </tr>\n",
       "    <tr>\n",
       "      <th>86382</th>\n",
       "      <td>2020-12-02</td>\n",
       "      <td>LT</td>\n",
       "      <td>0.0</td>\n",
       "    </tr>\n",
       "    <tr>\n",
       "      <th>86383</th>\n",
       "      <td>2020-12-02</td>\n",
       "      <td>NO</td>\n",
       "      <td>0.0</td>\n",
       "    </tr>\n",
       "    <tr>\n",
       "      <th>86384</th>\n",
       "      <td>2020-12-02</td>\n",
       "      <td>TN</td>\n",
       "      <td>0.0</td>\n",
       "    </tr>\n",
       "  </tbody>\n",
       "</table>\n",
       "<p>86385 rows × 3 columns</p>\n",
       "</div>"
      ],
      "text/plain": [
       "             date key  investment_in_vaccines\n",
       "0      2020-01-01  AD                     0.0\n",
       "1      2020-01-01  AE                     0.0\n",
       "2      2020-01-01  AF                     0.0\n",
       "3      2020-01-01  AL                     0.0\n",
       "4      2020-01-01  AO                     0.0\n",
       "...           ...  ..                     ...\n",
       "86380  2020-12-02  CY                     NaN\n",
       "86381  2020-12-02  IR                     NaN\n",
       "86382  2020-12-02  LT                     0.0\n",
       "86383  2020-12-02  NO                     0.0\n",
       "86384  2020-12-02  TN                     0.0\n",
       "\n",
       "[86385 rows x 3 columns]"
      ]
     },
     "execution_count": 9,
     "metadata": {},
     "output_type": "execute_result"
    }
   ],
   "source": [
    "data_health_investment_in_vaccines = data[['date','key', 'investment_in_vaccines']] \n",
    "s1 = (data_health_investment_in_vaccines['investment_in_vaccines'] - data_health_investment_in_vaccines['investment_in_vaccines'].min())/(data_health_investment_in_vaccines['investment_in_vaccines'].max() - data_health_investment_in_vaccines['investment_in_vaccines'].min())\n",
    "data_health_investment_in_vaccines = data_health_investment_in_vaccines.drop(['investment_in_vaccines'],axis=1)\n",
    "data_health_investment_in_vaccines.insert(2,'investment_in_vaccines',s1)\n",
    "data_health_investment_in_vaccines"
   ]
  },
  {
   "cell_type": "markdown",
   "metadata": {},
   "source": [
    "pick: \n",
    "GREEN \n",
    "1. Australia              AU\n",
    "2. New Zealand       NZ\n",
    "3. Singapore           SG  \n",
    "4. Thailand              TH\n",
    "5. Somalia               SO\n",
    "\n",
    "YELLOW\n",
    "1. China                CN   \n",
    "2. Egypt                EG\n",
    "3. Israel                 IL\n",
    "4. Kyrgyzstan       KG\n",
    "5. Tajikistan          TJ\n",
    "\n",
    "RED\n",
    "1. USA                 US\n",
    "2. Brazil               BR\n",
    "3. Canada           CA\n",
    "4. Philippines      PH\n",
    "5. Russia            RU\n"
   ]
  },
  {
   "cell_type": "markdown",
   "metadata": {},
   "source": [
    "Australia, New Zealand, Singapore, Thailand, Somalia"
   ]
  },
  {
   "cell_type": "code",
   "execution_count": 10,
   "metadata": {},
   "outputs": [
    {
     "name": "stdout",
     "output_type": "stream",
     "text": [
      "0.7174129353233832\n",
      "0.9283582089552239\n",
      "2.2910983079651246e-05\n",
      "0.0010561259347230281\n"
     ]
    }
   ],
   "source": [
    "data_health_testing_policy_AU = data_health_testing_policy[data_health_testing_policy['key'] == \"AU\"]\n",
    "AU_testing_policy_average = data_health_testing_policy_AU.mean(axis=0)\n",
    "AU_testing_policy_average = AU_testing_policy_average.mean()\n",
    "print(AU_testing_policy_average)\n",
    "data_health_contact_tracing_AU = data_health_contact_tracing[data_health_contact_tracing['key'] == \"AU\"]\n",
    "AU_contact_tracing_average = data_health_contact_tracing_AU.mean(axis=0)\n",
    "AU_contact_tracing_average = AU_contact_tracing_average.mean()\n",
    "print(AU_contact_tracing_average)\n",
    "data_health_emergency_investment_in_healthcare_AU = data_health_emergency_investment_in_healthcare[data_health_emergency_investment_in_healthcare['key'] == \"AU\"]\n",
    "AU_emergency_investment_in_healthcare_average = data_health_emergency_investment_in_healthcare_AU.mean(axis=0)\n",
    "AU_emergency_investment_in_healthcare_average = AU_emergency_investment_in_healthcare_average.mean()\n",
    "print(AU_emergency_investment_in_healthcare_average)\n",
    "data_health_investment_in_vaccines_AU = data_health_investment_in_vaccines[data_health_investment_in_vaccines['key'] == \"AU\"]\n",
    "AU_investment_in_vaccines_average = data_health_investment_in_vaccines_AU.mean(axis=0)\n",
    "AU_investment_in_vaccines_average = AU_investment_in_vaccines_average.mean()\n",
    "print(AU_investment_in_vaccines_average)"
   ]
  },
  {
   "cell_type": "code",
   "execution_count": 11,
   "metadata": {},
   "outputs": [
    {
     "name": "stdout",
     "output_type": "stream",
     "text": [
      "0.5184079601990049\n",
      "0.826865671641791\n",
      "3.660264789911827e-06\n",
      "9.088050764441768e-06\n"
     ]
    }
   ],
   "source": [
    "data_health_testing_policy_NZ = data_health_testing_policy[data_health_testing_policy['key'] == \"NZ\"]\n",
    "NZ_testing_policy_average = data_health_testing_policy_NZ.mean(axis=0)\n",
    "NZ_testing_policy_average = NZ_testing_policy_average.mean()\n",
    "print(NZ_testing_policy_average)\n",
    "data_health_contact_tracing_NZ = data_health_contact_tracing[data_health_contact_tracing['key'] == \"NZ\"]\n",
    "NZ_contact_tracing_average = data_health_contact_tracing_NZ.mean(axis=0)\n",
    "NZ_contact_tracing_average = NZ_contact_tracing_average.mean()\n",
    "print(NZ_contact_tracing_average)\n",
    "data_health_emergency_investment_in_healthcare_NZ = data_health_emergency_investment_in_healthcare[data_health_emergency_investment_in_healthcare['key'] == \"NZ\"]\n",
    "NZ_emergency_investment_in_healthcare_average = data_health_emergency_investment_in_healthcare_NZ.mean(axis=0)\n",
    "NZ_emergency_investment_in_healthcare_average = NZ_emergency_investment_in_healthcare_average.mean()\n",
    "print(NZ_emergency_investment_in_healthcare_average)\n",
    "data_health_investment_in_vaccines_NZ = data_health_investment_in_vaccines[data_health_investment_in_vaccines['key'] == \"NZ\"]\n",
    "NZ_investment_in_vaccines_average = data_health_investment_in_vaccines_NZ.mean(axis=0)\n",
    "NZ_investment_in_vaccines_average = NZ_investment_in_vaccines_average.mean()\n",
    "print(NZ_investment_in_vaccines_average)"
   ]
  },
  {
   "cell_type": "code",
   "execution_count": 12,
   "metadata": {},
   "outputs": [
    {
     "name": "stdout",
     "output_type": "stream",
     "text": [
      "0.6432926829268293\n",
      "0.9420731707317073\n",
      "7.043387265555823e-08\n",
      "0.0\n"
     ]
    }
   ],
   "source": [
    "data_health_testing_policy_SG = data_health_testing_policy[data_health_testing_policy['key'] == \"SG\"]\n",
    "SG_testing_policy_average = data_health_testing_policy_SG.mean(axis=0)\n",
    "SG_testing_policy_average = SG_testing_policy_average.mean()\n",
    "print(SG_testing_policy_average)\n",
    "data_health_contact_tracing_SG = data_health_contact_tracing[data_health_contact_tracing['key'] == \"SG\"]\n",
    "SG_contact_tracing_average = data_health_contact_tracing_SG.mean(axis=0)\n",
    "SG_contact_tracing_average = SG_contact_tracing_average.mean()\n",
    "print(SG_contact_tracing_average)\n",
    "data_health_emergency_investment_in_healthcare_SG = data_health_emergency_investment_in_healthcare[data_health_emergency_investment_in_healthcare['key'] == \"SG\"]\n",
    "SG_emergency_investment_in_healthcare_average = data_health_emergency_investment_in_healthcare_SG.mean(axis=0)\n",
    "SG_emergency_investment_in_healthcare_average = SG_emergency_investment_in_healthcare_average.mean()\n",
    "print(SG_emergency_investment_in_healthcare_average)\n",
    "data_health_investment_in_vaccines_SG = data_health_investment_in_vaccines[data_health_investment_in_vaccines['key'] == \"SG\"]\n",
    "SG_investment_in_vaccines_average = data_health_investment_in_vaccines_SG.mean(axis=0)\n",
    "SG_investment_in_vaccines_average = SG_investment_in_vaccines_average.mean()\n",
    "print(SG_investment_in_vaccines_average)"
   ]
  },
  {
   "cell_type": "code",
   "execution_count": 13,
   "metadata": {},
   "outputs": [
    {
     "name": "stdout",
     "output_type": "stream",
     "text": [
      "0.48502994011976047\n",
      "0.6796407185628742\n",
      "0.00023906120977105195\n",
      "0.0006017835374225664\n"
     ]
    }
   ],
   "source": [
    "data_health_testing_policy_TH = data_health_testing_policy[data_health_testing_policy['key'] == \"TH\"]\n",
    "TH_testing_policy_average = data_health_testing_policy_TH.mean(axis=0)\n",
    "TH_testing_policy_average = TH_testing_policy_average.mean()\n",
    "print(TH_testing_policy_average)\n",
    "data_health_contact_tracing_TH = data_health_contact_tracing[data_health_contact_tracing['key'] == \"TH\"]\n",
    "TH_contact_tracing_average = data_health_contact_tracing_TH.mean(axis=0)\n",
    "TH_contact_tracing_average = TH_contact_tracing_average.mean()\n",
    "print(TH_contact_tracing_average)\n",
    "data_health_emergency_investment_in_healthcare_TH = data_health_emergency_investment_in_healthcare[data_health_emergency_investment_in_healthcare['key'] == \"TH\"]\n",
    "TH_emergency_investment_in_healthcare_average = data_health_emergency_investment_in_healthcare_TH.mean(axis=0)\n",
    "TH_emergency_investment_in_healthcare_average = TH_emergency_investment_in_healthcare_average.mean()\n",
    "print(TH_emergency_investment_in_healthcare_average)\n",
    "data_health_investment_in_vaccines_TH = data_health_investment_in_vaccines[data_health_investment_in_vaccines['key'] == \"TH\"]\n",
    "TH_investment_in_vaccines_average = data_health_investment_in_vaccines_TH.mean(axis=0)\n",
    "TH_investment_in_vaccines_average = TH_investment_in_vaccines_average.mean()\n",
    "print(TH_investment_in_vaccines_average)"
   ]
  },
  {
   "cell_type": "code",
   "execution_count": 14,
   "metadata": {},
   "outputs": [
    {
     "name": "stdout",
     "output_type": "stream",
     "text": [
      "0.3003003003003003\n",
      "0.15015015015015015\n",
      "0.0\n",
      "0.0\n"
     ]
    }
   ],
   "source": [
    "data_health_testing_policy_SO = data_health_testing_policy[data_health_testing_policy['key'] == \"SO\"]\n",
    "SO_testing_policy_average = data_health_testing_policy_SO.mean(axis=0)\n",
    "SO_testing_policy_average = SO_testing_policy_average.mean()\n",
    "print(SO_testing_policy_average)\n",
    "data_health_contact_tracing_SO = data_health_contact_tracing[data_health_contact_tracing['key'] == \"SO\"]\n",
    "SO_contact_tracing_average = data_health_contact_tracing_SO.mean(axis=0)\n",
    "SO_contact_tracing_average = SO_contact_tracing_average.mean()\n",
    "print(SO_contact_tracing_average)\n",
    "data_health_emergency_investment_in_healthcare_SO = data_health_emergency_investment_in_healthcare[data_health_emergency_investment_in_healthcare['key'] == \"SO\"]\n",
    "SO_emergency_investment_in_healthcare_average = data_health_emergency_investment_in_healthcare_SO.mean(axis=0)\n",
    "SO_emergency_investment_in_healthcare_average = SO_emergency_investment_in_healthcare_average.mean()\n",
    "print(SO_emergency_investment_in_healthcare_average)\n",
    "data_health_investment_in_vaccines_SO = data_health_investment_in_vaccines[data_health_investment_in_vaccines['key'] == \"SO\"]\n",
    "SO_investment_in_vaccines_average = data_health_investment_in_vaccines_SO.mean(axis=0)\n",
    "SO_investment_in_vaccines_average = SO_investment_in_vaccines_average.mean()\n",
    "print(SO_investment_in_vaccines_average)"
   ]
  },
  {
   "cell_type": "markdown",
   "metadata": {},
   "source": [
    "China, Egypt, Israel, Kyrgyzstan, Tajikistan"
   ]
  },
  {
   "cell_type": "code",
   "execution_count": 15,
   "metadata": {},
   "outputs": [
    {
     "name": "stdout",
     "output_type": "stream",
     "text": [
      "0.8638638638638637\n",
      "0.993993993993994\n",
      "0.00025776589950098614\n",
      "0.0\n"
     ]
    }
   ],
   "source": [
    "data_health_testing_policy_CN = data_health_testing_policy[data_health_testing_policy['key'] == \"CN\"]\n",
    "CN_testing_policy_average = data_health_testing_policy_CN.mean(axis=0)\n",
    "CN_testing_policy_average = CN_testing_policy_average.mean()\n",
    "print(CN_testing_policy_average)\n",
    "data_health_contact_tracing_CN = data_health_contact_tracing[data_health_contact_tracing['key'] == \"CN\"]\n",
    "CN_contact_tracing_average = data_health_contact_tracing_CN.mean(axis=0)\n",
    "CN_contact_tracing_average = CN_contact_tracing_average.mean()\n",
    "print(CN_contact_tracing_average)\n",
    "data_health_emergency_investment_in_healthcare_CN = data_health_emergency_investment_in_healthcare[data_health_emergency_investment_in_healthcare['key'] == \"CN\"]\n",
    "CN_emergency_investment_in_healthcare_average = data_health_emergency_investment_in_healthcare_CN.mean(axis=0)\n",
    "CN_emergency_investment_in_healthcare_average = CN_emergency_investment_in_healthcare_average.mean()\n",
    "print(CN_emergency_investment_in_healthcare_average)\n",
    "data_health_investment_in_vaccines_CN = data_health_investment_in_vaccines[data_health_investment_in_vaccines['key'] == \"CN\"]\n",
    "CN_investment_in_vaccines_average = data_health_investment_in_vaccines_CN.mean(axis=0)\n",
    "CN_investment_in_vaccines_average = CN_investment_in_vaccines_average.mean()\n",
    "print(CN_investment_in_vaccines_average)"
   ]
  },
  {
   "cell_type": "code",
   "execution_count": 16,
   "metadata": {},
   "outputs": [
    {
     "name": "stdout",
     "output_type": "stream",
     "text": [
      "0.4780439121756487\n",
      "0.8682634730538922\n",
      "7.348916029327484e-06\n",
      "0.0\n"
     ]
    }
   ],
   "source": [
    "data_health_testing_policy_EG = data_health_testing_policy[data_health_testing_policy['key'] == \"EG\"]\n",
    "EG_testing_policy_average = data_health_testing_policy_EG.mean(axis=0)\n",
    "EG_testing_policy_average = EG_testing_policy_average.mean()\n",
    "print(EG_testing_policy_average)\n",
    "data_health_contact_tracing_EG = data_health_contact_tracing[data_health_contact_tracing['key'] == \"EG\"]\n",
    "EG_contact_tracing_average = data_health_contact_tracing_EG.mean(axis=0)\n",
    "EG_contact_tracing_average = EG_contact_tracing_average.mean()\n",
    "print(EG_contact_tracing_average)\n",
    "data_health_emergency_investment_in_healthcare_EG = data_health_emergency_investment_in_healthcare[data_health_emergency_investment_in_healthcare['key'] == \"EG\"]\n",
    "EG_emergency_investment_in_healthcare_average = data_health_emergency_investment_in_healthcare_EG.mean(axis=0)\n",
    "EG_emergency_investment_in_healthcare_average = EG_emergency_investment_in_healthcare_average.mean()\n",
    "print(EG_emergency_investment_in_healthcare_average)\n",
    "data_health_investment_in_vaccines_EG = data_health_investment_in_vaccines[data_health_investment_in_vaccines['key'] == \"EG\"]\n",
    "EG_investment_in_vaccines_average = data_health_investment_in_vaccines_EG.mean(axis=0)\n",
    "EG_investment_in_vaccines_average = EG_investment_in_vaccines_average.mean()\n",
    "print(EG_investment_in_vaccines_average)"
   ]
  },
  {
   "cell_type": "code",
   "execution_count": 17,
   "metadata": {},
   "outputs": [
    {
     "name": "stdout",
     "output_type": "stream",
     "text": [
      "0.49850746268656715\n",
      "0.6059701492537314\n",
      "5.0508669523668784e-05\n",
      "2.277569019277281e-05\n"
     ]
    }
   ],
   "source": [
    "data_health_testing_policy_IL = data_health_testing_policy[data_health_testing_policy['key'] == \"IL\"]\n",
    "IL_testing_policy_average = data_health_testing_policy_IL.mean(axis=0)\n",
    "IL_testing_policy_average = IL_testing_policy_average.mean()\n",
    "print(IL_testing_policy_average)\n",
    "data_health_contact_tracing_IL = data_health_contact_tracing[data_health_contact_tracing['key'] == \"IL\"]\n",
    "IL_contact_tracing_average = data_health_contact_tracing_IL.mean(axis=0)\n",
    "IL_contact_tracing_average = IL_contact_tracing_average.mean()\n",
    "print(IL_contact_tracing_average)\n",
    "data_health_emergency_investment_in_healthcare_IL = data_health_emergency_investment_in_healthcare[data_health_emergency_investment_in_healthcare['key'] == \"IL\"]\n",
    "IL_emergency_investment_in_healthcare_average = data_health_emergency_investment_in_healthcare_IL.mean(axis=0)\n",
    "IL_emergency_investment_in_healthcare_average = IL_emergency_investment_in_healthcare_average.mean()\n",
    "print(IL_emergency_investment_in_healthcare_average)\n",
    "data_health_investment_in_vaccines_IL = data_health_investment_in_vaccines[data_health_investment_in_vaccines['key'] == \"IL\"]\n",
    "IL_investment_in_vaccines_average = data_health_investment_in_vaccines_IL.mean(axis=0)\n",
    "IL_investment_in_vaccines_average = IL_investment_in_vaccines_average.mean()\n",
    "print(IL_investment_in_vaccines_average)"
   ]
  },
  {
   "cell_type": "code",
   "execution_count": 18,
   "metadata": {},
   "outputs": [
    {
     "name": "stdout",
     "output_type": "stream",
     "text": [
      "0.3663663663663664\n",
      "0.47897897897897895\n",
      "2.621437526635546e-07\n",
      "0.0\n"
     ]
    }
   ],
   "source": [
    "data_health_testing_policy_KG = data_health_testing_policy[data_health_testing_policy['key'] == \"KG\"]\n",
    "KG_testing_policy_average = data_health_testing_policy_KG.mean(axis=0)\n",
    "KG_testing_policy_average = KG_testing_policy_average.mean()\n",
    "print(KG_testing_policy_average)\n",
    "data_health_contact_tracing_KG = data_health_contact_tracing[data_health_contact_tracing['key'] == \"KG\"]\n",
    "KG_contact_tracing_average = data_health_contact_tracing_KG.mean(axis=0)\n",
    "KG_contact_tracing_average = KG_contact_tracing_average.mean()\n",
    "print(KG_contact_tracing_average)\n",
    "data_health_emergency_investment_in_healthcare_KG = data_health_emergency_investment_in_healthcare[data_health_emergency_investment_in_healthcare['key'] == \"KG\"]\n",
    "KG_emergency_investment_in_healthcare_average = data_health_emergency_investment_in_healthcare_KG.mean(axis=0)\n",
    "KG_emergency_investment_in_healthcare_average = KG_emergency_investment_in_healthcare_average.mean()\n",
    "print(KG_emergency_investment_in_healthcare_average)\n",
    "data_health_investment_in_vaccines_KG = data_health_investment_in_vaccines[data_health_investment_in_vaccines['key'] == \"KG\"]\n",
    "KG_investment_in_vaccines_average = data_health_investment_in_vaccines_KG.mean(axis=0)\n",
    "KG_investment_in_vaccines_average = KG_investment_in_vaccines_average.mean()\n",
    "print(KG_investment_in_vaccines_average)"
   ]
  },
  {
   "cell_type": "code",
   "execution_count": 19,
   "metadata": {},
   "outputs": [
    {
     "name": "stdout",
     "output_type": "stream",
     "text": [
      "0.29929929929929927\n",
      "0.45345345345345345\n",
      "3.6273897660036272e-09\n",
      "0.0\n"
     ]
    }
   ],
   "source": [
    "data_health_testing_policy_TJ = data_health_testing_policy[data_health_testing_policy['key'] == \"TJ\"]\n",
    "TJ_testing_policy_average = data_health_testing_policy_TJ.mean(axis=0)\n",
    "TJ_testing_policy_average = TJ_testing_policy_average.mean()\n",
    "print(TJ_testing_policy_average)\n",
    "data_health_contact_tracing_TJ = data_health_contact_tracing[data_health_contact_tracing['key'] == \"TJ\"]\n",
    "TJ_contact_tracing_average = data_health_contact_tracing_TJ.mean(axis=0)\n",
    "TJ_contact_tracing_average = TJ_contact_tracing_average.mean()\n",
    "print(TJ_contact_tracing_average)\n",
    "data_health_emergency_investment_in_healthcare_TJ = data_health_emergency_investment_in_healthcare[data_health_emergency_investment_in_healthcare['key'] == \"TJ\"]\n",
    "TJ_emergency_investment_in_healthcare_average = data_health_emergency_investment_in_healthcare_TJ.mean(axis=0)\n",
    "TJ_emergency_investment_in_healthcare_average = TJ_emergency_investment_in_healthcare_average.mean()\n",
    "print(TJ_emergency_investment_in_healthcare_average)\n",
    "data_health_investment_in_vaccines_TJ = data_health_investment_in_vaccines[data_health_investment_in_vaccines['key'] == \"TJ\"]\n",
    "TJ_investment_in_vaccines_average = data_health_investment_in_vaccines_TJ.mean(axis=0)\n",
    "TJ_investment_in_vaccines_average = TJ_investment_in_vaccines_average.mean()\n",
    "print(TJ_investment_in_vaccines_average)"
   ]
  },
  {
   "cell_type": "markdown",
   "metadata": {},
   "source": [
    "United States,Brazil,Canada,Philippines,Russia          "
   ]
  },
  {
   "cell_type": "code",
   "execution_count": 20,
   "metadata": {},
   "outputs": [
    {
     "name": "stdout",
     "output_type": "stream",
     "text": [
      "0.8069651741293532\n",
      "0.4701492537313433\n",
      "0.005410395374214841\n",
      "0.0026995576336077934\n"
     ]
    }
   ],
   "source": [
    "data_health_testing_policy_US = data_health_testing_policy[data_health_testing_policy['key'] == \"US\"]\n",
    "US_testing_policy_average = data_health_testing_policy_US.mean(axis=0)\n",
    "US_testing_policy_average = US_testing_policy_average.mean()\n",
    "print(US_testing_policy_average)\n",
    "data_health_contact_tracing_US = data_health_contact_tracing[data_health_contact_tracing['key'] == \"US\"]\n",
    "US_contact_tracing_average = data_health_contact_tracing_US.mean(axis=0)\n",
    "US_contact_tracing_average = US_contact_tracing_average.mean()\n",
    "print(US_contact_tracing_average)\n",
    "data_health_emergency_investment_in_healthcare_US = data_health_emergency_investment_in_healthcare[data_health_emergency_investment_in_healthcare['key'] == \"US\"]\n",
    "US_emergency_investment_in_healthcare_average = data_health_emergency_investment_in_healthcare_US.mean(axis=0)\n",
    "US_emergency_investment_in_healthcare_average = US_emergency_investment_in_healthcare_average.mean()\n",
    "print(US_emergency_investment_in_healthcare_average)\n",
    "data_health_investment_in_vaccines_US = data_health_investment_in_vaccines[data_health_investment_in_vaccines['key'] == \"US\"]\n",
    "US_investment_in_vaccines_average = data_health_investment_in_vaccines_US.mean(axis=0)\n",
    "US_investment_in_vaccines_average = US_investment_in_vaccines_average.mean()\n",
    "print(US_investment_in_vaccines_average)"
   ]
  },
  {
   "cell_type": "code",
   "execution_count": 21,
   "metadata": {},
   "outputs": [
    {
     "name": "stdout",
     "output_type": "stream",
     "text": [
      "0.4899470899470899\n",
      "0.7111111111111111\n",
      "8.173999346482267e-05\n",
      "5.126936745015539e-05\n"
     ]
    }
   ],
   "source": [
    "data_health_testing_policy_BR = data_health_testing_policy[data_health_testing_policy['key'] == \"BR\"]\n",
    "BR_testing_policy_average = data_health_testing_policy_BR.mean(axis=0)\n",
    "BR_testing_policy_average = BR_testing_policy_average.mean()\n",
    "print(BR_testing_policy_average)\n",
    "data_health_contact_tracing_BR = data_health_contact_tracing[data_health_contact_tracing['key'] == \"BR\"]\n",
    "BR_contact_tracing_average = data_health_contact_tracing_BR.mean(axis=0)\n",
    "BR_contact_tracing_average = BR_contact_tracing_average.mean()\n",
    "print(BR_contact_tracing_average)\n",
    "data_health_emergency_investment_in_healthcare_BR = data_health_emergency_investment_in_healthcare[data_health_emergency_investment_in_healthcare['key'] == \"BR\"]\n",
    "BR_emergency_investment_in_healthcare_average = data_health_emergency_investment_in_healthcare_BR.mean(axis=0)\n",
    "BR_emergency_investment_in_healthcare_average = BR_emergency_investment_in_healthcare_average.mean()\n",
    "print(BR_emergency_investment_in_healthcare_average)\n",
    "data_health_investment_in_vaccines_BR = data_health_investment_in_vaccines[data_health_investment_in_vaccines['key'] == \"BR\"]\n",
    "BR_investment_in_vaccines_average = data_health_investment_in_vaccines_BR.mean(axis=0)\n",
    "BR_investment_in_vaccines_average = BR_investment_in_vaccines_average.mean()\n",
    "print(BR_investment_in_vaccines_average)"
   ]
  },
  {
   "cell_type": "code",
   "execution_count": 22,
   "metadata": {},
   "outputs": [
    {
     "name": "stdout",
     "output_type": "stream",
     "text": [
      "0.8313492063492063\n",
      "0.6845238095238095\n",
      "1.820242549701399e-05\n",
      "0.0005930870862774701\n"
     ]
    }
   ],
   "source": [
    "data_health_testing_policy_CA = data_health_testing_policy[data_health_testing_policy['key'] == \"CA\"]\n",
    "CA_testing_policy_average = data_health_testing_policy_CA.mean(axis=0)\n",
    "CA_testing_policy_average = CA_testing_policy_average.mean()\n",
    "print(CA_testing_policy_average)\n",
    "data_health_contact_tracing_CA = data_health_contact_tracing[data_health_contact_tracing['key'] == \"CA\"]\n",
    "CA_contact_tracing_average = data_health_contact_tracing_CA.mean(axis=0)\n",
    "CA_contact_tracing_average = CA_contact_tracing_average.mean()\n",
    "print(CA_contact_tracing_average)\n",
    "data_health_emergency_investment_in_healthcare_CA = data_health_emergency_investment_in_healthcare[data_health_emergency_investment_in_healthcare['key'] == \"CA\"]\n",
    "CA_emergency_investment_in_healthcare_average = data_health_emergency_investment_in_healthcare_CA.mean(axis=0)\n",
    "CA_emergency_investment_in_healthcare_average = CA_emergency_investment_in_healthcare_average.mean()\n",
    "print(CA_emergency_investment_in_healthcare_average)\n",
    "data_health_investment_in_vaccines_CA = data_health_investment_in_vaccines[data_health_investment_in_vaccines['key'] == \"CA\"]\n",
    "CA_investment_in_vaccines_average = data_health_investment_in_vaccines_CA.mean(axis=0)\n",
    "CA_investment_in_vaccines_average = CA_investment_in_vaccines_average.mean()\n",
    "print(CA_investment_in_vaccines_average)"
   ]
  },
  {
   "cell_type": "code",
   "execution_count": 23,
   "metadata": {},
   "outputs": [
    {
     "name": "stdout",
     "output_type": "stream",
     "text": [
      "0.6158536585365854\n",
      "0.8932926829268293\n",
      "8.69103678660549e-06\n",
      "0.00015555251267113535\n"
     ]
    }
   ],
   "source": [
    "data_health_testing_policy_PH = data_health_testing_policy[data_health_testing_policy['key'] == \"PH\"]\n",
    "PH_testing_policy_average = data_health_testing_policy_PH.mean(axis=0)\n",
    "PH_testing_policy_average = PH_testing_policy_average.mean()\n",
    "print(PH_testing_policy_average)\n",
    "data_health_contact_tracing_PH = data_health_contact_tracing[data_health_contact_tracing['key'] == \"PH\"]\n",
    "PH_contact_tracing_average = data_health_contact_tracing_PH.mean(axis=0)\n",
    "PH_contact_tracing_average = PH_contact_tracing_average.mean()\n",
    "print(PH_contact_tracing_average)\n",
    "data_health_emergency_investment_in_healthcare_PH = data_health_emergency_investment_in_healthcare[data_health_emergency_investment_in_healthcare['key'] == \"PH\"]\n",
    "PH_emergency_investment_in_healthcare_average = data_health_emergency_investment_in_healthcare_PH.mean(axis=0)\n",
    "PH_emergency_investment_in_healthcare_average = PH_emergency_investment_in_healthcare_average.mean()\n",
    "print(PH_emergency_investment_in_healthcare_average)\n",
    "data_health_investment_in_vaccines_PH = data_health_investment_in_vaccines[data_health_investment_in_vaccines['key'] == \"PH\"]\n",
    "PH_investment_in_vaccines_average = data_health_investment_in_vaccines_PH.mean(axis=0)\n",
    "PH_investment_in_vaccines_average = PH_investment_in_vaccines_average.mean()\n",
    "print(PH_investment_in_vaccines_average)"
   ]
  },
  {
   "cell_type": "code",
   "execution_count": 24,
   "metadata": {},
   "outputs": [
    {
     "name": "stdout",
     "output_type": "stream",
     "text": [
      "0.7791044776119403\n",
      "0.808955223880597\n",
      "2.458891763952515e-05\n",
      "0.00010863070566986237\n"
     ]
    }
   ],
   "source": [
    "data_health_testing_policy_RU = data_health_testing_policy[data_health_testing_policy['key'] == \"RU\"]\n",
    "RU_testing_policy_average = data_health_testing_policy_RU.mean(axis=0)\n",
    "RU_testing_policy_average = RU_testing_policy_average.mean()\n",
    "print(RU_testing_policy_average)\n",
    "data_health_contact_tracing_RU = data_health_contact_tracing[data_health_contact_tracing['key'] == \"RU\"]\n",
    "RU_contact_tracing_average = data_health_contact_tracing_RU.mean(axis=0)\n",
    "RU_contact_tracing_average = RU_contact_tracing_average.mean()\n",
    "print(RU_contact_tracing_average)\n",
    "data_health_emergency_investment_in_healthcare_RU = data_health_emergency_investment_in_healthcare[data_health_emergency_investment_in_healthcare['key'] == \"RU\"]\n",
    "RU_emergency_investment_in_healthcare_average = data_health_emergency_investment_in_healthcare_RU.mean(axis=0)\n",
    "RU_emergency_investment_in_healthcare_average = RU_emergency_investment_in_healthcare_average.mean()\n",
    "print(RU_emergency_investment_in_healthcare_average)\n",
    "data_health_investment_in_vaccines_RU = data_health_investment_in_vaccines[data_health_investment_in_vaccines['key'] == \"RU\"]\n",
    "RU_investment_in_vaccines_average = data_health_investment_in_vaccines_RU.mean(axis=0)\n",
    "RU_investment_in_vaccines_average = RU_investment_in_vaccines_average.mean()\n",
    "print(RU_investment_in_vaccines_average)"
   ]
  },
  {
   "cell_type": "code",
   "execution_count": 25,
   "metadata": {},
   "outputs": [
    {
     "name": "stdout",
     "output_type": "stream",
     "text": [
      "0.5104477611940299\n",
      "0.5373134328358209\n",
      "8.142831423142314e-05\n",
      "0.0001285644651180553\n"
     ]
    }
   ],
   "source": [
    "data_health_testing_policy_GB = data_health_testing_policy[data_health_testing_policy['key'] == \"GB\"]\n",
    "GB_testing_policy_average = data_health_testing_policy_GB.mean(axis=0)\n",
    "GB_testing_policy_average = GB_testing_policy_average.mean()\n",
    "print(GB_testing_policy_average)\n",
    "data_health_contact_tracing_GB = data_health_contact_tracing[data_health_contact_tracing['key'] == \"GB\"]\n",
    "GB_contact_tracing_average = data_health_contact_tracing_GB.mean(axis=0)\n",
    "GB_contact_tracing_average = GB_contact_tracing_average.mean()\n",
    "print(GB_contact_tracing_average)\n",
    "data_health_emergency_investment_in_healthcare_GB = data_health_emergency_investment_in_healthcare[data_health_emergency_investment_in_healthcare['key'] == \"GB\"]\n",
    "GB_emergency_investment_in_healthcare_average = data_health_emergency_investment_in_healthcare_GB.mean(axis=0)\n",
    "GB_emergency_investment_in_healthcare_average = GB_emergency_investment_in_healthcare_average.mean()\n",
    "print(GB_emergency_investment_in_healthcare_average)\n",
    "data_health_investment_in_vaccines_GB = data_health_investment_in_vaccines[data_health_investment_in_vaccines['key'] == \"GB\"]\n",
    "GB_investment_in_vaccines_average = data_health_investment_in_vaccines_GB.mean(axis=0)\n",
    "GB_investment_in_vaccines_average = GB_investment_in_vaccines_average.mean()\n",
    "print(GB_investment_in_vaccines_average)\n"
   ]
  },
  {
   "cell_type": "code",
   "execution_count": 26,
   "metadata": {},
   "outputs": [
    {
     "name": "stdout",
     "output_type": "stream",
     "text": [
      "0.23577235772357721\n",
      "0.4115853658536585\n",
      "9.231868308782099e-05\n",
      "0.0\n"
     ]
    }
   ],
   "source": [
    "data_health_testing_policy_MX = data_health_testing_policy[data_health_testing_policy['key'] == \"MX\"]\n",
    "MX_testing_policy_average = data_health_testing_policy_MX.mean(axis=0)\n",
    "MX_testing_policy_average = MX_testing_policy_average.mean()\n",
    "print(MX_testing_policy_average)\n",
    "data_health_contact_tracing_MX = data_health_contact_tracing[data_health_contact_tracing['key'] == \"MX\"]\n",
    "MX_contact_tracing_average = data_health_contact_tracing_MX.mean(axis=0)\n",
    "MX_contact_tracing_average = MX_contact_tracing_average.mean()\n",
    "print(MX_contact_tracing_average)\n",
    "data_health_emergency_investment_in_healthcare_MX = data_health_emergency_investment_in_healthcare[data_health_emergency_investment_in_healthcare['key'] == \"MX\"]\n",
    "MX_emergency_investment_in_healthcare_average = data_health_emergency_investment_in_healthcare_MX.mean(axis=0)\n",
    "MX_emergency_investment_in_healthcare_average = MX_emergency_investment_in_healthcare_average.mean()\n",
    "print(MX_emergency_investment_in_healthcare_average)\n",
    "data_health_investment_in_vaccines_MX = data_health_investment_in_vaccines[data_health_investment_in_vaccines['key'] == \"MX\"]\n",
    "MX_investment_in_vaccines_average = data_health_investment_in_vaccines_MX.mean(axis=0)\n",
    "MX_investment_in_vaccines_average = MX_investment_in_vaccines_average.mean()\n",
    "print(MX_investment_in_vaccines_average)\n"
   ]
  },
  {
   "cell_type": "code",
   "execution_count": 27,
   "metadata": {},
   "outputs": [
    {
     "name": "stdout",
     "output_type": "stream",
     "text": [
      "0.9064676616915421\n",
      "0.8970149253731343\n",
      "4.4765026636618884e-05\n",
      "0.00010141650337958315\n"
     ]
    }
   ],
   "source": [
    "data_health_testing_policy_KR = data_health_testing_policy[data_health_testing_policy['key'] == \"KR\"]\n",
    "KR_testing_policy_average = data_health_testing_policy_KR.mean(axis=0)\n",
    "KR_testing_policy_average = KR_testing_policy_average.mean()\n",
    "print(KR_testing_policy_average)\n",
    "data_health_contact_tracing_KR = data_health_contact_tracing[data_health_contact_tracing['key'] == \"KR\"]\n",
    "KR_contact_tracing_average = data_health_contact_tracing_KR.mean(axis=0)\n",
    "KR_contact_tracing_average = KR_contact_tracing_average.mean()\n",
    "print(KR_contact_tracing_average)\n",
    "data_health_emergency_investment_in_healthcare_KR = data_health_emergency_investment_in_healthcare[data_health_emergency_investment_in_healthcare['key'] == \"KR\"]\n",
    "KR_emergency_investment_in_healthcare_average = data_health_emergency_investment_in_healthcare_KR.mean(axis=0)\n",
    "KR_emergency_investment_in_healthcare_average = KR_emergency_investment_in_healthcare_average.mean()\n",
    "print(KR_emergency_investment_in_healthcare_average)\n",
    "data_health_investment_in_vaccines_KR = data_health_investment_in_vaccines[data_health_investment_in_vaccines['key'] == \"KR\"]\n",
    "KR_investment_in_vaccines_average = data_health_investment_in_vaccines_KR.mean(axis=0)\n",
    "KR_investment_in_vaccines_average = KR_investment_in_vaccines_average.mean()\n",
    "print(KR_investment_in_vaccines_average)\n"
   ]
  },
  {
   "cell_type": "markdown",
   "metadata": {},
   "source": [
    "Plot results"
   ]
  },
  {
   "cell_type": "markdown",
   "metadata": {},
   "source": [
    "Plot results"
   ]
  },
  {
   "cell_type": "markdown",
   "metadata": {},
   "source": [
    "Plot results"
   ]
  },
  {
   "cell_type": "code",
   "execution_count": 51,
   "metadata": {},
   "outputs": [
    {
     "name": "stdout",
     "output_type": "stream",
     "text": [
      "0.719626168224299\n",
      "0.5128998968008256\n",
      "0.6432926829268293\n",
      "0.4805725971370143\n",
      "0.2924335378323108\n",
      "0.8609406952965234\n",
      "0.47341513292433535\n",
      "0.4878048780487805\n",
      "0.3674948240165631\n",
      "0.2985685071574642\n",
      "0.8028455284552845\n",
      "0.48938428874734613\n",
      "0.8261758691206543\n",
      "0.6158536585365854\n",
      "0.7737003058103975\n",
      "0.9252336448598131\n",
      "0.8204334365325078\n",
      "0.9420731707317073\n",
      "0.6717791411042945\n",
      "0.14263803680981596\n",
      "0.9938650306748467\n",
      "0.8650306748466258\n",
      "0.5975609756097561\n",
      "0.4611801242236025\n",
      "0.45245398773006135\n",
      "0.4695121951219512\n",
      "0.7101910828025477\n",
      "0.6748466257668712\n",
      "0.8932926829268293\n",
      "0.8042813455657493\n",
      "2.3910215986551923e-05\n",
      "3.7962498595060745e-06\n",
      "7.043387265555823e-08\n",
      "0.00024492774252616976\n",
      "0.0\n",
      "0.00026330075010376806\n",
      "7.529257526979692e-06\n",
      "5.158659844643001e-05\n",
      "2.7109897402783755e-07\n",
      "3.7052785033104535e-09\n",
      "0.005535388006622444\n",
      "8.200031191534758e-05\n",
      "7.251620084937942e-06\n",
      "8.69103678660549e-06\n",
      "2.519048137382546e-05\n",
      "0.0011021875019695153\n",
      "9.426735886097983e-06\n",
      "0.0\n",
      "0.0006165512315924452\n",
      "0.0\n",
      "0.0\n",
      "0.0\n",
      "2.3261756751764913e-05\n",
      "0.0\n",
      "0.0\n",
      "0.0027577019518701153\n",
      "5.143264569044251e-05\n",
      "0.0006112799416847544\n",
      "0.00015555251267113535\n",
      "0.00011128833761285595\n"
     ]
    }
   ],
   "source": [
    "print(AU_testing_policy_average)\n",
    "print(NZ_testing_policy_average)\n",
    "print(SG_testing_policy_average)\n",
    "print(TH_testing_policy_average)\n",
    "print(SO_testing_policy_average)\n",
    "print(CN_testing_policy_average)\n",
    "print(EG_testing_policy_average)\n",
    "print(IL_testing_policy_average)\n",
    "print(KG_testing_policy_average)\n",
    "print(TJ_testing_policy_average)\n",
    "print(US_testing_policy_average)\n",
    "print(BR_testing_policy_average)\n",
    "print(CA_testing_policy_average)\n",
    "print(PH_testing_policy_average)\n",
    "print(RU_testing_policy_average)\n",
    "\n",
    "print(AU_contact_tracing_average)\n",
    "print(NZ_contact_tracing_average)\n",
    "print(SG_contact_tracing_average)\n",
    "print(TH_contact_tracing_average)\n",
    "print(SO_contact_tracing_average)\n",
    "print(CN_contact_tracing_average)\n",
    "print(EG_contact_tracing_average)\n",
    "print(IL_contact_tracing_average)\n",
    "print(KG_contact_tracing_average)\n",
    "print(TJ_contact_tracing_average)\n",
    "print(US_contact_tracing_average)\n",
    "print(BR_contact_tracing_average)\n",
    "print(CA_contact_tracing_average)\n",
    "print(PH_contact_tracing_average)\n",
    "print(RU_contact_tracing_average)\n",
    "\n",
    "print(AU_emergency_investment_in_healthcare_average)\n",
    "print(NZ_emergency_investment_in_healthcare_average)\n",
    "print(SG_emergency_investment_in_healthcare_average)\n",
    "print(TH_emergency_investment_in_healthcare_average)\n",
    "print(SO_emergency_investment_in_healthcare_average)\n",
    "print(CN_emergency_investment_in_healthcare_average)\n",
    "print(EG_emergency_investment_in_healthcare_average)\n",
    "print(IL_emergency_investment_in_healthcare_average)\n",
    "print(KG_emergency_investment_in_healthcare_average)\n",
    "print(TJ_emergency_investment_in_healthcare_average)\n",
    "print(US_emergency_investment_in_healthcare_average)\n",
    "print(BR_emergency_investment_in_healthcare_average)\n",
    "print(CA_emergency_investment_in_healthcare_average)\n",
    "print(PH_emergency_investment_in_healthcare_average)\n",
    "print(RU_emergency_investment_in_healthcare_average)\n",
    "\n",
    "print(AU_investment_in_vaccines_average)\n",
    "print(NZ_investment_in_vaccines_average)\n",
    "print(SG_investment_in_vaccines_average)\n",
    "print(TH_investment_in_vaccines_average)\n",
    "print(SO_investment_in_vaccines_average)\n",
    "print(CN_investment_in_vaccines_average)\n",
    "print(EG_investment_in_vaccines_average)\n",
    "print(IL_investment_in_vaccines_average)\n",
    "print(KG_investment_in_vaccines_average)\n",
    "print(TJ_investment_in_vaccines_average)\n",
    "print(US_investment_in_vaccines_average)\n",
    "print(BR_investment_in_vaccines_average)\n",
    "print(CA_investment_in_vaccines_average)\n",
    "print(PH_investment_in_vaccines_average)\n",
    "print(RU_investment_in_vaccines_average)"
   ]
  },
  {
   "cell_type": "code",
   "execution_count": 56,
   "metadata": {},
   "outputs": [
    {
     "data": {
      "image/png": "[encoded data removed]",
      "text/plain": [
       "<Figure size 432x288 with 1 Axes>"
      ]
     },
     "metadata": {
      "needs_background": "light"
     },
     "output_type": "display_data"
    }
   ],
   "source": [
    "x = [\"AU\",\"NZ\",\"SG\",\"TH\",\"SO\",\"CN\",\"EG\",\"IL\",\"KG\",\"TJ\",\"US\",\"BR\",\"CA\",\"PH\",\"RU\"]\n",
    "y = [AU_testing_policy_average ,NZ_testing_policy_average ,SG_testing_policy_average ,TH_testing_policy_average ,SO_testing_policy_average ,\n",
    "     CN_testing_policy_average ,EG_testing_policy_average ,IL_testing_policy_average ,KG_testing_policy_average ,TJ_testing_policy_average ,\n",
    "     US_testing_policy_average ,BR_testing_policy_average ,CA_testing_policy_average ,PH_testing_policy_average ,RU_testing_policy_average]\n",
    "plt.bar(x, y, alpha=0.7, width=0.6, color='gggggyyyyyrrrrr', edgecolor='yellow', label='testing_policy', lw=3)\n",
    "plt.legend(loc='upper left')\n",
    "plt.show()"
   ]
  },
  {
   "cell_type": "code",
   "execution_count": 57,
   "metadata": {},
   "outputs": [
    {
     "data": {
      "image/png": "[encoded data removed]",
      "text/plain": [
       "<Figure size 432x288 with 1 Axes>"
      ]
     },
     "metadata": {
      "needs_background": "light"
     },
     "output_type": "display_data"
    }
   ],
   "source": [
    "x = [\"AU\",\"NZ\",\"SG\",\"TH\",\"SO\",\"CN\",\"EG\",\"IL\",\"KG\",\"TJ\",\"US\",\"BR\",\"CA\",\"PH\",\"RU\"]\n",
    "y = [AU_contact_tracing_average ,NZ_contact_tracing_average ,SG_contact_tracing_average ,TH_contact_tracing_average ,SO_contact_tracing_average ,\n",
    "     CN_contact_tracing_average ,EG_contact_tracing_average ,IL_contact_tracing_average ,KG_contact_tracing_average ,TJ_contact_tracing_average ,\n",
    "     US_contact_tracing_average ,BR_contact_tracing_average ,CA_contact_tracing_average ,PH_contact_tracing_average ,RU_contact_tracing_average]\n",
    "plt.bar(x, y, alpha=0.7, width=0.6, color='gggggyyyyyrrrrr', edgecolor='yellow', label='contact_tracing', lw=3)\n",
    "plt.legend(loc='upper left')\n",
    "plt.show()"
   ]
  },
  {
   "cell_type": "code",
   "execution_count": 58,
   "metadata": {},
   "outputs": [
    {
     "data": {
      "image/png": "[encoded data removed]",
      "text/plain": [
       "<Figure size 432x288 with 1 Axes>"
      ]
     },
     "metadata": {
      "needs_background": "light"
     },
     "output_type": "display_data"
    }
   ],
   "source": [
    "x = [\"AU\",\"NZ\",\"SG\",\"TH\",\"SO\",\"CN\",\"EG\",\"IL\",\"KG\",\"TJ\",\"US\",\"BR\",\"CA\",\"PH\",\"RU\"]\n",
    "y = [AU_emergency_investment_in_healthcare_average ,NZ_emergency_investment_in_healthcare_average ,SG_emergency_investment_in_healthcare_average ,TH_emergency_investment_in_healthcare_average ,SO_emergency_investment_in_healthcare_average ,\n",
    "     CN_emergency_investment_in_healthcare_average ,EG_emergency_investment_in_healthcare_average ,IL_emergency_investment_in_healthcare_average ,KG_emergency_investment_in_healthcare_average ,TJ_emergency_investment_in_healthcare_average ,\n",
    "     US_emergency_investment_in_healthcare_average ,BR_emergency_investment_in_healthcare_average ,CA_emergency_investment_in_healthcare_average ,PH_emergency_investment_in_healthcare_average ,RU_emergency_investment_in_healthcare_average]\n",
    "plt.bar(x, y, alpha=0.7, width=0.6, color='gggggyyyyyrrrrr', edgecolor='yellow', label='emergency_investment_in_healthcare', lw=3)\n",
    "plt.legend(loc='upper left')\n",
    "plt.show()"
   ]
  },
  {
   "cell_type": "code",
   "execution_count": 60,
   "metadata": {},
   "outputs": [
    {
     "data": {
      "image/png": "[encoded data removed]",
      "text/plain": [
       "<Figure size 432x288 with 1 Axes>"
      ]
     },
     "metadata": {
      "needs_background": "light"
     },
     "output_type": "display_data"
    }
   ],
   "source": [
    "x = [\"AU\",\"NZ\",\"SG\",\"TH\",\"SO\",\"CN\",\"EG\",\"IL\",\"KG\",\"TJ\",\"US\",\"BR\",\"CA\",\"PH\",\"RU\"]\n",
    "y = [AU_investment_in_vaccines_average ,NZ_investment_in_vaccines_average ,SG_investment_in_vaccines_average ,TH_investment_in_vaccines_average ,SO_investment_in_vaccines_average ,\n",
    "     CN_investment_in_vaccines_average ,EG_investment_in_vaccines_average ,IL_investment_in_vaccines_average ,KG_investment_in_vaccines_average ,TJ_investment_in_vaccines_average ,\n",
    "     US_investment_in_vaccines_average ,BR_investment_in_vaccines_average ,CA_investment_in_vaccines_average ,PH_investment_in_vaccines_average ,RU_investment_in_vaccines_average]\n",
    "plt.bar(x, y, alpha=0.7, width=0.6, color='gggggyyyyyrrrrr', edgecolor='yellow', label='investment_in_vaccines', lw=3)\n",
    "plt.legend(loc='upper left')\n",
    "plt.show()"
   ]
  },
  {
   "cell_type": "code",
   "execution_count": null,
   "metadata": {},
   "outputs": [],
   "source": []
  },
  {
   "cell_type": "code",
   "execution_count": null,
   "metadata": {},
   "outputs": [],
   "source": []
  },
  {
   "cell_type": "markdown",
   "metadata": {},
   "source": [
    "## From https://www.kaggle.com/tarunkr/covid-19-case-study-analysis-viz-comparisons, consider 1. Mortality Rate (per 100): Italy: 11.98, United Kingdom: 10.65, Mexico: 10.55, China: 5.24, Tajikistan: 0.78 Singapore: 0.05"
   ]
  },
  {
   "cell_type": "code",
   "execution_count": 28,
   "metadata": {},
   "outputs": [
    {
     "data": {
      "image/png": "[encoded data removed]",
      "text/plain": [
       "<Figure size 432x288 with 1 Axes>"
      ]
     },
     "metadata": {
      "needs_background": "light"
     },
     "output_type": "display_data"
    }
   ],
   "source": [
    "x = [\"IL\",\"GB\",\"MX\",\"CN\",\"TJ\",\"SG\"]\n",
    "y = [IL_testing_policy_average ,GB_testing_policy_average ,MX_testing_policy_average ,\n",
    "     CN_testing_policy_average ,TJ_testing_policy_average ,SG_testing_policy_average]\n",
    "plt.bar(x, y, alpha=0.7, width=0.6, color='rrrggg', edgecolor='yellow', label='testing_policy', lw=3)\n",
    "plt.legend(loc='upper left')\n",
    "plt.show()"
   ]
  },
  {
   "cell_type": "code",
   "execution_count": 33,
   "metadata": {},
   "outputs": [
    {
     "data": {
      "image/png": "[encoded data removed]",
      "text/plain": [
       "<Figure size 432x288 with 1 Axes>"
      ]
     },
     "metadata": {
      "needs_background": "light"
     },
     "output_type": "display_data"
    }
   ],
   "source": [
    "x = [\"IL\",\"GB\",\"MX\",\"CN\",\"TJ\",\"SG\"]\n",
    "y = [IL_contact_tracing_average ,GB_contact_tracing_average ,MX_contact_tracing_average ,\n",
    "     CN_contact_tracing_average ,TJ_contact_tracing_average ,SG_contact_tracing_average]\n",
    "plt.bar(x, y, alpha=0.7, width=0.6, color='rrrggg', edgecolor='yellow', label='contact_tracing', lw=3)\n",
    "plt.legend(loc='upper left')\n",
    "plt.show()"
   ]
  },
  {
   "cell_type": "code",
   "execution_count": 44,
   "metadata": {},
   "outputs": [
    {
     "data": {
      "image/png": "[encoded data removed]",
      "text/plain": [
       "<Figure size 432x288 with 1 Axes>"
      ]
     },
     "metadata": {
      "needs_background": "light"
     },
     "output_type": "display_data"
    }
   ],
   "source": [
    "x = [\"IL\",\"GB\",\"MX\",\"CN\",\"TJ\",\"SG\"]\n",
    "y = [data_facial_coverings_IL_average ,data_facial_coverings_GB_average ,data_facial_coverings_MX_average ,\n",
    "     data_facial_coverings_CN_average ,data_facial_coverings_TJ_average ,data_facial_coverings_SG_average]\n",
    "plt.bar(x, y, alpha=0.7, width=0.6, color='rrrggg', edgecolor='yellow', label='facial_coverings', lw=3)\n",
    "plt.legend(loc='upper left')\n",
    "plt.show()"
   ]
  },
  {
   "cell_type": "code",
   "execution_count": 34,
   "metadata": {},
   "outputs": [
    {
     "data": {
      "image/png": "[encoded data removed]",
      "text/plain": [
       "<Figure size 432x288 with 1 Axes>"
      ]
     },
     "metadata": {
      "needs_background": "light"
     },
     "output_type": "display_data"
    }
   ],
   "source": [
    "x = [\"IL\",\"GB\",\"MX\",\"CN\",\"TJ\",\"SG\"]\n",
    "y = [IL_emergency_investment_in_healthcare_average ,GB_emergency_investment_in_healthcare_average ,MX_emergency_investment_in_healthcare_average ,\n",
    "     CN_emergency_investment_in_healthcare_average ,TJ_emergency_investment_in_healthcare_average ,SG_emergency_investment_in_healthcare_average]\n",
    "plt.bar(x, y, alpha=0.7, width=0.6, color='rrrggg', edgecolor='yellow', label='emergency_investment_in_healthcare', lw=3)\n",
    "plt.legend(loc='upper left')\n",
    "plt.show()\n"
   ]
  },
  {
   "cell_type": "code",
   "execution_count": 35,
   "metadata": {},
   "outputs": [
    {
     "data": {
      "image/png": "[encoded data removed]",
      "text/plain": [
       "<Figure size 432x288 with 1 Axes>"
      ]
     },
     "metadata": {
      "needs_background": "light"
     },
     "output_type": "display_data"
    }
   ],
   "source": [
    "x = [\"IL\",\"GB\",\"MX\",\"CN\",\"TJ\",\"SG\"]\n",
    "y = [IL_investment_in_vaccines_average ,GB_investment_in_vaccines_average ,MX_investment_in_vaccines_average ,\n",
    "     CN_investment_in_vaccines_average ,TJ_investment_in_vaccines_average ,SG_investment_in_vaccines_average]\n",
    "plt.bar(x, y, alpha=0.7, width=0.6, color='rrrggg', edgecolor='yellow', label='investment_in_vaccines', lw=3)\n",
    "plt.legend(loc='upper left')\n",
    "plt.show()\n"
   ]
  },
  {
   "cell_type": "markdown",
   "metadata": {},
   "source": [
    "## From https://www.kaggle.com/tarunkr/covid-19-case-study-analysis-viz-comparisons, consider 2. Incident_Rate: Brazil: 2130.34, Kazakhstan: 571.25, Canada: 382.24, Egypt: 99.58, South Korea: 44.81, China: 6.43¶"
   ]
  },
  {
   "cell_type": "code",
   "execution_count": 48,
   "metadata": {},
   "outputs": [
    {
     "data": {
      "image/png": "[encoded data removed]",
      "text/plain": [
       "<Figure size 432x288 with 1 Axes>"
      ]
     },
     "metadata": {
      "needs_background": "light"
     },
     "output_type": "display_data"
    }
   ],
   "source": [
    "x = [\"BR\",\"KG\",\"CA\",\"EG\",\"KR\",\"CN\"]\n",
    "y = [BR_testing_policy_average ,KG_testing_policy_average ,CA_testing_policy_average ,\n",
    "     EG_testing_policy_average ,KR_testing_policy_average ,CN_testing_policy_average]\n",
    "plt.bar(x, y, alpha=0.7, width=0.6, color='rrrggg', edgecolor='yellow', label='testing_policy', lw=3)\n",
    "plt.legend(loc='upper left')\n",
    "plt.show()"
   ]
  },
  {
   "cell_type": "code",
   "execution_count": 49,
   "metadata": {},
   "outputs": [
    {
     "data": {
      "image/png": "[encoded data removed]",
      "text/plain": [
       "<Figure size 432x288 with 1 Axes>"
      ]
     },
     "metadata": {
      "needs_background": "light"
     },
     "output_type": "display_data"
    }
   ],
   "source": [
    "x = [\"BR\",\"KG\",\"CA\",\"EG\",\"KR\",\"CN\"]\n",
    "y = [BR_contact_tracing_average ,KG_contact_tracing_average ,EG_contact_tracing_average ,\n",
    "     EG_contact_tracing_average ,KR_contact_tracing_average ,CN_contact_tracing_average]\n",
    "plt.bar(x, y, alpha=0.7, width=0.6, color='rrrggg', edgecolor='yellow', label='contact_tracing', lw=3)\n",
    "plt.legend(loc='upper left')\n",
    "plt.show()"
   ]
  },
  {
   "cell_type": "code",
   "execution_count": 50,
   "metadata": {},
   "outputs": [
    {
     "data": {
      "image/png": "[encoded data removed]",
      "text/plain": [
       "<Figure size 432x288 with 1 Axes>"
      ]
     },
     "metadata": {
      "needs_background": "light"
     },
     "output_type": "display_data"
    }
   ],
   "source": [
    "x = [\"BR\",\"KG\",\"CA\",\"EG\",\"KR\",\"CN\"]\n",
    "y = [data_facial_coverings_BR_average ,data_facial_coverings_KG_average ,data_facial_coverings_CA_average ,\n",
    "     data_facial_coverings_EG_average ,data_facial_coverings_KR_average ,data_facial_coverings_CN_average]\n",
    "plt.bar(x, y, alpha=0.7, width=0.6, color='rrrggg', edgecolor='yellow', label='facial_coverings', lw=3)\n",
    "plt.legend(loc='upper left')\n",
    "plt.show()"
   ]
  },
  {
   "cell_type": "code",
   "execution_count": 51,
   "metadata": {},
   "outputs": [
    {
     "data": {
      "image/png": "[encoded data removed]",
      "text/plain": [
       "<Figure size 432x288 with 1 Axes>"
      ]
     },
     "metadata": {
      "needs_background": "light"
     },
     "output_type": "display_data"
    }
   ],
   "source": [
    "x = [\"BR\",\"KG\",\"CA\",\"EG\",\"KR\",\"CN\"]\n",
    "y = [BR_emergency_investment_in_healthcare_average ,KG_emergency_investment_in_healthcare_average ,CA_emergency_investment_in_healthcare_average ,\n",
    "     EG_emergency_investment_in_healthcare_average ,KR_emergency_investment_in_healthcare_average ,CN_emergency_investment_in_healthcare_average]\n",
    "plt.bar(x, y, alpha=0.7, width=0.6, color='rrrggg', edgecolor='yellow', label='emergency_investment_in_healthcare', lw=3)\n",
    "plt.legend(loc='upper left')\n",
    "plt.show()"
   ]
  },
  {
   "cell_type": "code",
   "execution_count": 52,
   "metadata": {},
   "outputs": [
    {
     "data": {
      "image/png": "[encoded data removed]",
      "text/plain": [
       "<Figure size 432x288 with 1 Axes>"
      ]
     },
     "metadata": {
      "needs_background": "light"
     },
     "output_type": "display_data"
    }
   ],
   "source": [
    "x = [\"BR\",\"KG\",\"CA\",\"EG\",\"KR\",\"CN\"]\n",
    "y = [BR_investment_in_vaccines_average ,KG_investment_in_vaccines_average ,CA_investment_in_vaccines_average ,\n",
    "     EG_investment_in_vaccines_average ,KR_investment_in_vaccines_average ,CN_investment_in_vaccines_average]\n",
    "plt.bar(x, y, alpha=0.7, width=0.6, color='rrrggg', edgecolor='yellow', label='investment_in_vaccines', lw=3)\n",
    "plt.legend(loc='upper left')\n",
    "plt.show()"
   ]
  },
  {
   "cell_type": "markdown",
   "metadata": {},
   "source": [
    "# Last time, we found out that healthy policies are very important and here we analyze the sub-policies of healthy policy. And because of investment in healthycare and vaccines are long-term investments so we don't see much of their influences here (But I believe it will help at last). But all three other sub-policies like testing policy, contact tracing policy and mask policy are helpful to better performance towards Covid-19 based on our results above."
   ]
  },
  {
   "cell_type": "code",
   "execution_count": null,
   "metadata": {},
   "outputs": [],
   "source": []
  },
  {
   "cell_type": "code",
   "execution_count": null,
   "metadata": {},
   "outputs": [],
   "source": []
  },
  {
   "cell_type": "code",
   "execution_count": 36,
   "metadata": {},
   "outputs": [],
   "source": [
    "xls = pd.ExcelFile(\"https://github.com/OxCGRT/covid-policy-tracker/raw/master/data/timeseries/OxCGRT_timeseries_all.xlsx\")\n",
    "data_facial_coverings = pd.read_excel(xls, 'h6_facial_coverings')"
   ]
  },
  {
   "cell_type": "code",
   "execution_count": 37,
   "metadata": {},
   "outputs": [
    {
     "data": {
      "text/html": [
       "<div>\n",
       "<style scoped>\n",
       "    .dataframe tbody tr th:only-of-type {\n",
       "        vertical-align: middle;\n",
       "    }\n",
       "\n",
       "    .dataframe tbody tr th {\n",
       "        vertical-align: top;\n",
       "    }\n",
       "\n",
       "    .dataframe thead th {\n",
       "        text-align: right;\n",
       "    }\n",
       "</style>\n",
       "<table border=\"1\" class=\"dataframe\">\n",
       "  <thead>\n",
       "    <tr style=\"text-align: right;\">\n",
       "      <th></th>\n",
       "      <th>country_code</th>\n",
       "      <th>country_name</th>\n",
       "      <th>01Jan2020</th>\n",
       "      <th>02Jan2020</th>\n",
       "      <th>03Jan2020</th>\n",
       "      <th>04Jan2020</th>\n",
       "      <th>05Jan2020</th>\n",
       "      <th>06Jan2020</th>\n",
       "      <th>07Jan2020</th>\n",
       "      <th>08Jan2020</th>\n",
       "      <th>...</th>\n",
       "      <th>22Nov2020</th>\n",
       "      <th>23Nov2020</th>\n",
       "      <th>24Nov2020</th>\n",
       "      <th>25Nov2020</th>\n",
       "      <th>26Nov2020</th>\n",
       "      <th>27Nov2020</th>\n",
       "      <th>28Nov2020</th>\n",
       "      <th>29Nov2020</th>\n",
       "      <th>30Nov2020</th>\n",
       "      <th>01Dec2020</th>\n",
       "    </tr>\n",
       "  </thead>\n",
       "  <tbody>\n",
       "    <tr>\n",
       "      <th>0</th>\n",
       "      <td>ABW</td>\n",
       "      <td>Aruba</td>\n",
       "      <td>0.0</td>\n",
       "      <td>0.0</td>\n",
       "      <td>0.0</td>\n",
       "      <td>0.0</td>\n",
       "      <td>0.0</td>\n",
       "      <td>0.0</td>\n",
       "      <td>0.0</td>\n",
       "      <td>0.0</td>\n",
       "      <td>...</td>\n",
       "      <td>2.0</td>\n",
       "      <td>2.0</td>\n",
       "      <td>2.0</td>\n",
       "      <td>2.0</td>\n",
       "      <td>2.0</td>\n",
       "      <td>2.0</td>\n",
       "      <td>2.0</td>\n",
       "      <td>2.0</td>\n",
       "      <td>2.0</td>\n",
       "      <td>NaN</td>\n",
       "    </tr>\n",
       "    <tr>\n",
       "      <th>1</th>\n",
       "      <td>AFG</td>\n",
       "      <td>Afghanistan</td>\n",
       "      <td>0.0</td>\n",
       "      <td>0.0</td>\n",
       "      <td>0.0</td>\n",
       "      <td>0.0</td>\n",
       "      <td>0.0</td>\n",
       "      <td>0.0</td>\n",
       "      <td>0.0</td>\n",
       "      <td>0.0</td>\n",
       "      <td>...</td>\n",
       "      <td>3.0</td>\n",
       "      <td>3.0</td>\n",
       "      <td>3.0</td>\n",
       "      <td>3.0</td>\n",
       "      <td>3.0</td>\n",
       "      <td>3.0</td>\n",
       "      <td>3.0</td>\n",
       "      <td>3.0</td>\n",
       "      <td>3.0</td>\n",
       "      <td>NaN</td>\n",
       "    </tr>\n",
       "    <tr>\n",
       "      <th>2</th>\n",
       "      <td>AGO</td>\n",
       "      <td>Angola</td>\n",
       "      <td>0.0</td>\n",
       "      <td>0.0</td>\n",
       "      <td>0.0</td>\n",
       "      <td>0.0</td>\n",
       "      <td>0.0</td>\n",
       "      <td>0.0</td>\n",
       "      <td>0.0</td>\n",
       "      <td>0.0</td>\n",
       "      <td>...</td>\n",
       "      <td>4.0</td>\n",
       "      <td>3.0</td>\n",
       "      <td>3.0</td>\n",
       "      <td>3.0</td>\n",
       "      <td>3.0</td>\n",
       "      <td>3.0</td>\n",
       "      <td>3.0</td>\n",
       "      <td>3.0</td>\n",
       "      <td>3.0</td>\n",
       "      <td>NaN</td>\n",
       "    </tr>\n",
       "    <tr>\n",
       "      <th>3</th>\n",
       "      <td>ALB</td>\n",
       "      <td>Albania</td>\n",
       "      <td>0.0</td>\n",
       "      <td>0.0</td>\n",
       "      <td>0.0</td>\n",
       "      <td>0.0</td>\n",
       "      <td>0.0</td>\n",
       "      <td>0.0</td>\n",
       "      <td>0.0</td>\n",
       "      <td>0.0</td>\n",
       "      <td>...</td>\n",
       "      <td>4.0</td>\n",
       "      <td>4.0</td>\n",
       "      <td>4.0</td>\n",
       "      <td>4.0</td>\n",
       "      <td>4.0</td>\n",
       "      <td>NaN</td>\n",
       "      <td>NaN</td>\n",
       "      <td>NaN</td>\n",
       "      <td>NaN</td>\n",
       "      <td>NaN</td>\n",
       "    </tr>\n",
       "    <tr>\n",
       "      <th>4</th>\n",
       "      <td>AND</td>\n",
       "      <td>Andorra</td>\n",
       "      <td>0.0</td>\n",
       "      <td>0.0</td>\n",
       "      <td>0.0</td>\n",
       "      <td>0.0</td>\n",
       "      <td>0.0</td>\n",
       "      <td>0.0</td>\n",
       "      <td>0.0</td>\n",
       "      <td>0.0</td>\n",
       "      <td>...</td>\n",
       "      <td>3.0</td>\n",
       "      <td>3.0</td>\n",
       "      <td>3.0</td>\n",
       "      <td>NaN</td>\n",
       "      <td>NaN</td>\n",
       "      <td>NaN</td>\n",
       "      <td>NaN</td>\n",
       "      <td>NaN</td>\n",
       "      <td>NaN</td>\n",
       "      <td>NaN</td>\n",
       "    </tr>\n",
       "    <tr>\n",
       "      <th>...</th>\n",
       "      <td>...</td>\n",
       "      <td>...</td>\n",
       "      <td>...</td>\n",
       "      <td>...</td>\n",
       "      <td>...</td>\n",
       "      <td>...</td>\n",
       "      <td>...</td>\n",
       "      <td>...</td>\n",
       "      <td>...</td>\n",
       "      <td>...</td>\n",
       "      <td>...</td>\n",
       "      <td>...</td>\n",
       "      <td>...</td>\n",
       "      <td>...</td>\n",
       "      <td>...</td>\n",
       "      <td>...</td>\n",
       "      <td>...</td>\n",
       "      <td>...</td>\n",
       "      <td>...</td>\n",
       "      <td>...</td>\n",
       "      <td>...</td>\n",
       "    </tr>\n",
       "    <tr>\n",
       "      <th>177</th>\n",
       "      <td>VUT</td>\n",
       "      <td>Vanuatu</td>\n",
       "      <td>0.0</td>\n",
       "      <td>0.0</td>\n",
       "      <td>0.0</td>\n",
       "      <td>0.0</td>\n",
       "      <td>0.0</td>\n",
       "      <td>0.0</td>\n",
       "      <td>0.0</td>\n",
       "      <td>0.0</td>\n",
       "      <td>...</td>\n",
       "      <td>NaN</td>\n",
       "      <td>NaN</td>\n",
       "      <td>NaN</td>\n",
       "      <td>NaN</td>\n",
       "      <td>NaN</td>\n",
       "      <td>NaN</td>\n",
       "      <td>NaN</td>\n",
       "      <td>NaN</td>\n",
       "      <td>NaN</td>\n",
       "      <td>NaN</td>\n",
       "    </tr>\n",
       "    <tr>\n",
       "      <th>178</th>\n",
       "      <td>YEM</td>\n",
       "      <td>Yemen</td>\n",
       "      <td>0.0</td>\n",
       "      <td>0.0</td>\n",
       "      <td>0.0</td>\n",
       "      <td>0.0</td>\n",
       "      <td>0.0</td>\n",
       "      <td>0.0</td>\n",
       "      <td>0.0</td>\n",
       "      <td>0.0</td>\n",
       "      <td>...</td>\n",
       "      <td>1.0</td>\n",
       "      <td>1.0</td>\n",
       "      <td>1.0</td>\n",
       "      <td>1.0</td>\n",
       "      <td>1.0</td>\n",
       "      <td>1.0</td>\n",
       "      <td>1.0</td>\n",
       "      <td>1.0</td>\n",
       "      <td>1.0</td>\n",
       "      <td>NaN</td>\n",
       "    </tr>\n",
       "    <tr>\n",
       "      <th>179</th>\n",
       "      <td>ZAF</td>\n",
       "      <td>South Africa</td>\n",
       "      <td>0.0</td>\n",
       "      <td>0.0</td>\n",
       "      <td>0.0</td>\n",
       "      <td>0.0</td>\n",
       "      <td>0.0</td>\n",
       "      <td>0.0</td>\n",
       "      <td>0.0</td>\n",
       "      <td>0.0</td>\n",
       "      <td>...</td>\n",
       "      <td>3.0</td>\n",
       "      <td>3.0</td>\n",
       "      <td>3.0</td>\n",
       "      <td>3.0</td>\n",
       "      <td>3.0</td>\n",
       "      <td>3.0</td>\n",
       "      <td>3.0</td>\n",
       "      <td>3.0</td>\n",
       "      <td>NaN</td>\n",
       "      <td>NaN</td>\n",
       "    </tr>\n",
       "    <tr>\n",
       "      <th>180</th>\n",
       "      <td>ZMB</td>\n",
       "      <td>Zambia</td>\n",
       "      <td>0.0</td>\n",
       "      <td>0.0</td>\n",
       "      <td>0.0</td>\n",
       "      <td>0.0</td>\n",
       "      <td>0.0</td>\n",
       "      <td>0.0</td>\n",
       "      <td>0.0</td>\n",
       "      <td>0.0</td>\n",
       "      <td>...</td>\n",
       "      <td>3.0</td>\n",
       "      <td>3.0</td>\n",
       "      <td>NaN</td>\n",
       "      <td>NaN</td>\n",
       "      <td>NaN</td>\n",
       "      <td>NaN</td>\n",
       "      <td>NaN</td>\n",
       "      <td>NaN</td>\n",
       "      <td>NaN</td>\n",
       "      <td>NaN</td>\n",
       "    </tr>\n",
       "    <tr>\n",
       "      <th>181</th>\n",
       "      <td>ZWE</td>\n",
       "      <td>Zimbabwe</td>\n",
       "      <td>0.0</td>\n",
       "      <td>0.0</td>\n",
       "      <td>0.0</td>\n",
       "      <td>0.0</td>\n",
       "      <td>0.0</td>\n",
       "      <td>0.0</td>\n",
       "      <td>0.0</td>\n",
       "      <td>0.0</td>\n",
       "      <td>...</td>\n",
       "      <td>3.0</td>\n",
       "      <td>3.0</td>\n",
       "      <td>3.0</td>\n",
       "      <td>3.0</td>\n",
       "      <td>3.0</td>\n",
       "      <td>3.0</td>\n",
       "      <td>3.0</td>\n",
       "      <td>3.0</td>\n",
       "      <td>3.0</td>\n",
       "      <td>NaN</td>\n",
       "    </tr>\n",
       "  </tbody>\n",
       "</table>\n",
       "<p>182 rows × 338 columns</p>\n",
       "</div>"
      ],
      "text/plain": [
       "    country_code  country_name  01Jan2020  02Jan2020  03Jan2020  04Jan2020  \\\n",
       "0            ABW         Aruba        0.0        0.0        0.0        0.0   \n",
       "1            AFG   Afghanistan        0.0        0.0        0.0        0.0   \n",
       "2            AGO        Angola        0.0        0.0        0.0        0.0   \n",
       "3            ALB       Albania        0.0        0.0        0.0        0.0   \n",
       "4            AND       Andorra        0.0        0.0        0.0        0.0   \n",
       "..           ...           ...        ...        ...        ...        ...   \n",
       "177          VUT       Vanuatu        0.0        0.0        0.0        0.0   \n",
       "178          YEM         Yemen        0.0        0.0        0.0        0.0   \n",
       "179          ZAF  South Africa        0.0        0.0        0.0        0.0   \n",
       "180          ZMB        Zambia        0.0        0.0        0.0        0.0   \n",
       "181          ZWE      Zimbabwe        0.0        0.0        0.0        0.0   \n",
       "\n",
       "     05Jan2020  06Jan2020  07Jan2020  08Jan2020  ...  22Nov2020  23Nov2020  \\\n",
       "0          0.0        0.0        0.0        0.0  ...        2.0        2.0   \n",
       "1          0.0        0.0        0.0        0.0  ...        3.0        3.0   \n",
       "2          0.0        0.0        0.0        0.0  ...        4.0        3.0   \n",
       "3          0.0        0.0        0.0        0.0  ...        4.0        4.0   \n",
       "4          0.0        0.0        0.0        0.0  ...        3.0        3.0   \n",
       "..         ...        ...        ...        ...  ...        ...        ...   \n",
       "177        0.0        0.0        0.0        0.0  ...        NaN        NaN   \n",
       "178        0.0        0.0        0.0        0.0  ...        1.0        1.0   \n",
       "179        0.0        0.0        0.0        0.0  ...        3.0        3.0   \n",
       "180        0.0        0.0        0.0        0.0  ...        3.0        3.0   \n",
       "181        0.0        0.0        0.0        0.0  ...        3.0        3.0   \n",
       "\n",
       "     24Nov2020  25Nov2020  26Nov2020  27Nov2020  28Nov2020  29Nov2020  \\\n",
       "0          2.0        2.0        2.0        2.0        2.0        2.0   \n",
       "1          3.0        3.0        3.0        3.0        3.0        3.0   \n",
       "2          3.0        3.0        3.0        3.0        3.0        3.0   \n",
       "3          4.0        4.0        4.0        NaN        NaN        NaN   \n",
       "4          3.0        NaN        NaN        NaN        NaN        NaN   \n",
       "..         ...        ...        ...        ...        ...        ...   \n",
       "177        NaN        NaN        NaN        NaN        NaN        NaN   \n",
       "178        1.0        1.0        1.0        1.0        1.0        1.0   \n",
       "179        3.0        3.0        3.0        3.0        3.0        3.0   \n",
       "180        NaN        NaN        NaN        NaN        NaN        NaN   \n",
       "181        3.0        3.0        3.0        3.0        3.0        3.0   \n",
       "\n",
       "     30Nov2020  01Dec2020  \n",
       "0          2.0        NaN  \n",
       "1          3.0        NaN  \n",
       "2          3.0        NaN  \n",
       "3          NaN        NaN  \n",
       "4          NaN        NaN  \n",
       "..         ...        ...  \n",
       "177        NaN        NaN  \n",
       "178        1.0        NaN  \n",
       "179        NaN        NaN  \n",
       "180        NaN        NaN  \n",
       "181        3.0        NaN  \n",
       "\n",
       "[182 rows x 338 columns]"
      ]
     },
     "execution_count": 37,
     "metadata": {},
     "output_type": "execute_result"
    }
   ],
   "source": [
    "data_facial_coverings\n",
    "# alpha-3 code"
   ]
  },
  {
   "cell_type": "code",
   "execution_count": 45,
   "metadata": {},
   "outputs": [
    {
     "name": "stdout",
     "output_type": "stream",
     "text": [
      "0.3694029850746269\n",
      "0.22238805970149253\n",
      "0.6913109756097561\n",
      "0.7095808383233533\n",
      "0.1921921921921922\n",
      "0.7807807807807808\n",
      "0.47504990019960075\n",
      "0.5835820895522388\n",
      "0.5615615615615616\n",
      "0.6826826826826826\n",
      "0.6708955223880597\n",
      "0.726984126984127\n",
      "0.5024875621890547\n",
      "0.38109756097560976\n",
      "0.46567164179104475\n",
      "0.6737804878048781\n",
      "0.5656716417910448\n",
      "0.4975124378109453\n"
     ]
    }
   ],
   "source": [
    "data_facial_coverings_AU = data_facial_coverings[data_facial_coverings['country_name'] == \"Australia\"]\n",
    "data_facial_coverings_AU = data_facial_coverings_AU.drop(['country_code','country_name'],axis=1)\n",
    "data_facial_coverings_AU_average = data_facial_coverings_AU.mean(axis=1)\n",
    "data_facial_coverings_AU_average = data_facial_coverings_AU_average/(data_facial_coverings_AU.max(axis=1)-data_facial_coverings_AU.min(axis=1))\n",
    "data_facial_coverings_AU_average = data_facial_coverings_AU_average.mean()\n",
    "print(data_facial_coverings_AU_average)\n",
    "data_facial_coverings_NZ = data_facial_coverings[data_facial_coverings['country_name'] == \"New Zealand\"]\n",
    "data_facial_coverings_NZ = data_facial_coverings_NZ.drop(['country_code','country_name'],axis=1)\n",
    "data_facial_coverings_NZ_average = data_facial_coverings_NZ.mean(axis=1)\n",
    "data_facial_coverings_NZ_average = data_facial_coverings_NZ_average/(data_facial_coverings_NZ.max(axis=1)-data_facial_coverings_NZ.min(axis=1))\n",
    "data_facial_coverings_NZ_average = data_facial_coverings_NZ_average.mean()\n",
    "print(data_facial_coverings_NZ_average)\n",
    "data_facial_coverings_SG = data_facial_coverings[data_facial_coverings['country_name'] == \"Singapore\"]\n",
    "data_facial_coverings_SG = data_facial_coverings_SG.drop(['country_code','country_name'],axis=1)\n",
    "data_facial_coverings_SG_average = data_facial_coverings_SG.mean(axis=1)\n",
    "data_facial_coverings_SG_average = data_facial_coverings_SG_average/(data_facial_coverings_SG.max(axis=1)-data_facial_coverings_SG.min(axis=1))\n",
    "data_facial_coverings_SG_average = data_facial_coverings_SG_average.mean()\n",
    "print(data_facial_coverings_SG_average)\n",
    "data_facial_coverings_TH = data_facial_coverings[data_facial_coverings['country_name'] == \"Thailand\"]\n",
    "data_facial_coverings_TH = data_facial_coverings_TH.drop(['country_code','country_name'],axis=1)\n",
    "data_facial_coverings_TH_average = data_facial_coverings_TH.mean(axis=1)\n",
    "data_facial_coverings_TH_average = data_facial_coverings_TH_average/(data_facial_coverings_TH.max(axis=1)-data_facial_coverings_TH.min(axis=1))\n",
    "data_facial_coverings_TH_average = data_facial_coverings_TH_average.mean()\n",
    "print(data_facial_coverings_TH_average)\n",
    "data_facial_coverings_SO = data_facial_coverings[data_facial_coverings['country_name'] == \"Somalia\"]\n",
    "data_facial_coverings_SO = data_facial_coverings_SO.drop(['country_code','country_name'],axis=1)\n",
    "data_facial_coverings_SO_average = data_facial_coverings_SO.mean(axis=1)\n",
    "data_facial_coverings_SO_average = data_facial_coverings_SO_average/(data_facial_coverings_SO.max(axis=1)-data_facial_coverings_SO.min(axis=1))\n",
    "data_facial_coverings_SO_average = data_facial_coverings_SO_average.mean()\n",
    "print(data_facial_coverings_SO_average)\n",
    "\n",
    "data_facial_coverings_CN = data_facial_coverings[data_facial_coverings['country_name'] == \"China\"]\n",
    "data_facial_coverings_CN = data_facial_coverings_CN.drop(['country_code','country_name'],axis=1)\n",
    "data_facial_coverings_CN_average = data_facial_coverings_CN.mean(axis=1)\n",
    "data_facial_coverings_CN_average = data_facial_coverings_CN_average/(data_facial_coverings_CN.max(axis=1)-data_facial_coverings_CN.min(axis=1))\n",
    "data_facial_coverings_CN_average = data_facial_coverings_CN_average.mean()\n",
    "print(data_facial_coverings_CN_average)\n",
    "data_facial_coverings_EG = data_facial_coverings[data_facial_coverings['country_name'] == \"Egypt\"]\n",
    "data_facial_coverings_EG = data_facial_coverings_EG.drop(['country_code','country_name'],axis=1)\n",
    "data_facial_coverings_EG_average = data_facial_coverings_EG.mean(axis=1)\n",
    "data_facial_coverings_EG_average = data_facial_coverings_EG_average/(data_facial_coverings_EG.max(axis=1)-data_facial_coverings_EG.min(axis=1))\n",
    "data_facial_coverings_EG_average = data_facial_coverings_EG_average.mean()\n",
    "print(data_facial_coverings_EG_average)\n",
    "data_facial_coverings_IL = data_facial_coverings[data_facial_coverings['country_name'] == \"Israel\"]\n",
    "data_facial_coverings_IL = data_facial_coverings_IL.drop(['country_code','country_name'],axis=1)\n",
    "data_facial_coverings_IL_average = data_facial_coverings_IL.mean(axis=1)\n",
    "data_facial_coverings_IL_average = data_facial_coverings_IL_average/(data_facial_coverings_IL.max(axis=1)-data_facial_coverings_IL.min(axis=1))\n",
    "data_facial_coverings_IL_average = data_facial_coverings_IL_average.mean()\n",
    "print(data_facial_coverings_IL_average)\n",
    "data_facial_coverings_KG = data_facial_coverings[data_facial_coverings['country_name'] == \"Kyrgyz Republic\"]\n",
    "data_facial_coverings_KG = data_facial_coverings_KG.drop(['country_code','country_name'],axis=1)\n",
    "data_facial_coverings_KG_average = data_facial_coverings_KG.mean(axis=1)\n",
    "data_facial_coverings_KG_average = data_facial_coverings_KG_average/(data_facial_coverings_KG.max(axis=1)-data_facial_coverings_KG.min(axis=1))\n",
    "data_facial_coverings_KG_average = data_facial_coverings_KG_average.mean()\n",
    "print(data_facial_coverings_KG_average)\n",
    "data_facial_coverings_TJ = data_facial_coverings[data_facial_coverings['country_name'] == \"Tajikistan\"]\n",
    "data_facial_coverings_TJ = data_facial_coverings_TJ.drop(['country_code','country_name'],axis=1)\n",
    "data_facial_coverings_TJ_average = data_facial_coverings_TJ.mean(axis=1)\n",
    "data_facial_coverings_TJ_average = data_facial_coverings_TJ_average/(data_facial_coverings_TJ.max(axis=1)-data_facial_coverings_TJ.min(axis=1))\n",
    "data_facial_coverings_TJ_average = data_facial_coverings_TJ_average.mean()\n",
    "print(data_facial_coverings_TJ_average)\n",
    "\n",
    "data_facial_coverings_US = data_facial_coverings[data_facial_coverings['country_name'] == \"United States\"]\n",
    "data_facial_coverings_US = data_facial_coverings_US.drop(['country_code','country_name'],axis=1)\n",
    "data_facial_coverings_US_average = data_facial_coverings_US.mean(axis=1)\n",
    "data_facial_coverings_US_average = data_facial_coverings_US_average/(data_facial_coverings_US.max(axis=1)-data_facial_coverings_US.min(axis=1))\n",
    "data_facial_coverings_US_average = data_facial_coverings_US_average.mean()\n",
    "print(data_facial_coverings_US_average)\n",
    "data_facial_coverings_BR = data_facial_coverings[data_facial_coverings['country_name'] == \"Brazil\"]\n",
    "data_facial_coverings_BR = data_facial_coverings_BR.drop(['country_code','country_name'],axis=1)\n",
    "data_facial_coverings_BR_average = data_facial_coverings_BR.mean(axis=1)\n",
    "data_facial_coverings_BR_average = data_facial_coverings_BR_average/(data_facial_coverings_BR.max(axis=1)-data_facial_coverings_BR.min(axis=1))\n",
    "data_facial_coverings_BR_average = data_facial_coverings_BR_average.mean()\n",
    "print(data_facial_coverings_BR_average)\n",
    "data_facial_coverings_CA = data_facial_coverings[data_facial_coverings['country_name'] == \"Canada\"]\n",
    "data_facial_coverings_CA = data_facial_coverings_CA.drop(['country_code','country_name'],axis=1)\n",
    "data_facial_coverings_CA_average = data_facial_coverings_CA.mean(axis=1)\n",
    "data_facial_coverings_CA_average = data_facial_coverings_CA_average/(data_facial_coverings_CA.max(axis=1)-data_facial_coverings_CA.min(axis=1))\n",
    "data_facial_coverings_CA_average = data_facial_coverings_CA_average.mean()\n",
    "print(data_facial_coverings_CA_average)\n",
    "data_facial_coverings_PH = data_facial_coverings[data_facial_coverings['country_name'] == \"Philippines\"]\n",
    "data_facial_coverings_PH = data_facial_coverings_PH.drop(['country_code','country_name'],axis=1)\n",
    "data_facial_coverings_PH_average = data_facial_coverings_PH.mean(axis=1)\n",
    "data_facial_coverings_PH_average = data_facial_coverings_PH_average/(data_facial_coverings_PH.max(axis=1)-data_facial_coverings_PH.min(axis=1))\n",
    "data_facial_coverings_PH_average = data_facial_coverings_PH_average.mean()\n",
    "print(data_facial_coverings_PH_average)\n",
    "data_facial_coverings_RU = data_facial_coverings[data_facial_coverings['country_name'] == \"Russia\"]\n",
    "data_facial_coverings_RU = data_facial_coverings_RU.drop(['country_code','country_name'],axis=1)\n",
    "data_facial_coverings_RU_average = data_facial_coverings_RU.mean(axis=1)\n",
    "data_facial_coverings_RU_average = data_facial_coverings_RU_average/(data_facial_coverings_RU.max(axis=1)-data_facial_coverings_RU.min(axis=1))\n",
    "data_facial_coverings_RU_average = data_facial_coverings_RU_average.mean()\n",
    "print(data_facial_coverings_RU_average)\n",
    "data_facial_coverings_MX = data_facial_coverings[data_facial_coverings['country_name'] == \"Mexico\"]\n",
    "data_facial_coverings_MX = data_facial_coverings_MX.drop(['country_code','country_name'],axis=1)\n",
    "data_facial_coverings_MX_average = data_facial_coverings_MX.mean(axis=1)\n",
    "data_facial_coverings_MX_average = data_facial_coverings_MX_average/(data_facial_coverings_MX.max(axis=1)-data_facial_coverings_MX.min(axis=1))\n",
    "data_facial_coverings_MX_average = data_facial_coverings_MX_average.mean()\n",
    "print(data_facial_coverings_MX_average)\n",
    "data_facial_coverings_GB = data_facial_coverings[data_facial_coverings['country_name'] == \"United Kingdom\"]\n",
    "data_facial_coverings_GB = data_facial_coverings_GB.drop(['country_code','country_name'],axis=1)\n",
    "data_facial_coverings_GB_average = data_facial_coverings_GB.mean(axis=1)\n",
    "data_facial_coverings_GB_average = data_facial_coverings_GB_average/(data_facial_coverings_GB.max(axis=1)-data_facial_coverings_GB.min(axis=1))\n",
    "data_facial_coverings_GB_average = data_facial_coverings_GB_average.mean()\n",
    "print(data_facial_coverings_GB_average)\n",
    "data_facial_coverings_KR = data_facial_coverings[data_facial_coverings['country_name'] == \"South Korea\"]\n",
    "data_facial_coverings_KR = data_facial_coverings_KR.drop(['country_code','country_name'],axis=1)\n",
    "data_facial_coverings_KR_average = data_facial_coverings_KR.mean(axis=1)\n",
    "data_facial_coverings_KR_average = data_facial_coverings_KR_average/(data_facial_coverings_KR.max(axis=1)-data_facial_coverings_KR.min(axis=1))\n",
    "data_facial_coverings_KR_average = data_facial_coverings_KR_average.mean()\n",
    "print(data_facial_coverings_KR_average)"
   ]
  },
  {
   "cell_type": "code",
   "execution_count": 41,
   "metadata": {},
   "outputs": [
    {
     "data": {
      "image/png": "[encoded data removed]",
      "text/plain": [
       "<Figure size 432x288 with 1 Axes>"
      ]
     },
     "metadata": {
      "needs_background": "light"
     },
     "output_type": "display_data"
    }
   ],
   "source": [
    "x = [\"AU\",\"NZ\",\"SG\",\"TH\",\"SO\",\"CN\",\"EG\",\"IL\",\"KG\",\"TJ\",\"US\",\"BR\",\"CA\",\"PH\",\"RU\"]\n",
    "y = [data_facial_coverings_AU_average, data_facial_coverings_NZ_average, data_facial_coverings_SG_average, data_facial_coverings_TH_average, data_facial_coverings_SO_average,\n",
    "     data_facial_coverings_CN_average, data_facial_coverings_EG_average, data_facial_coverings_IL_average, data_facial_coverings_KG_average, data_facial_coverings_TJ_average, \n",
    "     data_facial_coverings_US_average, data_facial_coverings_BR_average, data_facial_coverings_CA_average, data_facial_coverings_PH_average, data_facial_coverings_RU_average]\n",
    "plt.bar(x, y, alpha=0.7, width=0.6, color='gggggyyyyyrrrrr', edgecolor='yellow', label='facial_coverings', lw=3)\n",
    "plt.legend(loc='upper left')\n",
    "plt.show()\n"
   ]
  },
  {
   "cell_type": "code",
   "execution_count": null,
   "metadata": {},
   "outputs": [],
   "source": []
  }
 ],
 "metadata": {
  "kernelspec": {
   "display_name": "Python 3",
   "language": "python",
   "name": "python3"
  },
  "language_info": {
   "codemirror_mode": {
    "name": "ipython",
    "version": 3
   },
   "file_extension": ".py",
   "mimetype": "text/x-python",
   "name": "python",
   "nbconvert_exporter": "python",
   "pygments_lexer": "ipython3",
   "version": "3.7.7"
  }
 },
 "nbformat": 4,
 "nbformat_minor": 4
}
