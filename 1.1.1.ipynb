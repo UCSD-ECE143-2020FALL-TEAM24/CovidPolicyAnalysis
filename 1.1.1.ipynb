{
 "cells": [
  {
   "cell_type": "markdown",
   "metadata": {},
   "source": [
    "https://www.endcoronavirus.org/countries"
   ]
  },
  {
   "cell_type": "code",
   "execution_count": 2,
   "metadata": {},
   "outputs": [],
   "source": [
    "xls = pd.ExcelFile(\"https://github.com/OxCGRT/covid-policy-tracker/raw/master/data/timeseries/OxCGRT_timeseries_all.xlsx\")\n",
    "fc_data = pd.read_excel(xls, 'h6_facial_coverings')"
   ]
  },
  {
   "cell_type": "code",
   "execution_count": 35,
   "metadata": {},
   "outputs": [],
   "source": [
    "import pandas as pd\n",
    "import numpy as np\n",
    "import matplotlib.pyplot as plt"
   ]
  },
  {
   "cell_type": "code",
   "execution_count": 36,
   "metadata": {},
   "outputs": [],
   "source": [
    "import warnings\n",
    "warnings.filterwarnings(\"ignore\")"
   ]
  },
  {
   "cell_type": "code",
   "execution_count": 37,
   "metadata": {},
   "outputs": [
    {
     "name": "stdout",
     "output_type": "stream",
     "text": [
      "The dataset currently contains 74868 records, here is a sample:\n"
     ]
    },
    {
     "data": {
      "text/html": [
       "<div>\n",
       "<style scoped>\n",
       "    .dataframe tbody tr th:only-of-type {\n",
       "        vertical-align: middle;\n",
       "    }\n",
       "\n",
       "    .dataframe tbody tr th {\n",
       "        vertical-align: top;\n",
       "    }\n",
       "\n",
       "    .dataframe thead th {\n",
       "        text-align: right;\n",
       "    }\n",
       "</style>\n",
       "<table border=\"1\" class=\"dataframe\">\n",
       "  <thead>\n",
       "    <tr style=\"text-align: right;\">\n",
       "      <th></th>\n",
       "      <th>date</th>\n",
       "      <th>key</th>\n",
       "      <th>school_closing</th>\n",
       "      <th>workplace_closing</th>\n",
       "      <th>cancel_public_events</th>\n",
       "      <th>restrictions_on_gatherings</th>\n",
       "      <th>public_transport_closing</th>\n",
       "      <th>stay_at_home_requirements</th>\n",
       "      <th>restrictions_on_internal_movement</th>\n",
       "      <th>international_travel_controls</th>\n",
       "      <th>income_support</th>\n",
       "      <th>debt_relief</th>\n",
       "      <th>fiscal_measures</th>\n",
       "      <th>international_support</th>\n",
       "      <th>public_information_campaigns</th>\n",
       "      <th>testing_policy</th>\n",
       "      <th>contact_tracing</th>\n",
       "      <th>emergency_investment_in_healthcare</th>\n",
       "      <th>investment_in_vaccines</th>\n",
       "      <th>stringency_index</th>\n",
       "    </tr>\n",
       "  </thead>\n",
       "  <tbody>\n",
       "    <tr>\n",
       "      <th>9132</th>\n",
       "      <td>2020-02-08</td>\n",
       "      <td>US_NE</td>\n",
       "      <td>0.0</td>\n",
       "      <td>0.0</td>\n",
       "      <td>0.0</td>\n",
       "      <td>0.0</td>\n",
       "      <td>0.0</td>\n",
       "      <td>0.0</td>\n",
       "      <td>0.0</td>\n",
       "      <td>2.0</td>\n",
       "      <td>0.0</td>\n",
       "      <td>0.0</td>\n",
       "      <td>NaN</td>\n",
       "      <td>NaN</td>\n",
       "      <td>1.0</td>\n",
       "      <td>1.0</td>\n",
       "      <td>1.0</td>\n",
       "      <td>NaN</td>\n",
       "      <td>NaN</td>\n",
       "      <td>11.11</td>\n",
       "    </tr>\n",
       "    <tr>\n",
       "      <th>5809</th>\n",
       "      <td>2020-01-25</td>\n",
       "      <td>TZ</td>\n",
       "      <td>0.0</td>\n",
       "      <td>0.0</td>\n",
       "      <td>0.0</td>\n",
       "      <td>0.0</td>\n",
       "      <td>0.0</td>\n",
       "      <td>0.0</td>\n",
       "      <td>0.0</td>\n",
       "      <td>0.0</td>\n",
       "      <td>0.0</td>\n",
       "      <td>0.0</td>\n",
       "      <td>0.0</td>\n",
       "      <td>0.0</td>\n",
       "      <td>0.0</td>\n",
       "      <td>0.0</td>\n",
       "      <td>0.0</td>\n",
       "      <td>0.0</td>\n",
       "      <td>0.0</td>\n",
       "      <td>0.00</td>\n",
       "    </tr>\n",
       "  </tbody>\n",
       "</table>\n",
       "</div>"
      ],
      "text/plain": [
       "            date    key  school_closing  workplace_closing  \\\n",
       "9132  2020-02-08  US_NE             0.0                0.0   \n",
       "5809  2020-01-25     TZ             0.0                0.0   \n",
       "\n",
       "      cancel_public_events  restrictions_on_gatherings  \\\n",
       "9132                   0.0                         0.0   \n",
       "5809                   0.0                         0.0   \n",
       "\n",
       "      public_transport_closing  stay_at_home_requirements  \\\n",
       "9132                       0.0                        0.0   \n",
       "5809                       0.0                        0.0   \n",
       "\n",
       "      restrictions_on_internal_movement  international_travel_controls  \\\n",
       "9132                                0.0                            2.0   \n",
       "5809                                0.0                            0.0   \n",
       "\n",
       "      income_support  debt_relief  fiscal_measures  international_support  \\\n",
       "9132             0.0          0.0              NaN                    NaN   \n",
       "5809             0.0          0.0              0.0                    0.0   \n",
       "\n",
       "      public_information_campaigns  testing_policy  contact_tracing  \\\n",
       "9132                           1.0             1.0              1.0   \n",
       "5809                           0.0             0.0              0.0   \n",
       "\n",
       "      emergency_investment_in_healthcare  investment_in_vaccines  \\\n",
       "9132                                 NaN                     NaN   \n",
       "5809                                 0.0                     0.0   \n",
       "\n",
       "      stringency_index  \n",
       "9132             11.11  \n",
       "5809              0.00  "
      ]
     },
     "execution_count": 37,
     "metadata": {},
     "output_type": "execute_result"
    }
   ],
   "source": [
    "# Load CSV data directly from the URL with pandas, the options are needed to prevent\n",
    "# reading of records with key \"NA\" (Namibia) as NaN\n",
    "data = pd.read_csv(\n",
    "    \"https://storage.googleapis.com/covid19-open-data/v2/oxford-government-response.csv\",\n",
    "    keep_default_na=False,\n",
    "    na_values=[\"\"],\n",
    ")\n",
    "\n",
    "# NOTE: We are only downloading the last day of data, but you can download all\n",
    "# the data at once if you'd like by changing the URL to:\n",
    "# https://storage.googleapis.com/covid19-open-data/v2/main.csv\n",
    "\n",
    "# Print a small snippet of the dataset\n",
    "print(f\"The dataset currently contains {len(data)} records, here is a sample:\")\n",
    "data.sample(2)"
   ]
  },
  {
   "cell_type": "markdown",
   "metadata": {},
   "source": [
    "choose specific policies (closure and health)"
   ]
  },
  {
   "cell_type": "code",
   "execution_count": 38,
   "metadata": {},
   "outputs": [],
   "source": [
    "data_closure = data[['date','key','school_closing', 'workplace_closing', 'cancel_public_events','restrictions_on_gatherings','public_transport_closing','stay_at_home_requirements','restrictions_on_internal_movement','international_travel_controls']]\n",
    "data_health = data[['date','key', 'testing_policy', 'contact_tracing','emergency_investment_in_healthcare','investment_in_vaccines']] "
   ]
  },
  {
   "cell_type": "markdown",
   "metadata": {},
   "source": [
    "pick: \n",
    "GREEN \n",
    "1. Australia              AU\n",
    "2. New Zealand       NZ\n",
    "3. Singapore           SG  \n",
    "4. Thailand              TH\n",
    "5. Somalia               SO\n",
    "\n",
    "YELLOW\n",
    "1. China                CN   \n",
    "2. Egypt                EG\n",
    "3. Israel                 IL\n",
    "4. Kyrgyzstan       KG\n",
    "5. Tajikistan          TJ\n",
    "\n",
    "RED\n",
    "1. USA                 US\n",
    "2. Brazil               BR\n",
    "3. Canada           CA\n",
    "4. Philippines      PH\n",
    "5. Russia            RU\n"
   ]
  },
  {
   "cell_type": "markdown",
   "metadata": {},
   "source": [
    "Australia, New Zealand, Singapore, Thailand, Somalia"
   ]
  },
  {
   "cell_type": "markdown",
   "metadata": {},
   "source": [
    "Closure Policy Data of AU"
   ]
  },
  {
   "cell_type": "code",
   "execution_count": 39,
   "metadata": {},
   "outputs": [],
   "source": [
    "data_closure_AU = data_closure[data_closure['key'] == \"AU\"]"
   ]
  },
  {
   "cell_type": "code",
   "execution_count": 40,
   "metadata": {},
   "outputs": [],
   "source": [
    "s1 = (data_closure_AU['school_closing'] - data_closure_AU['school_closing'].min())/(data_closure_AU['school_closing'].max() - data_closure_AU['school_closing'].min())\n",
    "data_closure_AU = data_closure_AU.drop(['school_closing'],axis=1)\n",
    "data_closure_AU.insert(2,'school_closing',s1)\n",
    "s2 = (data_closure_AU['workplace_closing'] - data_closure_AU['workplace_closing'].min())/(data_closure_AU['workplace_closing'].max() - data_closure_AU['workplace_closing'].min())\n",
    "data_closure_AU = data_closure_AU.drop(['workplace_closing'],axis=1)\n",
    "data_closure_AU.insert(3,'workplace_closing',s2)\n",
    "s3 = (data_closure_AU['cancel_public_events'] - data_closure_AU['cancel_public_events'].min())/(data_closure_AU['cancel_public_events'].max() - data_closure_AU['cancel_public_events'].min())\n",
    "data_closure_AU = data_closure_AU.drop(['cancel_public_events'],axis=1)\n",
    "data_closure_AU.insert(4,'cancel_public_events',s3)\n",
    "s4 = (data_closure_AU['restrictions_on_gatherings'] - data_closure_AU['restrictions_on_gatherings'].min())/(data_closure_AU['restrictions_on_gatherings'].max() - data_closure_AU['restrictions_on_gatherings'].min())\n",
    "data_closure_AU = data_closure_AU.drop(['restrictions_on_gatherings'],axis=1)\n",
    "data_closure_AU.insert(5,'restrictions_on_gatherings',s4)\n",
    "s5 = (data_closure_AU['public_transport_closing'] - data_closure_AU['public_transport_closing'].min())/(data_closure_AU['public_transport_closing'].max() - data_closure_AU['public_transport_closing'].min())\n",
    "data_closure_AU = data_closure_AU.drop(['public_transport_closing'],axis=1)\n",
    "data_closure_AU.insert(6,'public_transport_closing',s5)\n",
    "s6 = (data_closure_AU['stay_at_home_requirements'] - data_closure_AU['stay_at_home_requirements'].min())/(data_closure_AU['stay_at_home_requirements'].max() - data_closure_AU['stay_at_home_requirements'].min())\n",
    "data_closure_AU = data_closure_AU.drop(['stay_at_home_requirements'],axis=1)\n",
    "data_closure_AU.insert(7,'stay_at_home_requirements',s6)\n",
    "s7 = (data_closure_AU['restrictions_on_internal_movement'] - data_closure_AU['restrictions_on_internal_movement'].min())/(data_closure_AU['restrictions_on_internal_movement'].max() - data_closure_AU['restrictions_on_internal_movement'].min())\n",
    "data_closure_AU = data_closure_AU.drop(['restrictions_on_internal_movement'],axis=1)\n",
    "data_closure_AU.insert(8,'restrictions_on_internal_movement',s7)\n",
    "s8 = (data_closure_AU['international_travel_controls'] - data_closure_AU['international_travel_controls'].min())/(data_closure_AU['international_travel_controls'].max() - data_closure_AU['international_travel_controls'].min())\n",
    "data_closure_AU = data_closure_AU.drop(['international_travel_controls'],axis=1)\n",
    "data_closure_AU.insert(9,'international_travel_controls',s8)"
   ]
  },
  {
   "cell_type": "code",
   "execution_count": 41,
   "metadata": {},
   "outputs": [
    {
     "data": {
      "text/plain": [
       "0.6304517133956387"
      ]
     },
     "execution_count": 41,
     "metadata": {},
     "output_type": "execute_result"
    }
   ],
   "source": [
    "AU_closure_average_ontime = data_closure_AU.mean(axis = 0) \n",
    "AU_closure_average = AU_closure_average_ontime.mean()\n",
    "AU_closure_average"
   ]
  },
  {
   "cell_type": "markdown",
   "metadata": {},
   "source": [
    "Health Policy Data of AU"
   ]
  },
  {
   "cell_type": "code",
   "execution_count": 42,
   "metadata": {},
   "outputs": [
    {
     "data": {
      "text/plain": [
       "0.4134327067716877"
      ]
     },
     "execution_count": 42,
     "metadata": {},
     "output_type": "execute_result"
    }
   ],
   "source": [
    "data_health_AU = data_health[data_health['key'] == \"AU\"]\n",
    "\n",
    "s1 = (data_health_AU['testing_policy'] - data_health_AU['testing_policy'].min())/(data_health_AU['testing_policy'].max() - data_health_AU['testing_policy'].min())\n",
    "data_health_AU = data_health_AU.drop(['testing_policy'],axis=1)\n",
    "data_health_AU.insert(2,'testing_policy',s1)\n",
    "s2 = (data_health_AU['contact_tracing'] - data_health_AU['contact_tracing'].min())/(data_health_AU['contact_tracing'].max() - data_health_AU['contact_tracing'].min())\n",
    "data_health_AU = data_health_AU.drop(['contact_tracing'],axis=1)\n",
    "data_health_AU.insert(3,'contact_tracing',s2)\n",
    "s3 = (data_health_AU['emergency_investment_in_healthcare'] - data_health_AU['emergency_investment_in_healthcare'].min())/(data_health_AU['emergency_investment_in_healthcare'].max() - data_health_AU['emergency_investment_in_healthcare'].min())\n",
    "data_health_AU = data_health_AU.drop(['emergency_investment_in_healthcare'],axis=1)\n",
    "data_health_AU.insert(4,'emergency_investment_in_healthcare',s3)\n",
    "s4 = (data_health_AU['investment_in_vaccines'] - data_health_AU['investment_in_vaccines'].min())/(data_health_AU['investment_in_vaccines'].max() - data_health_AU['investment_in_vaccines'].min())\n",
    "data_health_AU = data_health_AU.drop(['investment_in_vaccines'],axis=1)\n",
    "data_health_AU.insert(5,'investment_in_vaccines',s4)\n",
    "\n",
    "AU_health_average_ontime = data_health_AU.mean(axis = 0) \n",
    "AU_health_average = AU_health_average_ontime.mean()\n",
    "AU_health_average"
   ]
  },
  {
   "cell_type": "code",
   "execution_count": 43,
   "metadata": {},
   "outputs": [
    {
     "name": "stdout",
     "output_type": "stream",
     "text": [
      "0.3259676159012453\n",
      "0.39899621175701405\n"
     ]
    }
   ],
   "source": [
    "data_closure_NZ = data_closure[data_closure['key'] == \"NZ\"]\n",
    "\n",
    "s1 = (data_closure_NZ['school_closing'] - data_closure_NZ['school_closing'].min())/(data_closure_NZ['school_closing'].max() - data_closure_NZ['school_closing'].min())\n",
    "data_closure_NZ = data_closure_NZ.drop(['school_closing'],axis=1)\n",
    "data_closure_NZ.insert(2,'school_closing',s1)\n",
    "s2 = (data_closure_NZ['workplace_closing'] - data_closure_NZ['workplace_closing'].min())/(data_closure_NZ['workplace_closing'].max() - data_closure_NZ['workplace_closing'].min())\n",
    "data_closure_NZ = data_closure_NZ.drop(['workplace_closing'],axis=1)\n",
    "data_closure_NZ.insert(3,'workplace_closing',s2)\n",
    "s3 = (data_closure_NZ['cancel_public_events'] - data_closure_NZ['cancel_public_events'].min())/(data_closure_NZ['cancel_public_events'].max() - data_closure_NZ['cancel_public_events'].min())\n",
    "data_closure_NZ = data_closure_NZ.drop(['cancel_public_events'],axis=1)\n",
    "data_closure_NZ.insert(4,'cancel_public_events',s3)\n",
    "s4 = (data_closure_NZ['restrictions_on_gatherings'] - data_closure_NZ['restrictions_on_gatherings'].min())/(data_closure_NZ['restrictions_on_gatherings'].max() - data_closure_NZ['restrictions_on_gatherings'].min())\n",
    "data_closure_NZ = data_closure_NZ.drop(['restrictions_on_gatherings'],axis=1)\n",
    "data_closure_NZ.insert(5,'restrictions_on_gatherings',s4)\n",
    "s5 = (data_closure_NZ['public_transport_closing'] - data_closure_NZ['public_transport_closing'].min())/(data_closure_NZ['public_transport_closing'].max() - data_closure_NZ['public_transport_closing'].min())\n",
    "data_closure_NZ = data_closure_NZ.drop(['public_transport_closing'],axis=1)\n",
    "data_closure_NZ.insert(6,'public_transport_closing',s5)\n",
    "s6 = (data_closure_NZ['stay_at_home_requirements'] - data_closure_NZ['stay_at_home_requirements'].min())/(data_closure_NZ['stay_at_home_requirements'].max() - data_closure_NZ['stay_at_home_requirements'].min())\n",
    "data_closure_NZ = data_closure_NZ.drop(['stay_at_home_requirements'],axis=1)\n",
    "data_closure_NZ.insert(7,'stay_at_home_requirements',s6)\n",
    "s7 = (data_closure_NZ['restrictions_on_internal_movement'] - data_closure_NZ['restrictions_on_internal_movement'].min())/(data_closure_NZ['restrictions_on_internal_movement'].max() - data_closure_NZ['restrictions_on_internal_movement'].min())\n",
    "data_closure_NZ = data_closure_NZ.drop(['restrictions_on_internal_movement'],axis=1)\n",
    "data_closure_NZ.insert(8,'restrictions_on_internal_movement',s7)\n",
    "s8 = (data_closure_NZ['international_travel_controls'] - data_closure_NZ['international_travel_controls'].min())/(data_closure_NZ['international_travel_controls'].max() - data_closure_NZ['international_travel_controls'].min())\n",
    "data_closure_NZ = data_closure_NZ.drop(['international_travel_controls'],axis=1)\n",
    "data_closure_NZ.insert(9,'international_travel_controls',s8)\n",
    "\n",
    "NZ_closure_average_ontime = data_closure_NZ.mean(axis = 0) \n",
    "NZ_closure_average = NZ_closure_average_ontime.mean()\n",
    "print(NZ_closure_average)\n",
    "\n",
    "\n",
    "data_health_NZ = data_health[data_health['key'] == \"NZ\"]\n",
    "s1 = (data_health_NZ['testing_policy'] - data_health_NZ['testing_policy'].min())/(data_health_NZ['testing_policy'].max() - data_health_NZ['testing_policy'].min())\n",
    "data_health_NZ = data_health_NZ.drop(['testing_policy'],axis=1)\n",
    "data_health_NZ.insert(2,'testing_policy',s1)\n",
    "s2 = (data_health_NZ['contact_tracing'] - data_health_NZ['contact_tracing'].min())/(data_health_NZ['contact_tracing'].max() - data_health_NZ['contact_tracing'].min())\n",
    "data_health_NZ = data_health_NZ.drop(['contact_tracing'],axis=1)\n",
    "data_health_NZ.insert(3,'contact_tracing',s2)\n",
    "s3 = (data_health_NZ['emergency_investment_in_healthcare'] - data_health_NZ['emergency_investment_in_healthcare'].min())/(data_health_NZ['emergency_investment_in_healthcare'].max() - data_health_NZ['emergency_investment_in_healthcare'].min())\n",
    "data_health_NZ = data_health_NZ.drop(['emergency_investment_in_healthcare'],axis=1)\n",
    "data_health_NZ.insert(4,'emergency_investment_in_healthcare',s3)\n",
    "s4 = (data_health_NZ['investment_in_vaccines'] - data_health_NZ['investment_in_vaccines'].min())/(data_health_NZ['investment_in_vaccines'].max() - data_health_NZ['investment_in_vaccines'].min())\n",
    "data_health_NZ = data_health_NZ.drop(['investment_in_vaccines'],axis=1)\n",
    "data_health_NZ.insert(5,'investment_in_vaccines',s4)\n",
    "\n",
    "NZ_health_average_ontime = data_health_NZ.mean(axis = 0) \n",
    "NZ_health_average = NZ_health_average_ontime.mean()\n",
    "print(NZ_health_average)"
   ]
  },
  {
   "cell_type": "code",
   "execution_count": 44,
   "metadata": {},
   "outputs": [
    {
     "name": "stdout",
     "output_type": "stream",
     "text": [
      "0.5089379600420609\n",
      "0.6356466876971609\n"
     ]
    }
   ],
   "source": [
    "data_closure_SG = data_closure[data_closure['key'] == \"SG\"]\n",
    "\n",
    "s1 = (data_closure_SG['school_closing'] - data_closure_SG['school_closing'].min())/(data_closure_SG['school_closing'].max() - data_closure_SG['school_closing'].min())\n",
    "data_closure_SG = data_closure_SG.drop(['school_closing'],axis=1)\n",
    "data_closure_SG.insert(2,'school_closing',s1)\n",
    "s2 = (data_closure_SG['workplace_closing'] - data_closure_SG['workplace_closing'].min())/(data_closure_SG['workplace_closing'].max() - data_closure_SG['workplace_closing'].min())\n",
    "data_closure_SG = data_closure_SG.drop(['workplace_closing'],axis=1)\n",
    "data_closure_SG.insert(3,'workplace_closing',s2)\n",
    "s3 = (data_closure_SG['cancel_public_events'] - data_closure_SG['cancel_public_events'].min())/(data_closure_SG['cancel_public_events'].max() - data_closure_SG['cancel_public_events'].min())\n",
    "data_closure_SG = data_closure_SG.drop(['cancel_public_events'],axis=1)\n",
    "data_closure_SG.insert(4,'cancel_public_events',s3)\n",
    "s4 = (data_closure_SG['restrictions_on_gatherings'] - data_closure_SG['restrictions_on_gatherings'].min())/(data_closure_SG['restrictions_on_gatherings'].max() - data_closure_SG['restrictions_on_gatherings'].min())\n",
    "data_closure_SG = data_closure_SG.drop(['restrictions_on_gatherings'],axis=1)\n",
    "data_closure_SG.insert(5,'restrictions_on_gatherings',s4)\n",
    "s5 = (data_closure_SG['public_transport_closing'] - data_closure_SG['public_transport_closing'].min())/(data_closure_SG['public_transport_closing'].max() - data_closure_SG['public_transport_closing'].min())\n",
    "data_closure_SG = data_closure_SG.drop(['public_transport_closing'],axis=1)\n",
    "data_closure_SG.insert(6,'public_transport_closing',s5)\n",
    "s6 = (data_closure_SG['stay_at_home_requirements'] - data_closure_SG['stay_at_home_requirements'].min())/(data_closure_SG['stay_at_home_requirements'].max() - data_closure_SG['stay_at_home_requirements'].min())\n",
    "data_closure_SG = data_closure_SG.drop(['stay_at_home_requirements'],axis=1)\n",
    "data_closure_SG.insert(7,'stay_at_home_requirements',s6)\n",
    "s7 = (data_closure_SG['restrictions_on_internal_movement'] - data_closure_SG['restrictions_on_internal_movement'].min())/(data_closure_SG['restrictions_on_internal_movement'].max() - data_closure_SG['restrictions_on_internal_movement'].min())\n",
    "data_closure_SG = data_closure_SG.drop(['restrictions_on_internal_movement'],axis=1)\n",
    "data_closure_SG.insert(8,'restrictions_on_internal_movement',s7)\n",
    "s8 = (data_closure_SG['international_travel_controls'] - data_closure_SG['international_travel_controls'].min())/(data_closure_SG['international_travel_controls'].max() - data_closure_SG['international_travel_controls'].min())\n",
    "data_closure_SG = data_closure_SG.drop(['international_travel_controls'],axis=1)\n",
    "data_closure_SG.insert(9,'international_travel_controls',s8)\n",
    "\n",
    "SG_closure_average_ontime = data_closure_SG.mean(axis = 0) \n",
    "SG_closure_average = SG_closure_average_ontime.mean()\n",
    "print(SG_closure_average)\n",
    "\n",
    "\n",
    "data_health_SG = data_health[data_health['key'] == \"SG\"]\n",
    "s1 = (data_health_SG['testing_policy'] - data_health_SG['testing_policy'].min())/(data_health_SG['testing_policy'].max() - data_health_SG['testing_policy'].min())\n",
    "data_health_SG = data_health_SG.drop(['testing_policy'],axis=1)\n",
    "data_health_SG.insert(2,'testing_policy',s1)\n",
    "s2 = (data_health_SG['contact_tracing'] - data_health_SG['contact_tracing'].min())/(data_health_SG['contact_tracing'].max() - data_health_SG['contact_tracing'].min())\n",
    "data_health_SG = data_health_SG.drop(['contact_tracing'],axis=1)\n",
    "data_health_SG.insert(3,'contact_tracing',s2)\n",
    "s3 = (data_health_SG['emergency_investment_in_healthcare'] - data_health_SG['emergency_investment_in_healthcare'].min())/(data_health_SG['emergency_investment_in_healthcare'].max() - data_health_SG['emergency_investment_in_healthcare'].min())\n",
    "data_health_SG = data_health_SG.drop(['emergency_investment_in_healthcare'],axis=1)\n",
    "data_health_SG.insert(4,'emergency_investment_in_healthcare',s3)\n",
    "s4 = (data_health_SG['investment_in_vaccines'] - data_health_SG['investment_in_vaccines'].min())/(data_health_SG['investment_in_vaccines'].max() - data_health_SG['investment_in_vaccines'].min())\n",
    "data_health_SG = data_health_SG.drop(['investment_in_vaccines'],axis=1)\n",
    "data_health_SG.insert(5,'investment_in_vaccines',s4)\n",
    "\n",
    "SG_health_average_ontime = data_health_SG.mean(axis = 0) \n",
    "SG_health_average = SG_health_average_ontime.mean()\n",
    "print(SG_health_average)"
   ]
  },
  {
   "cell_type": "code",
   "execution_count": 45,
   "metadata": {},
   "outputs": [
    {
     "name": "stdout",
     "output_type": "stream",
     "text": [
      "0.5371744791666667\n",
      "0.3515625\n"
     ]
    }
   ],
   "source": [
    "data_closure_TH = data_closure[data_closure['key'] == \"TH\"]\n",
    "\n",
    "s1 = (data_closure_TH['school_closing'] - data_closure_TH['school_closing'].min())/(data_closure_TH['school_closing'].max() - data_closure_TH['school_closing'].min())\n",
    "data_closure_TH = data_closure_TH.drop(['school_closing'],axis=1)\n",
    "data_closure_TH.insert(2,'school_closing',s1)\n",
    "s2 = (data_closure_TH['workplace_closing'] - data_closure_TH['workplace_closing'].min())/(data_closure_TH['workplace_closing'].max() - data_closure_TH['workplace_closing'].min())\n",
    "data_closure_TH = data_closure_TH.drop(['workplace_closing'],axis=1)\n",
    "data_closure_TH.insert(3,'workplace_closing',s2)\n",
    "s3 = (data_closure_TH['cancel_public_events'] - data_closure_TH['cancel_public_events'].min())/(data_closure_TH['cancel_public_events'].max() - data_closure_TH['cancel_public_events'].min())\n",
    "data_closure_TH = data_closure_TH.drop(['cancel_public_events'],axis=1)\n",
    "data_closure_TH.insert(4,'cancel_public_events',s3)\n",
    "s4 = (data_closure_TH['restrictions_on_gatherings'] - data_closure_TH['restrictions_on_gatherings'].min())/(data_closure_TH['restrictions_on_gatherings'].max() - data_closure_TH['restrictions_on_gatherings'].min())\n",
    "data_closure_TH = data_closure_TH.drop(['restrictions_on_gatherings'],axis=1)\n",
    "data_closure_TH.insert(5,'restrictions_on_gatherings',s4)\n",
    "s5 = (data_closure_TH['public_transport_closing'] - data_closure_TH['public_transport_closing'].min())/(data_closure_TH['public_transport_closing'].max() - data_closure_TH['public_transport_closing'].min())\n",
    "data_closure_TH = data_closure_TH.drop(['public_transport_closing'],axis=1)\n",
    "data_closure_TH.insert(6,'public_transport_closing',s5)\n",
    "s6 = (data_closure_TH['stay_at_home_requirements'] - data_closure_TH['stay_at_home_requirements'].min())/(data_closure_TH['stay_at_home_requirements'].max() - data_closure_TH['stay_at_home_requirements'].min())\n",
    "data_closure_TH = data_closure_TH.drop(['stay_at_home_requirements'],axis=1)\n",
    "data_closure_TH.insert(7,'stay_at_home_requirements',s6)\n",
    "s7 = (data_closure_TH['restrictions_on_internal_movement'] - data_closure_TH['restrictions_on_internal_movement'].min())/(data_closure_TH['restrictions_on_internal_movement'].max() - data_closure_TH['restrictions_on_internal_movement'].min())\n",
    "data_closure_TH = data_closure_TH.drop(['restrictions_on_internal_movement'],axis=1)\n",
    "data_closure_TH.insert(8,'restrictions_on_internal_movement',s7)\n",
    "s8 = (data_closure_TH['international_travel_controls'] - data_closure_TH['international_travel_controls'].min())/(data_closure_TH['international_travel_controls'].max() - data_closure_TH['international_travel_controls'].min())\n",
    "data_closure_TH = data_closure_TH.drop(['international_travel_controls'],axis=1)\n",
    "data_closure_TH.insert(9,'international_travel_controls',s8)\n",
    "\n",
    "TH_closure_average_ontime = data_closure_TH.mean(axis = 0) \n",
    "TH_closure_average = TH_closure_average_ontime.mean()\n",
    "print(TH_closure_average)\n",
    "\n",
    "\n",
    "data_health_TH = data_health[data_health['key'] == \"TH\"]\n",
    "s1 = (data_health_TH['testing_policy'] - data_health_TH['testing_policy'].min())/(data_health_TH['testing_policy'].max() - data_health_TH['testing_policy'].min())\n",
    "data_health_TH = data_health_TH.drop(['testing_policy'],axis=1)\n",
    "data_health_TH.insert(2,'testing_policy',s1)\n",
    "s2 = (data_health_TH['contact_tracing'] - data_health_TH['contact_tracing'].min())/(data_health_TH['contact_tracing'].max() - data_health_TH['contact_tracing'].min())\n",
    "data_health_TH = data_health_TH.drop(['contact_tracing'],axis=1)\n",
    "data_health_TH.insert(3,'contact_tracing',s2)\n",
    "s3 = (data_health_TH['emergency_investment_in_healthcare'] - data_health_TH['emergency_investment_in_healthcare'].min())/(data_health_TH['emergency_investment_in_healthcare'].max() - data_health_TH['emergency_investment_in_healthcare'].min())\n",
    "data_health_TH = data_health_TH.drop(['emergency_investment_in_healthcare'],axis=1)\n",
    "data_health_TH.insert(4,'emergency_investment_in_healthcare',s3)\n",
    "s4 = (data_health_TH['investment_in_vaccines'] - data_health_TH['investment_in_vaccines'].min())/(data_health_TH['investment_in_vaccines'].max() - data_health_TH['investment_in_vaccines'].min())\n",
    "data_health_TH = data_health_TH.drop(['investment_in_vaccines'],axis=1)\n",
    "data_health_TH.insert(5,'investment_in_vaccines',s4)\n",
    "\n",
    "TH_health_average_ontime = data_health_TH.mean(axis = 0) \n",
    "TH_health_average = TH_health_average_ontime.mean()\n",
    "print(TH_health_average)"
   ]
  },
  {
   "cell_type": "code",
   "execution_count": 46,
   "metadata": {},
   "outputs": [
    {
     "name": "stdout",
     "output_type": "stream",
     "text": [
      "0.34640666082383875\n",
      "0.3619631901840491\n"
     ]
    }
   ],
   "source": [
    "data_closure_SO = data_closure[data_closure['key'] == \"SO\"]\n",
    "\n",
    "s1 = (data_closure_SO['school_closing'] - data_closure_SO['school_closing'].min())/(data_closure_SO['school_closing'].max() - data_closure_SO['school_closing'].min())\n",
    "data_closure_SO = data_closure_SO.drop(['school_closing'],axis=1)\n",
    "data_closure_SO.insert(2,'school_closing',s1)\n",
    "s2 = (data_closure_SO['workplace_closing'] - data_closure_SO['workplace_closing'].min())/(data_closure_SO['workplace_closing'].max() - data_closure_SO['workplace_closing'].min())\n",
    "data_closure_SO = data_closure_SO.drop(['workplace_closing'],axis=1)\n",
    "data_closure_SO.insert(3,'workplace_closing',s2)\n",
    "s3 = (data_closure_SO['cancel_public_events'] - data_closure_SO['cancel_public_events'].min())/(data_closure_SO['cancel_public_events'].max() - data_closure_SO['cancel_public_events'].min())\n",
    "data_closure_SO = data_closure_SO.drop(['cancel_public_events'],axis=1)\n",
    "data_closure_SO.insert(4,'cancel_public_events',s3)\n",
    "s4 = (data_closure_SO['restrictions_on_gatherings'] - data_closure_SO['restrictions_on_gatherings'].min())/(data_closure_SO['restrictions_on_gatherings'].max() - data_closure_SO['restrictions_on_gatherings'].min())\n",
    "data_closure_SO = data_closure_SO.drop(['restrictions_on_gatherings'],axis=1)\n",
    "data_closure_SO.insert(5,'restrictions_on_gatherings',s4)\n",
    "s5 = (data_closure_SO['public_transport_closing'] - data_closure_SO['public_transport_closing'].min())/(data_closure_SO['public_transport_closing'].max() - data_closure_SO['public_transport_closing'].min())\n",
    "data_closure_SO = data_closure_SO.drop(['public_transport_closing'],axis=1)\n",
    "data_closure_SO.insert(6,'public_transport_closing',s5)\n",
    "s6 = (data_closure_SO['stay_at_home_requirements'] - data_closure_SO['stay_at_home_requirements'].min())/(data_closure_SO['stay_at_home_requirements'].max() - data_closure_SO['stay_at_home_requirements'].min())\n",
    "data_closure_SO = data_closure_SO.drop(['stay_at_home_requirements'],axis=1)\n",
    "data_closure_SO.insert(7,'stay_at_home_requirements',s6)\n",
    "s7 = (data_closure_SO['restrictions_on_internal_movement'] - data_closure_SO['restrictions_on_internal_movement'].min())/(data_closure_SO['restrictions_on_internal_movement'].max() - data_closure_SO['restrictions_on_internal_movement'].min())\n",
    "data_closure_SO = data_closure_SO.drop(['restrictions_on_internal_movement'],axis=1)\n",
    "data_closure_SO.insert(8,'restrictions_on_internal_movement',s7)\n",
    "s8 = (data_closure_SO['international_travel_controls'] - data_closure_SO['international_travel_controls'].min())/(data_closure_SO['international_travel_controls'].max() - data_closure_SO['international_travel_controls'].min())\n",
    "data_closure_SO = data_closure_SO.drop(['international_travel_controls'],axis=1)\n",
    "data_closure_SO.insert(9,'international_travel_controls',s8)\n",
    "\n",
    "SO_closure_average_ontime = data_closure_SO.mean(axis = 0) \n",
    "SO_closure_average = SO_closure_average_ontime.mean()\n",
    "print(SO_closure_average)\n",
    "\n",
    "\n",
    "data_health_SO = data_health[data_health['key'] == \"SO\"]\n",
    "s1 = (data_health_SO['testing_policy'] - data_health_SO['testing_policy'].min())/(data_health_SO['testing_policy'].max() - data_health_SO['testing_policy'].min())\n",
    "data_health_SO = data_health_SO.drop(['testing_policy'],axis=1)\n",
    "data_health_SO.insert(2,'testing_policy',s1)\n",
    "s2 = (data_health_SO['contact_tracing'] - data_health_SO['contact_tracing'].min())/(data_health_SO['contact_tracing'].max() - data_health_SO['contact_tracing'].min())\n",
    "data_health_SO = data_health_SO.drop(['contact_tracing'],axis=1)\n",
    "data_health_SO.insert(3,'contact_tracing',s2)\n",
    "s3 = (data_health_SO['emergency_investment_in_healthcare'] - data_health_SO['emergency_investment_in_healthcare'].min())/(data_health_SO['emergency_investment_in_healthcare'].max() - data_health_SO['emergency_investment_in_healthcare'].min())\n",
    "data_health_SO = data_health_SO.drop(['emergency_investment_in_healthcare'],axis=1)\n",
    "data_health_SO.insert(4,'emergency_investment_in_healthcare',s3)\n",
    "s4 = (data_health_SO['investment_in_vaccines'] - data_health_SO['investment_in_vaccines'].min())/(data_health_SO['investment_in_vaccines'].max() - data_health_SO['investment_in_vaccines'].min())\n",
    "data_health_SO = data_health_SO.drop(['investment_in_vaccines'],axis=1)\n",
    "data_health_SO.insert(5,'investment_in_vaccines',s4)\n",
    "\n",
    "SO_health_average_ontime = data_health_SO.mean(axis = 0) \n",
    "SO_health_average = SO_health_average_ontime.mean()\n",
    "print(SO_health_average)"
   ]
  },
  {
   "cell_type": "markdown",
   "metadata": {},
   "source": [
    "China, Egypt, Israel, Kyrgyzstan, Tajikistan"
   ]
  },
  {
   "cell_type": "code",
   "execution_count": 47,
   "metadata": {},
   "outputs": [
    {
     "data": {
      "text/plain": [
       "0.8169414621676891"
      ]
     },
     "execution_count": 47,
     "metadata": {},
     "output_type": "execute_result"
    }
   ],
   "source": [
    "data_closure_CN = data_closure[data_closure['key'] == \"CN\"]\n",
    "\n",
    "s1 = (data_closure_CN['school_closing'] - data_closure_CN['school_closing'].min())/(data_closure_CN['school_closing'].max() - data_closure_CN['school_closing'].min())\n",
    "data_closure_CN = data_closure_CN.drop(['school_closing'],axis=1)\n",
    "data_closure_CN.insert(2,'school_closing',s1)\n",
    "s2 = (data_closure_CN['workplace_closing'] - data_closure_CN['workplace_closing'].min())/(data_closure_CN['workplace_closing'].max() - data_closure_CN['workplace_closing'].min())\n",
    "data_closure_CN = data_closure_CN.drop(['workplace_closing'],axis=1)\n",
    "data_closure_CN.insert(3,'workplace_closing',s2)\n",
    "s3 = (data_closure_CN['cancel_public_events'] - data_closure_CN['cancel_public_events'].min())/(data_closure_CN['cancel_public_events'].max() - data_closure_CN['cancel_public_events'].min())\n",
    "data_closure_CN = data_closure_CN.drop(['cancel_public_events'],axis=1)\n",
    "data_closure_CN.insert(4,'cancel_public_events',s3)\n",
    "s4 = (data_closure_CN['restrictions_on_gatherings'] - data_closure_CN['restrictions_on_gatherings'].min())/(data_closure_CN['restrictions_on_gatherings'].max() - data_closure_CN['restrictions_on_gatherings'].min())\n",
    "data_closure_CN = data_closure_CN.drop(['restrictions_on_gatherings'],axis=1)\n",
    "data_closure_CN.insert(5,'restrictions_on_gatherings',s4)\n",
    "s5 = (data_closure_CN['public_transport_closing'] - data_closure_CN['public_transport_closing'].min())/(data_closure_CN['public_transport_closing'].max() - data_closure_CN['public_transport_closing'].min())\n",
    "data_closure_CN = data_closure_CN.drop(['public_transport_closing'],axis=1)\n",
    "data_closure_CN.insert(6,'public_transport_closing',s5)\n",
    "s6 = (data_closure_CN['stay_at_home_requirements'] - data_closure_CN['stay_at_home_requirements'].min())/(data_closure_CN['stay_at_home_requirements'].max() - data_closure_CN['stay_at_home_requirements'].min())\n",
    "data_closure_CN = data_closure_CN.drop(['stay_at_home_requirements'],axis=1)\n",
    "data_closure_CN.insert(7,'stay_at_home_requirements',s6)\n",
    "s7 = (data_closure_CN['restrictions_on_internal_movement'] - data_closure_CN['restrictions_on_internal_movement'].min())/(data_closure_CN['restrictions_on_internal_movement'].max() - data_closure_CN['restrictions_on_internal_movement'].min())\n",
    "data_closure_CN = data_closure_CN.drop(['restrictions_on_internal_movement'],axis=1)\n",
    "data_closure_CN.insert(8,'restrictions_on_internal_movement',s7)\n",
    "s8 = (data_closure_CN['international_travel_controls'] - data_closure_CN['international_travel_controls'].min())/(data_closure_CN['international_travel_controls'].max() - data_closure_CN['international_travel_controls'].min())\n",
    "data_closure_CN = data_closure_CN.drop(['international_travel_controls'],axis=1)\n",
    "data_closure_CN.insert(9,'international_travel_controls',s8)\n",
    "\n",
    "CN_closure_average_ontime = data_closure_CN.mean(axis = 0) \n",
    "\n",
    "CN_closure_average = CN_closure_average_ontime.mean()\n",
    "CN_closure_average"
   ]
  },
  {
   "cell_type": "code",
   "execution_count": 48,
   "metadata": {},
   "outputs": [
    {
     "data": {
      "text/plain": [
       "0.5945463089444163"
      ]
     },
     "execution_count": 48,
     "metadata": {},
     "output_type": "execute_result"
    }
   ],
   "source": [
    "data_health_CN = data_health[data_health['key'] == \"CN\"]\n",
    "\n",
    "s1 = (data_health_CN['testing_policy'] - data_health_CN['testing_policy'].min())/(data_health_CN['testing_policy'].max() - data_health_CN['testing_policy'].min())\n",
    "data_health_CN = data_health_CN.drop(['testing_policy'],axis=1)\n",
    "data_health_CN.insert(2,'testing_policy',s1)\n",
    "s2 = (data_health_CN['contact_tracing'] - data_health_CN['contact_tracing'].min())/(data_health_CN['contact_tracing'].max() - data_health_CN['contact_tracing'].min())\n",
    "data_health_CN = data_health_CN.drop(['contact_tracing'],axis=1)\n",
    "data_health_CN.insert(3,'contact_tracing',s2)\n",
    "s3 = (data_health_CN['emergency_investment_in_healthcare'] - data_health_CN['emergency_investment_in_healthcare'].min())/(data_health_CN['emergency_investment_in_healthcare'].max() - data_health_CN['emergency_investment_in_healthcare'].min())\n",
    "data_health_CN = data_health_CN.drop(['emergency_investment_in_healthcare'],axis=1)\n",
    "data_health_CN.insert(4,'emergency_investment_in_healthcare',s3)\n",
    "s4 = (data_health_CN['investment_in_vaccines'] - data_health_CN['investment_in_vaccines'].min())/(data_health_CN['investment_in_vaccines'].max() - data_health_CN['investment_in_vaccines'].min())\n",
    "data_health_CN = data_health_CN.drop(['investment_in_vaccines'],axis=1)\n",
    "data_health_CN.insert(5,'investment_in_vaccines',s4)\n",
    "\n",
    "CN_health_average_ontime = data_health_CN.mean(axis = 0) \n",
    "CN_health_average = CN_health_average_ontime.mean()\n",
    "CN_health_average"
   ]
  },
  {
   "cell_type": "code",
   "execution_count": 49,
   "metadata": {},
   "outputs": [
    {
     "name": "stdout",
     "output_type": "stream",
     "text": [
      "0.5879984662576687\n",
      "0.5262510537545931\n"
     ]
    }
   ],
   "source": [
    "data_closure_EG = data_closure[data_closure['key'] == \"EG\"]\n",
    "\n",
    "s1 = (data_closure_EG['school_closing'] - data_closure_EG['school_closing'].min())/(data_closure_EG['school_closing'].max() - data_closure_EG['school_closing'].min())\n",
    "data_closure_EG = data_closure_EG.drop(['school_closing'],axis=1)\n",
    "data_closure_EG.insert(2,'school_closing',s1)\n",
    "s2 = (data_closure_EG['workplace_closing'] - data_closure_EG['workplace_closing'].min())/(data_closure_EG['workplace_closing'].max() - data_closure_EG['workplace_closing'].min())\n",
    "data_closure_EG = data_closure_EG.drop(['workplace_closing'],axis=1)\n",
    "data_closure_EG.insert(3,'workplace_closing',s2)\n",
    "s3 = (data_closure_EG['cancel_public_events'] - data_closure_EG['cancel_public_events'].min())/(data_closure_EG['cancel_public_events'].max() - data_closure_EG['cancel_public_events'].min())\n",
    "data_closure_EG = data_closure_EG.drop(['cancel_public_events'],axis=1)\n",
    "data_closure_EG.insert(4,'cancel_public_events',s3)\n",
    "s4 = (data_closure_EG['restrictions_on_gatherings'] - data_closure_EG['restrictions_on_gatherings'].min())/(data_closure_EG['restrictions_on_gatherings'].max() - data_closure_EG['restrictions_on_gatherings'].min())\n",
    "data_closure_EG = data_closure_EG.drop(['restrictions_on_gatherings'],axis=1)\n",
    "data_closure_EG.insert(5,'restrictions_on_gatherings',s4)\n",
    "s5 = (data_closure_EG['public_transport_closing'] - data_closure_EG['public_transport_closing'].min())/(data_closure_EG['public_transport_closing'].max() - data_closure_EG['public_transport_closing'].min())\n",
    "data_closure_EG = data_closure_EG.drop(['public_transport_closing'],axis=1)\n",
    "data_closure_EG.insert(6,'public_transport_closing',s5)\n",
    "s6 = (data_closure_EG['stay_at_home_requirements'] - data_closure_EG['stay_at_home_requirements'].min())/(data_closure_EG['stay_at_home_requirements'].max() - data_closure_EG['stay_at_home_requirements'].min())\n",
    "data_closure_EG = data_closure_EG.drop(['stay_at_home_requirements'],axis=1)\n",
    "data_closure_EG.insert(7,'stay_at_home_requirements',s6)\n",
    "s7 = (data_closure_EG['restrictions_on_internal_movement'] - data_closure_EG['restrictions_on_internal_movement'].min())/(data_closure_EG['restrictions_on_internal_movement'].max() - data_closure_EG['restrictions_on_internal_movement'].min())\n",
    "data_closure_EG = data_closure_EG.drop(['restrictions_on_internal_movement'],axis=1)\n",
    "data_closure_EG.insert(8,'restrictions_on_internal_movement',s7)\n",
    "s8 = (data_closure_EG['international_travel_controls'] - data_closure_EG['international_travel_controls'].min())/(data_closure_EG['international_travel_controls'].max() - data_closure_EG['international_travel_controls'].min())\n",
    "data_closure_EG = data_closure_EG.drop(['international_travel_controls'],axis=1)\n",
    "data_closure_EG.insert(9,'international_travel_controls',s8)\n",
    "\n",
    "EG_closure_average_ontime = data_closure_EG.mean(axis = 0) \n",
    "EG_closure_average = EG_closure_average_ontime.mean()\n",
    "print(EG_closure_average)\n",
    "\n",
    "\n",
    "data_health_EG = data_health[data_health['key'] == \"EG\"]\n",
    "s1 = (data_health_EG['testing_policy'] - data_health_EG['testing_policy'].min())/(data_health_EG['testing_policy'].max() - data_health_EG['testing_policy'].min())\n",
    "data_health_EG = data_health_EG.drop(['testing_policy'],axis=1)\n",
    "data_health_EG.insert(2,'testing_policy',s1)\n",
    "s2 = (data_health_EG['contact_tracing'] - data_health_EG['contact_tracing'].min())/(data_health_EG['contact_tracing'].max() - data_health_EG['contact_tracing'].min())\n",
    "data_health_EG = data_health_EG.drop(['contact_tracing'],axis=1)\n",
    "data_health_EG.insert(3,'contact_tracing',s2)\n",
    "s3 = (data_health_EG['emergency_investment_in_healthcare'] - data_health_EG['emergency_investment_in_healthcare'].min())/(data_health_EG['emergency_investment_in_healthcare'].max() - data_health_EG['emergency_investment_in_healthcare'].min())\n",
    "data_health_EG = data_health_EG.drop(['emergency_investment_in_healthcare'],axis=1)\n",
    "data_health_EG.insert(4,'emergency_investment_in_healthcare',s3)\n",
    "s4 = (data_health_EG['investment_in_vaccines'] - data_health_EG['investment_in_vaccines'].min())/(data_health_EG['investment_in_vaccines'].max() - data_health_EG['investment_in_vaccines'].min())\n",
    "data_health_EG = data_health_EG.drop(['investment_in_vaccines'],axis=1)\n",
    "data_health_EG.insert(5,'investment_in_vaccines',s4)\n",
    "\n",
    "EG_health_average_ontime = data_health_EG.mean(axis = 0) \n",
    "EG_health_average = EG_health_average_ontime.mean()\n",
    "print(EG_health_average)"
   ]
  },
  {
   "cell_type": "code",
   "execution_count": 50,
   "metadata": {},
   "outputs": [
    {
     "name": "stdout",
     "output_type": "stream",
     "text": [
      "0.5721868365180468\n",
      "0.26310893653510764\n"
     ]
    }
   ],
   "source": [
    "data_closure_IL = data_closure[data_closure['key'] == \"IL\"]\n",
    "\n",
    "s1 = (data_closure_IL['school_closing'] - data_closure_IL['school_closing'].min())/(data_closure_IL['school_closing'].max() - data_closure_IL['school_closing'].min())\n",
    "data_closure_IL = data_closure_IL.drop(['school_closing'],axis=1)\n",
    "data_closure_IL.insert(2,'school_closing',s1)\n",
    "s2 = (data_closure_IL['workplace_closing'] - data_closure_IL['workplace_closing'].min())/(data_closure_IL['workplace_closing'].max() - data_closure_IL['workplace_closing'].min())\n",
    "data_closure_IL = data_closure_IL.drop(['workplace_closing'],axis=1)\n",
    "data_closure_IL.insert(3,'workplace_closing',s2)\n",
    "s3 = (data_closure_IL['cancel_public_events'] - data_closure_IL['cancel_public_events'].min())/(data_closure_IL['cancel_public_events'].max() - data_closure_IL['cancel_public_events'].min())\n",
    "data_closure_IL = data_closure_IL.drop(['cancel_public_events'],axis=1)\n",
    "data_closure_IL.insert(4,'cancel_public_events',s3)\n",
    "s4 = (data_closure_IL['restrictions_on_gatherings'] - data_closure_IL['restrictions_on_gatherings'].min())/(data_closure_IL['restrictions_on_gatherings'].max() - data_closure_IL['restrictions_on_gatherings'].min())\n",
    "data_closure_IL = data_closure_IL.drop(['restrictions_on_gatherings'],axis=1)\n",
    "data_closure_IL.insert(5,'restrictions_on_gatherings',s4)\n",
    "s5 = (data_closure_IL['public_transport_closing'] - data_closure_IL['public_transport_closing'].min())/(data_closure_IL['public_transport_closing'].max() - data_closure_IL['public_transport_closing'].min())\n",
    "data_closure_IL = data_closure_IL.drop(['public_transport_closing'],axis=1)\n",
    "data_closure_IL.insert(6,'public_transport_closing',s5)\n",
    "s6 = (data_closure_IL['stay_at_home_requirements'] - data_closure_IL['stay_at_home_requirements'].min())/(data_closure_IL['stay_at_home_requirements'].max() - data_closure_IL['stay_at_home_requirements'].min())\n",
    "data_closure_IL = data_closure_IL.drop(['stay_at_home_requirements'],axis=1)\n",
    "data_closure_IL.insert(7,'stay_at_home_requirements',s6)\n",
    "s7 = (data_closure_IL['restrictions_on_internal_movement'] - data_closure_IL['restrictions_on_internal_movement'].min())/(data_closure_IL['restrictions_on_internal_movement'].max() - data_closure_IL['restrictions_on_internal_movement'].min())\n",
    "data_closure_IL = data_closure_IL.drop(['restrictions_on_internal_movement'],axis=1)\n",
    "data_closure_IL.insert(8,'restrictions_on_internal_movement',s7)\n",
    "s8 = (data_closure_IL['international_travel_controls'] - data_closure_IL['international_travel_controls'].min())/(data_closure_IL['international_travel_controls'].max() - data_closure_IL['international_travel_controls'].min())\n",
    "data_closure_IL = data_closure_IL.drop(['international_travel_controls'],axis=1)\n",
    "data_closure_IL.insert(9,'international_travel_controls',s8)\n",
    "\n",
    "IL_closure_average_ontime = data_closure_IL.mean(axis = 0) \n",
    "IL_closure_average = IL_closure_average_ontime.mean()\n",
    "print(IL_closure_average)\n",
    "\n",
    "\n",
    "data_health_IL = data_health[data_health['key'] == \"IL\"]\n",
    "s1 = (data_health_IL['testing_policy'] - data_health_IL['testing_policy'].min())/(data_health_IL['testing_policy'].max() - data_health_IL['testing_policy'].min())\n",
    "data_health_IL = data_health_IL.drop(['testing_policy'],axis=1)\n",
    "data_health_IL.insert(2,'testing_policy',s1)\n",
    "s2 = (data_health_IL['contact_tracing'] - data_health_IL['contact_tracing'].min())/(data_health_IL['contact_tracing'].max() - data_health_IL['contact_tracing'].min())\n",
    "data_health_IL = data_health_IL.drop(['contact_tracing'],axis=1)\n",
    "data_health_IL.insert(3,'contact_tracing',s2)\n",
    "s3 = (data_health_IL['emergency_investment_in_healthcare'] - data_health_IL['emergency_investment_in_healthcare'].min())/(data_health_IL['emergency_investment_in_healthcare'].max() - data_health_IL['emergency_investment_in_healthcare'].min())\n",
    "data_health_IL = data_health_IL.drop(['emergency_investment_in_healthcare'],axis=1)\n",
    "data_health_IL.insert(4,'emergency_investment_in_healthcare',s3)\n",
    "s4 = (data_health_IL['investment_in_vaccines'] - data_health_IL['investment_in_vaccines'].min())/(data_health_IL['investment_in_vaccines'].max() - data_health_IL['investment_in_vaccines'].min())\n",
    "data_health_IL = data_health_IL.drop(['investment_in_vaccines'],axis=1)\n",
    "data_health_IL.insert(5,'investment_in_vaccines',s4)\n",
    "\n",
    "IL_health_average_ontime = data_health_IL.mean(axis = 0) \n",
    "IL_health_average = IL_health_average_ontime.mean()\n",
    "print(IL_health_average)\n"
   ]
  },
  {
   "cell_type": "code",
   "execution_count": 51,
   "metadata": {},
   "outputs": [
    {
     "name": "stdout",
     "output_type": "stream",
     "text": [
      "0.6557324016563146\n",
      "0.3388431699016563\n"
     ]
    }
   ],
   "source": [
    "data_closure_KG = data_closure[data_closure['key'] == \"KG\"]\n",
    "\n",
    "s1 = (data_closure_KG['school_closing'] - data_closure_KG['school_closing'].min())/(data_closure_KG['school_closing'].max() - data_closure_KG['school_closing'].min())\n",
    "data_closure_KG = data_closure_KG.drop(['school_closing'],axis=1)\n",
    "data_closure_KG.insert(2,'school_closing',s1)\n",
    "s2 = (data_closure_KG['workplace_closing'] - data_closure_KG['workplace_closing'].min())/(data_closure_KG['workplace_closing'].max() - data_closure_KG['workplace_closing'].min())\n",
    "data_closure_KG = data_closure_KG.drop(['workplace_closing'],axis=1)\n",
    "data_closure_KG.insert(3,'workplace_closing',s2)\n",
    "s3 = (data_closure_KG['cancel_public_events'] - data_closure_KG['cancel_public_events'].min())/(data_closure_KG['cancel_public_events'].max() - data_closure_KG['cancel_public_events'].min())\n",
    "data_closure_KG = data_closure_KG.drop(['cancel_public_events'],axis=1)\n",
    "data_closure_KG.insert(4,'cancel_public_events',s3)\n",
    "s4 = (data_closure_KG['restrictions_on_gatherings'] - data_closure_KG['restrictions_on_gatherings'].min())/(data_closure_KG['restrictions_on_gatherings'].max() - data_closure_KG['restrictions_on_gatherings'].min())\n",
    "data_closure_KG = data_closure_KG.drop(['restrictions_on_gatherings'],axis=1)\n",
    "data_closure_KG.insert(5,'restrictions_on_gatherings',s4)\n",
    "s5 = (data_closure_KG['public_transport_closing'] - data_closure_KG['public_transport_closing'].min())/(data_closure_KG['public_transport_closing'].max() - data_closure_KG['public_transport_closing'].min())\n",
    "data_closure_KG = data_closure_KG.drop(['public_transport_closing'],axis=1)\n",
    "data_closure_KG.insert(6,'public_transport_closing',s5)\n",
    "s6 = (data_closure_KG['stay_at_home_requirements'] - data_closure_KG['stay_at_home_requirements'].min())/(data_closure_KG['stay_at_home_requirements'].max() - data_closure_KG['stay_at_home_requirements'].min())\n",
    "data_closure_KG = data_closure_KG.drop(['stay_at_home_requirements'],axis=1)\n",
    "data_closure_KG.insert(7,'stay_at_home_requirements',s6)\n",
    "s7 = (data_closure_KG['restrictions_on_internal_movement'] - data_closure_KG['restrictions_on_internal_movement'].min())/(data_closure_KG['restrictions_on_internal_movement'].max() - data_closure_KG['restrictions_on_internal_movement'].min())\n",
    "data_closure_KG = data_closure_KG.drop(['restrictions_on_internal_movement'],axis=1)\n",
    "data_closure_KG.insert(8,'restrictions_on_internal_movement',s7)\n",
    "s8 = (data_closure_KG['international_travel_controls'] - data_closure_KG['international_travel_controls'].min())/(data_closure_KG['international_travel_controls'].max() - data_closure_KG['international_travel_controls'].min())\n",
    "data_closure_KG = data_closure_KG.drop(['international_travel_controls'],axis=1)\n",
    "data_closure_KG.insert(9,'international_travel_controls',s8)\n",
    "\n",
    "KG_closure_average_ontime = data_closure_KG.mean(axis = 0) \n",
    "KG_closure_average = KG_closure_average_ontime.mean()\n",
    "print(KG_closure_average)\n",
    "\n",
    "\n",
    "data_health_KG = data_health[data_health['key'] == \"KG\"]\n",
    "s1 = (data_health_KG['testing_policy'] - data_health_KG['testing_policy'].min())/(data_health_KG['testing_policy'].max() - data_health_KG['testing_policy'].min())\n",
    "data_health_KG = data_health_KG.drop(['testing_policy'],axis=1)\n",
    "data_health_KG.insert(2,'testing_policy',s1)\n",
    "s2 = (data_health_KG['contact_tracing'] - data_health_KG['contact_tracing'].min())/(data_health_KG['contact_tracing'].max() - data_health_KG['contact_tracing'].min())\n",
    "data_health_KG = data_health_KG.drop(['contact_tracing'],axis=1)\n",
    "data_health_KG.insert(3,'contact_tracing',s2)\n",
    "s3 = (data_health_KG['emergency_investment_in_healthcare'] - data_health_KG['emergency_investment_in_healthcare'].min())/(data_health_KG['emergency_investment_in_healthcare'].max() - data_health_KG['emergency_investment_in_healthcare'].min())\n",
    "data_health_KG = data_health_KG.drop(['emergency_investment_in_healthcare'],axis=1)\n",
    "data_health_KG.insert(4,'emergency_investment_in_healthcare',s3)\n",
    "s4 = (data_health_KG['investment_in_vaccines'] - data_health_KG['investment_in_vaccines'].min())/(data_health_KG['investment_in_vaccines'].max() - data_health_KG['investment_in_vaccines'].min())\n",
    "data_health_KG = data_health_KG.drop(['investment_in_vaccines'],axis=1)\n",
    "data_health_KG.insert(5,'investment_in_vaccines',s4)\n",
    "\n",
    "KG_health_average_ontime = data_health_KG.mean(axis = 0) \n",
    "KG_health_average = KG_health_average_ontime.mean()\n",
    "print(KG_health_average)"
   ]
  },
  {
   "cell_type": "code",
   "execution_count": 52,
   "metadata": {},
   "outputs": [
    {
     "name": "stdout",
     "output_type": "stream",
     "text": [
      "0.3642526455026455\n",
      "0.598941798941799\n"
     ]
    }
   ],
   "source": [
    "data_closure_TJ = data_closure[data_closure['key'] == \"TJ\"]\n",
    "\n",
    "s1 = (data_closure_TJ['school_closing'] - data_closure_TJ['school_closing'].min())/(data_closure_TJ['school_closing'].max() - data_closure_TJ['school_closing'].min())\n",
    "data_closure_TJ = data_closure_TJ.drop(['school_closing'],axis=1)\n",
    "data_closure_TJ.insert(2,'school_closing',s1)\n",
    "s2 = (data_closure_TJ['workplace_closing'] - data_closure_TJ['workplace_closing'].min())/(data_closure_TJ['workplace_closing'].max() - data_closure_TJ['workplace_closing'].min())\n",
    "data_closure_TJ = data_closure_TJ.drop(['workplace_closing'],axis=1)\n",
    "data_closure_TJ.insert(3,'workplace_closing',s2)\n",
    "s3 = (data_closure_TJ['cancel_public_events'] - data_closure_TJ['cancel_public_events'].min())/(data_closure_TJ['cancel_public_events'].max() - data_closure_TJ['cancel_public_events'].min())\n",
    "data_closure_TJ = data_closure_TJ.drop(['cancel_public_events'],axis=1)\n",
    "data_closure_TJ.insert(4,'cancel_public_events',s3)\n",
    "s4 = (data_closure_TJ['restrictions_on_gatherings'] - data_closure_TJ['restrictions_on_gatherings'].min())/(data_closure_TJ['restrictions_on_gatherings'].max() - data_closure_TJ['restrictions_on_gatherings'].min())\n",
    "data_closure_TJ = data_closure_TJ.drop(['restrictions_on_gatherings'],axis=1)\n",
    "data_closure_TJ.insert(5,'restrictions_on_gatherings',s4)\n",
    "s5 = (data_closure_TJ['public_transport_closing'] - data_closure_TJ['public_transport_closing'].min())/(data_closure_TJ['public_transport_closing'].max() - data_closure_TJ['public_transport_closing'].min())\n",
    "data_closure_TJ = data_closure_TJ.drop(['public_transport_closing'],axis=1)\n",
    "data_closure_TJ.insert(6,'public_transport_closing',s5)\n",
    "s6 = (data_closure_TJ['stay_at_home_requirements'] - data_closure_TJ['stay_at_home_requirements'].min())/(data_closure_TJ['stay_at_home_requirements'].max() - data_closure_TJ['stay_at_home_requirements'].min())\n",
    "data_closure_TJ = data_closure_TJ.drop(['stay_at_home_requirements'],axis=1)\n",
    "data_closure_TJ.insert(7,'stay_at_home_requirements',s6)\n",
    "s7 = (data_closure_TJ['restrictions_on_internal_movement'] - data_closure_TJ['restrictions_on_internal_movement'].min())/(data_closure_TJ['restrictions_on_internal_movement'].max() - data_closure_TJ['restrictions_on_internal_movement'].min())\n",
    "data_closure_TJ = data_closure_TJ.drop(['restrictions_on_internal_movement'],axis=1)\n",
    "data_closure_TJ.insert(8,'restrictions_on_internal_movement',s7)\n",
    "s8 = (data_closure_TJ['international_travel_controls'] - data_closure_TJ['international_travel_controls'].min())/(data_closure_TJ['international_travel_controls'].max() - data_closure_TJ['international_travel_controls'].min())\n",
    "data_closure_TJ = data_closure_TJ.drop(['international_travel_controls'],axis=1)\n",
    "data_closure_TJ.insert(9,'international_travel_controls',s8)\n",
    "\n",
    "TJ_closure_average_ontime = data_closure_TJ.mean(axis = 0) \n",
    "TJ_closure_average = TJ_closure_average_ontime.mean()\n",
    "print(TJ_closure_average)\n",
    "\n",
    "\n",
    "data_health_TJ = data_health[data_health['key'] == \"TJ\"]\n",
    "s1 = (data_health_TJ['testing_policy'] - data_health_TJ['testing_policy'].min())/(data_health_TJ['testing_policy'].max() - data_health_TJ['testing_policy'].min())\n",
    "data_health_TJ = data_health_TJ.drop(['testing_policy'],axis=1)\n",
    "data_health_TJ.insert(2,'testing_policy',s1)\n",
    "s2 = (data_health_TJ['contact_tracing'] - data_health_TJ['contact_tracing'].min())/(data_health_TJ['contact_tracing'].max() - data_health_TJ['contact_tracing'].min())\n",
    "data_health_TJ = data_health_TJ.drop(['contact_tracing'],axis=1)\n",
    "data_health_TJ.insert(3,'contact_tracing',s2)\n",
    "s3 = (data_health_TJ['emergency_investment_in_healthcare'] - data_health_TJ['emergency_investment_in_healthcare'].min())/(data_health_TJ['emergency_investment_in_healthcare'].max() - data_health_TJ['emergency_investment_in_healthcare'].min())\n",
    "data_health_TJ = data_health_TJ.drop(['emergency_investment_in_healthcare'],axis=1)\n",
    "data_health_TJ.insert(4,'emergency_investment_in_healthcare',s3)\n",
    "s4 = (data_health_TJ['investment_in_vaccines'] - data_health_TJ['investment_in_vaccines'].min())/(data_health_TJ['investment_in_vaccines'].max() - data_health_TJ['investment_in_vaccines'].min())\n",
    "data_health_TJ = data_health_TJ.drop(['investment_in_vaccines'],axis=1)\n",
    "data_health_TJ.insert(5,'investment_in_vaccines',s4)\n",
    "\n",
    "TJ_health_average_ontime = data_health_TJ.mean(axis = 0) \n",
    "TJ_health_average = TJ_health_average_ontime.mean()\n",
    "print(TJ_health_average)"
   ]
  },
  {
   "cell_type": "markdown",
   "metadata": {},
   "source": [
    "United States"
   ]
  },
  {
   "cell_type": "code",
   "execution_count": 53,
   "metadata": {},
   "outputs": [
    {
     "data": {
      "text/plain": [
       "0.735256922257721"
      ]
     },
     "execution_count": 53,
     "metadata": {},
     "output_type": "execute_result"
    }
   ],
   "source": [
    "data_closure_US = data_closure[data_closure['key'] == \"US\"]\n",
    "\n",
    "s1 = (data_closure_US['school_closing'] - data_closure_US['school_closing'].min())/(data_closure_US['school_closing'].max() - data_closure_US['school_closing'].min())\n",
    "data_closure_US = data_closure_US.drop(['school_closing'],axis=1)\n",
    "data_closure_US.insert(2,'school_closing',s1)\n",
    "s2 = (data_closure_US['workplace_closing'] - data_closure_US['workplace_closing'].min())/(data_closure_US['workplace_closing'].max() - data_closure_US['workplace_closing'].min())\n",
    "data_closure_US = data_closure_US.drop(['workplace_closing'],axis=1)\n",
    "data_closure_US.insert(3,'workplace_closing',s2)\n",
    "s3 = (data_closure_US['cancel_public_events'] - data_closure_US['cancel_public_events'].min())/(data_closure_US['cancel_public_events'].max() - data_closure_US['cancel_public_events'].min())\n",
    "data_closure_US = data_closure_US.drop(['cancel_public_events'],axis=1)\n",
    "data_closure_US.insert(4,'cancel_public_events',s3)\n",
    "s4 = (data_closure_US['restrictions_on_gatherings'] - data_closure_US['restrictions_on_gatherings'].min())/(data_closure_US['restrictions_on_gatherings'].max() - data_closure_US['restrictions_on_gatherings'].min())\n",
    "data_closure_US = data_closure_US.drop(['restrictions_on_gatherings'],axis=1)\n",
    "data_closure_US.insert(5,'restrictions_on_gatherings',s4)\n",
    "s5 = (data_closure_US['public_transport_closing'] - data_closure_US['public_transport_closing'].min())/(data_closure_US['public_transport_closing'].max() - data_closure_US['public_transport_closing'].min())\n",
    "data_closure_US = data_closure_US.drop(['public_transport_closing'],axis=1)\n",
    "data_closure_US.insert(6,'public_transport_closing',s5)\n",
    "s6 = (data_closure_US['stay_at_home_requirements'] - data_closure_US['stay_at_home_requirements'].min())/(data_closure_US['stay_at_home_requirements'].max() - data_closure_US['stay_at_home_requirements'].min())\n",
    "data_closure_US = data_closure_US.drop(['stay_at_home_requirements'],axis=1)\n",
    "data_closure_US.insert(7,'stay_at_home_requirements',s6)\n",
    "s7 = (data_closure_US['restrictions_on_internal_movement'] - data_closure_US['restrictions_on_internal_movement'].min())/(data_closure_US['restrictions_on_internal_movement'].max() - data_closure_US['restrictions_on_internal_movement'].min())\n",
    "data_closure_US = data_closure_US.drop(['restrictions_on_internal_movement'],axis=1)\n",
    "data_closure_US.insert(8,'restrictions_on_internal_movement',s7)\n",
    "s8 = (data_closure_US['international_travel_controls'] - data_closure_US['international_travel_controls'].min())/(data_closure_US['international_travel_controls'].max() - data_closure_US['international_travel_controls'].min())\n",
    "data_closure_US = data_closure_US.drop(['international_travel_controls'],axis=1)\n",
    "data_closure_US.insert(9,'international_travel_controls',s8)\n",
    "\n",
    "US_closure_average_ontime = data_closure_US.mean(axis = 0) \n",
    "\n",
    "US_closure_average = US_closure_average_ontime.mean()\n",
    "US_closure_average"
   ]
  },
  {
   "cell_type": "code",
   "execution_count": 54,
   "metadata": {},
   "outputs": [
    {
     "data": {
      "text/plain": [
       "0.43674559487046744"
      ]
     },
     "execution_count": 54,
     "metadata": {},
     "output_type": "execute_result"
    }
   ],
   "source": [
    "data_health_US = data_health[data_health['key'] == \"US\"]\n",
    "\n",
    "s1 = (data_health_US['testing_policy'] - data_health_US['testing_policy'].min())/(data_health_US['testing_policy'].max() - data_health_US['testing_policy'].min())\n",
    "data_health_US = data_health_US.drop(['testing_policy'],axis=1)\n",
    "data_health_US.insert(2,'testing_policy',s1)\n",
    "s2 = (data_health_US['contact_tracing'] - data_health_US['contact_tracing'].min())/(data_health_US['contact_tracing'].max() - data_health_US['contact_tracing'].min())\n",
    "data_health_US = data_health_US.drop(['contact_tracing'],axis=1)\n",
    "data_health_US.insert(3,'contact_tracing',s2)\n",
    "s3 = (data_health_US['emergency_investment_in_healthcare'] - data_health_US['emergency_investment_in_healthcare'].min())/(data_health_US['emergency_investment_in_healthcare'].max() - data_health_US['emergency_investment_in_healthcare'].min())\n",
    "data_health_US = data_health_US.drop(['emergency_investment_in_healthcare'],axis=1)\n",
    "data_health_US.insert(4,'emergency_investment_in_healthcare',s3)\n",
    "s4 = (data_health_US['investment_in_vaccines'] - data_health_US['investment_in_vaccines'].min())/(data_health_US['investment_in_vaccines'].max() - data_health_US['investment_in_vaccines'].min())\n",
    "data_health_US = data_health_US.drop(['investment_in_vaccines'],axis=1)\n",
    "data_health_US.insert(5,'investment_in_vaccines',s4)\n",
    "\n",
    "US_health_average_ontime = data_health_US.mean(axis = 0) \n",
    "US_health_average = US_health_average_ontime.mean()\n",
    "US_health_average"
   ]
  },
  {
   "cell_type": "code",
   "execution_count": 55,
   "metadata": {},
   "outputs": [
    {
     "name": "stdout",
     "output_type": "stream",
     "text": [
      "0.673512312240808\n",
      "0.3646893194760213\n"
     ]
    }
   ],
   "source": [
    "data_closure_BR = data_closure[data_closure['key'] == \"BR\"]\n",
    "\n",
    "s1 = (data_closure_BR['school_closing'] - data_closure_BR['school_closing'].min())/(data_closure_BR['school_closing'].max() - data_closure_BR['school_closing'].min())\n",
    "data_closure_BR = data_closure_BR.drop(['school_closing'],axis=1)\n",
    "data_closure_BR.insert(2,'school_closing',s1)\n",
    "s2 = (data_closure_BR['workplace_closing'] - data_closure_BR['workplace_closing'].min())/(data_closure_BR['workplace_closing'].max() - data_closure_BR['workplace_closing'].min())\n",
    "data_closure_BR = data_closure_BR.drop(['workplace_closing'],axis=1)\n",
    "data_closure_BR.insert(3,'workplace_closing',s2)\n",
    "s3 = (data_closure_BR['cancel_public_events'] - data_closure_BR['cancel_public_events'].min())/(data_closure_BR['cancel_public_events'].max() - data_closure_BR['cancel_public_events'].min())\n",
    "data_closure_BR = data_closure_BR.drop(['cancel_public_events'],axis=1)\n",
    "data_closure_BR.insert(4,'cancel_public_events',s3)\n",
    "s4 = (data_closure_BR['restrictions_on_gatherings'] - data_closure_BR['restrictions_on_gatherings'].min())/(data_closure_BR['restrictions_on_gatherings'].max() - data_closure_BR['restrictions_on_gatherings'].min())\n",
    "data_closure_BR = data_closure_BR.drop(['restrictions_on_gatherings'],axis=1)\n",
    "data_closure_BR.insert(5,'restrictions_on_gatherings',s4)\n",
    "s5 = (data_closure_BR['public_transport_closing'] - data_closure_BR['public_transport_closing'].min())/(data_closure_BR['public_transport_closing'].max() - data_closure_BR['public_transport_closing'].min())\n",
    "data_closure_BR = data_closure_BR.drop(['public_transport_closing'],axis=1)\n",
    "data_closure_BR.insert(6,'public_transport_closing',s5)\n",
    "s6 = (data_closure_BR['stay_at_home_requirements'] - data_closure_BR['stay_at_home_requirements'].min())/(data_closure_BR['stay_at_home_requirements'].max() - data_closure_BR['stay_at_home_requirements'].min())\n",
    "data_closure_BR = data_closure_BR.drop(['stay_at_home_requirements'],axis=1)\n",
    "data_closure_BR.insert(7,'stay_at_home_requirements',s6)\n",
    "s7 = (data_closure_BR['restrictions_on_internal_movement'] - data_closure_BR['restrictions_on_internal_movement'].min())/(data_closure_BR['restrictions_on_internal_movement'].max() - data_closure_BR['restrictions_on_internal_movement'].min())\n",
    "data_closure_BR = data_closure_BR.drop(['restrictions_on_internal_movement'],axis=1)\n",
    "data_closure_BR.insert(8,'restrictions_on_internal_movement',s7)\n",
    "s8 = (data_closure_BR['international_travel_controls'] - data_closure_BR['international_travel_controls'].min())/(data_closure_BR['international_travel_controls'].max() - data_closure_BR['international_travel_controls'].min())\n",
    "data_closure_BR = data_closure_BR.drop(['international_travel_controls'],axis=1)\n",
    "data_closure_BR.insert(9,'international_travel_controls',s8)\n",
    "\n",
    "BR_closure_average_ontime = data_closure_BR.mean(axis = 0) \n",
    "BR_closure_average = BR_closure_average_ontime.mean()\n",
    "print(BR_closure_average)\n",
    "\n",
    "\n",
    "data_health_BR = data_health[data_health['key'] == \"BR\"]\n",
    "s1 = (data_health_BR['testing_policy'] - data_health_BR['testing_policy'].min())/(data_health_BR['testing_policy'].max() - data_health_BR['testing_policy'].min())\n",
    "data_health_BR = data_health_BR.drop(['testing_policy'],axis=1)\n",
    "data_health_BR.insert(2,'testing_policy',s1)\n",
    "s2 = (data_health_BR['contact_tracing'] - data_health_BR['contact_tracing'].min())/(data_health_BR['contact_tracing'].max() - data_health_BR['contact_tracing'].min())\n",
    "data_health_BR = data_health_BR.drop(['contact_tracing'],axis=1)\n",
    "data_health_BR.insert(3,'contact_tracing',s2)\n",
    "s3 = (data_health_BR['emergency_investment_in_healthcare'] - data_health_BR['emergency_investment_in_healthcare'].min())/(data_health_BR['emergency_investment_in_healthcare'].max() - data_health_BR['emergency_investment_in_healthcare'].min())\n",
    "data_health_BR = data_health_BR.drop(['emergency_investment_in_healthcare'],axis=1)\n",
    "data_health_BR.insert(4,'emergency_investment_in_healthcare',s3)\n",
    "s4 = (data_health_BR['investment_in_vaccines'] - data_health_BR['investment_in_vaccines'].min())/(data_health_BR['investment_in_vaccines'].max() - data_health_BR['investment_in_vaccines'].min())\n",
    "data_health_BR = data_health_BR.drop(['investment_in_vaccines'],axis=1)\n",
    "data_health_BR.insert(5,'investment_in_vaccines',s4)\n",
    "\n",
    "BR_health_average_ontime = data_health_BR.mean(axis = 0) \n",
    "BR_health_average = BR_health_average_ontime.mean()\n",
    "print(BR_health_average)"
   ]
  },
  {
   "cell_type": "code",
   "execution_count": 56,
   "metadata": {},
   "outputs": [
    {
     "name": "stdout",
     "output_type": "stream",
     "text": [
      "0.7246360327570518\n",
      "0.29038336202911297\n"
     ]
    }
   ],
   "source": [
    "data_closure_CA = data_closure[data_closure['key'] == \"CA\"]\n",
    "\n",
    "s1 = (data_closure_CA['school_closing'] - data_closure_CA['school_closing'].min())/(data_closure_CA['school_closing'].max() - data_closure_CA['school_closing'].min())\n",
    "data_closure_CA = data_closure_CA.drop(['school_closing'],axis=1)\n",
    "data_closure_CA.insert(2,'school_closing',s1)\n",
    "s2 = (data_closure_CA['workplace_closing'] - data_closure_CA['workplace_closing'].min())/(data_closure_CA['workplace_closing'].max() - data_closure_CA['workplace_closing'].min())\n",
    "data_closure_CA = data_closure_CA.drop(['workplace_closing'],axis=1)\n",
    "data_closure_CA.insert(3,'workplace_closing',s2)\n",
    "s3 = (data_closure_CA['cancel_public_events'] - data_closure_CA['cancel_public_events'].min())/(data_closure_CA['cancel_public_events'].max() - data_closure_CA['cancel_public_events'].min())\n",
    "data_closure_CA = data_closure_CA.drop(['cancel_public_events'],axis=1)\n",
    "data_closure_CA.insert(4,'cancel_public_events',s3)\n",
    "s4 = (data_closure_CA['restrictions_on_gatherings'] - data_closure_CA['restrictions_on_gatherings'].min())/(data_closure_CA['restrictions_on_gatherings'].max() - data_closure_CA['restrictions_on_gatherings'].min())\n",
    "data_closure_CA = data_closure_CA.drop(['restrictions_on_gatherings'],axis=1)\n",
    "data_closure_CA.insert(5,'restrictions_on_gatherings',s4)\n",
    "s5 = (data_closure_CA['public_transport_closing'] - data_closure_CA['public_transport_closing'].min())/(data_closure_CA['public_transport_closing'].max() - data_closure_CA['public_transport_closing'].min())\n",
    "data_closure_CA = data_closure_CA.drop(['public_transport_closing'],axis=1)\n",
    "data_closure_CA.insert(6,'public_transport_closing',s5)\n",
    "s6 = (data_closure_CA['stay_at_home_requirements'] - data_closure_CA['stay_at_home_requirements'].min())/(data_closure_CA['stay_at_home_requirements'].max() - data_closure_CA['stay_at_home_requirements'].min())\n",
    "data_closure_CA = data_closure_CA.drop(['stay_at_home_requirements'],axis=1)\n",
    "data_closure_CA.insert(7,'stay_at_home_requirements',s6)\n",
    "s7 = (data_closure_CA['restrictions_on_internal_movement'] - data_closure_CA['restrictions_on_internal_movement'].min())/(data_closure_CA['restrictions_on_internal_movement'].max() - data_closure_CA['restrictions_on_internal_movement'].min())\n",
    "data_closure_CA = data_closure_CA.drop(['restrictions_on_internal_movement'],axis=1)\n",
    "data_closure_CA.insert(8,'restrictions_on_internal_movement',s7)\n",
    "s8 = (data_closure_CA['international_travel_controls'] - data_closure_CA['international_travel_controls'].min())/(data_closure_CA['international_travel_controls'].max() - data_closure_CA['international_travel_controls'].min())\n",
    "data_closure_CA = data_closure_CA.drop(['international_travel_controls'],axis=1)\n",
    "data_closure_CA.insert(9,'international_travel_controls',s8)\n",
    "\n",
    "CA_closure_average_ontime = data_closure_CA.mean(axis = 0) \n",
    "CA_closure_average = CA_closure_average_ontime.mean()\n",
    "print(CA_closure_average)\n",
    "\n",
    "\n",
    "data_health_CA = data_health[data_health['key'] == \"CA\"]\n",
    "s1 = (data_health_CA['testing_policy'] - data_health_CA['testing_policy'].min())/(data_health_CA['testing_policy'].max() - data_health_CA['testing_policy'].min())\n",
    "data_health_CA = data_health_CA.drop(['testing_policy'],axis=1)\n",
    "data_health_CA.insert(2,'testing_policy',s1)\n",
    "s2 = (data_health_CA['contact_tracing'] - data_health_CA['contact_tracing'].min())/(data_health_CA['contact_tracing'].max() - data_health_CA['contact_tracing'].min())\n",
    "data_health_CA = data_health_CA.drop(['contact_tracing'],axis=1)\n",
    "data_health_CA.insert(3,'contact_tracing',s2)\n",
    "s3 = (data_health_CA['emergency_investment_in_healthcare'] - data_health_CA['emergency_investment_in_healthcare'].min())/(data_health_CA['emergency_investment_in_healthcare'].max() - data_health_CA['emergency_investment_in_healthcare'].min())\n",
    "data_health_CA = data_health_CA.drop(['emergency_investment_in_healthcare'],axis=1)\n",
    "data_health_CA.insert(4,'emergency_investment_in_healthcare',s3)\n",
    "s4 = (data_health_CA['investment_in_vaccines'] - data_health_CA['investment_in_vaccines'].min())/(data_health_CA['investment_in_vaccines'].max() - data_health_CA['investment_in_vaccines'].min())\n",
    "data_health_CA = data_health_CA.drop(['investment_in_vaccines'],axis=1)\n",
    "data_health_CA.insert(5,'investment_in_vaccines',s4)\n",
    "\n",
    "CA_health_average_ontime = data_health_CA.mean(axis = 0) \n",
    "CA_health_average = CA_health_average_ontime.mean()\n",
    "print(CA_health_average)"
   ]
  },
  {
   "cell_type": "code",
   "execution_count": 57,
   "metadata": {},
   "outputs": [
    {
     "name": "stdout",
     "output_type": "stream",
     "text": [
      "0.6711124091381101\n",
      "0.37806330508579344\n"
     ]
    }
   ],
   "source": [
    "data_closure_PH = data_closure[data_closure['key'] == \"PH\"]\n",
    "\n",
    "s1 = (data_closure_PH['school_closing'] - data_closure_PH['school_closing'].min())/(data_closure_PH['school_closing'].max() - data_closure_PH['school_closing'].min())\n",
    "data_closure_PH = data_closure_PH.drop(['school_closing'],axis=1)\n",
    "data_closure_PH.insert(2,'school_closing',s1)\n",
    "s2 = (data_closure_PH['workplace_closing'] - data_closure_PH['workplace_closing'].min())/(data_closure_PH['workplace_closing'].max() - data_closure_PH['workplace_closing'].min())\n",
    "data_closure_PH = data_closure_PH.drop(['workplace_closing'],axis=1)\n",
    "data_closure_PH.insert(3,'workplace_closing',s2)\n",
    "s3 = (data_closure_PH['cancel_public_events'] - data_closure_PH['cancel_public_events'].min())/(data_closure_PH['cancel_public_events'].max() - data_closure_PH['cancel_public_events'].min())\n",
    "data_closure_PH = data_closure_PH.drop(['cancel_public_events'],axis=1)\n",
    "data_closure_PH.insert(4,'cancel_public_events',s3)\n",
    "s4 = (data_closure_PH['restrictions_on_gatherings'] - data_closure_PH['restrictions_on_gatherings'].min())/(data_closure_PH['restrictions_on_gatherings'].max() - data_closure_PH['restrictions_on_gatherings'].min())\n",
    "data_closure_PH = data_closure_PH.drop(['restrictions_on_gatherings'],axis=1)\n",
    "data_closure_PH.insert(5,'restrictions_on_gatherings',s4)\n",
    "s5 = (data_closure_PH['public_transport_closing'] - data_closure_PH['public_transport_closing'].min())/(data_closure_PH['public_transport_closing'].max() - data_closure_PH['public_transport_closing'].min())\n",
    "data_closure_PH = data_closure_PH.drop(['public_transport_closing'],axis=1)\n",
    "data_closure_PH.insert(6,'public_transport_closing',s5)\n",
    "s6 = (data_closure_PH['stay_at_home_requirements'] - data_closure_PH['stay_at_home_requirements'].min())/(data_closure_PH['stay_at_home_requirements'].max() - data_closure_PH['stay_at_home_requirements'].min())\n",
    "data_closure_PH = data_closure_PH.drop(['stay_at_home_requirements'],axis=1)\n",
    "data_closure_PH.insert(7,'stay_at_home_requirements',s6)\n",
    "s7 = (data_closure_PH['restrictions_on_internal_movement'] - data_closure_PH['restrictions_on_internal_movement'].min())/(data_closure_PH['restrictions_on_internal_movement'].max() - data_closure_PH['restrictions_on_internal_movement'].min())\n",
    "data_closure_PH = data_closure_PH.drop(['restrictions_on_internal_movement'],axis=1)\n",
    "data_closure_PH.insert(8,'restrictions_on_internal_movement',s7)\n",
    "s8 = (data_closure_PH['international_travel_controls'] - data_closure_PH['international_travel_controls'].min())/(data_closure_PH['international_travel_controls'].max() - data_closure_PH['international_travel_controls'].min())\n",
    "data_closure_PH = data_closure_PH.drop(['international_travel_controls'],axis=1)\n",
    "data_closure_PH.insert(9,'international_travel_controls',s8)\n",
    "\n",
    "PH_closure_average_ontime = data_closure_PH.mean(axis = 0) \n",
    "PH_closure_average = PH_closure_average_ontime.mean()\n",
    "print(PH_closure_average)\n",
    "\n",
    "\n",
    "data_health_PH = data_health[data_health['key'] == \"PH\"]\n",
    "s1 = (data_health_PH['testing_policy'] - data_health_PH['testing_policy'].min())/(data_health_PH['testing_policy'].max() - data_health_PH['testing_policy'].min())\n",
    "data_health_PH = data_health_PH.drop(['testing_policy'],axis=1)\n",
    "data_health_PH.insert(2,'testing_policy',s1)\n",
    "s2 = (data_health_PH['contact_tracing'] - data_health_PH['contact_tracing'].min())/(data_health_PH['contact_tracing'].max() - data_health_PH['contact_tracing'].min())\n",
    "data_health_PH = data_health_PH.drop(['contact_tracing'],axis=1)\n",
    "data_health_PH.insert(3,'contact_tracing',s2)\n",
    "s3 = (data_health_PH['emergency_investment_in_healthcare'] - data_health_PH['emergency_investment_in_healthcare'].min())/(data_health_PH['emergency_investment_in_healthcare'].max() - data_health_PH['emergency_investment_in_healthcare'].min())\n",
    "data_health_PH = data_health_PH.drop(['emergency_investment_in_healthcare'],axis=1)\n",
    "data_health_PH.insert(4,'emergency_investment_in_healthcare',s3)\n",
    "s4 = (data_health_PH['investment_in_vaccines'] - data_health_PH['investment_in_vaccines'].min())/(data_health_PH['investment_in_vaccines'].max() - data_health_PH['investment_in_vaccines'].min())\n",
    "data_health_PH = data_health_PH.drop(['investment_in_vaccines'],axis=1)\n",
    "data_health_PH.insert(5,'investment_in_vaccines',s4)\n",
    "\n",
    "PH_health_average_ontime = data_health_PH.mean(axis = 0) \n",
    "PH_health_average = PH_health_average_ontime.mean()\n",
    "print(PH_health_average)"
   ]
  },
  {
   "cell_type": "code",
   "execution_count": 58,
   "metadata": {},
   "outputs": [
    {
     "name": "stdout",
     "output_type": "stream",
     "text": [
      "0.6019440021231423\n",
      "0.3930549170267866\n"
     ]
    }
   ],
   "source": [
    "data_closure_RU = data_closure[data_closure['key'] == \"RU\"]\n",
    "\n",
    "s1 = (data_closure_RU['school_closing'] - data_closure_RU['school_closing'].min())/(data_closure_RU['school_closing'].max() - data_closure_RU['school_closing'].min())\n",
    "data_closure_RU = data_closure_RU.drop(['school_closing'],axis=1)\n",
    "data_closure_RU.insert(2,'school_closing',s1)\n",
    "s2 = (data_closure_RU['workplace_closing'] - data_closure_RU['workplace_closing'].min())/(data_closure_RU['workplace_closing'].max() - data_closure_RU['workplace_closing'].min())\n",
    "data_closure_RU = data_closure_RU.drop(['workplace_closing'],axis=1)\n",
    "data_closure_RU.insert(3,'workplace_closing',s2)\n",
    "s3 = (data_closure_RU['cancel_public_events'] - data_closure_RU['cancel_public_events'].min())/(data_closure_RU['cancel_public_events'].max() - data_closure_RU['cancel_public_events'].min())\n",
    "data_closure_RU = data_closure_RU.drop(['cancel_public_events'],axis=1)\n",
    "data_closure_RU.insert(4,'cancel_public_events',s3)\n",
    "s4 = (data_closure_RU['restrictions_on_gatherings'] - data_closure_RU['restrictions_on_gatherings'].min())/(data_closure_RU['restrictions_on_gatherings'].max() - data_closure_RU['restrictions_on_gatherings'].min())\n",
    "data_closure_RU = data_closure_RU.drop(['restrictions_on_gatherings'],axis=1)\n",
    "data_closure_RU.insert(5,'restrictions_on_gatherings',s4)\n",
    "s5 = (data_closure_RU['public_transport_closing'] - data_closure_RU['public_transport_closing'].min())/(data_closure_RU['public_transport_closing'].max() - data_closure_RU['public_transport_closing'].min())\n",
    "data_closure_RU = data_closure_RU.drop(['public_transport_closing'],axis=1)\n",
    "data_closure_RU.insert(6,'public_transport_closing',s5)\n",
    "s6 = (data_closure_RU['stay_at_home_requirements'] - data_closure_RU['stay_at_home_requirements'].min())/(data_closure_RU['stay_at_home_requirements'].max() - data_closure_RU['stay_at_home_requirements'].min())\n",
    "data_closure_RU = data_closure_RU.drop(['stay_at_home_requirements'],axis=1)\n",
    "data_closure_RU.insert(7,'stay_at_home_requirements',s6)\n",
    "s7 = (data_closure_RU['restrictions_on_internal_movement'] - data_closure_RU['restrictions_on_internal_movement'].min())/(data_closure_RU['restrictions_on_internal_movement'].max() - data_closure_RU['restrictions_on_internal_movement'].min())\n",
    "data_closure_RU = data_closure_RU.drop(['restrictions_on_internal_movement'],axis=1)\n",
    "data_closure_RU.insert(8,'restrictions_on_internal_movement',s7)\n",
    "s8 = (data_closure_RU['international_travel_controls'] - data_closure_RU['international_travel_controls'].min())/(data_closure_RU['international_travel_controls'].max() - data_closure_RU['international_travel_controls'].min())\n",
    "data_closure_RU = data_closure_RU.drop(['international_travel_controls'],axis=1)\n",
    "data_closure_RU.insert(9,'international_travel_controls',s8)\n",
    "\n",
    "RU_closure_average_ontime = data_closure_RU.mean(axis = 0) \n",
    "RU_closure_average = RU_closure_average_ontime.mean()\n",
    "print(RU_closure_average)\n",
    "\n",
    "\n",
    "data_health_RU = data_health[data_health['key'] == \"RU\"]\n",
    "s1 = (data_health_RU['testing_policy'] - data_health_RU['testing_policy'].min())/(data_health_RU['testing_policy'].max() - data_health_RU['testing_policy'].min())\n",
    "data_health_RU = data_health_RU.drop(['testing_policy'],axis=1)\n",
    "data_health_RU.insert(2,'testing_policy',s1)\n",
    "s2 = (data_health_RU['contact_tracing'] - data_health_RU['contact_tracing'].min())/(data_health_RU['contact_tracing'].max() - data_health_RU['contact_tracing'].min())\n",
    "data_health_RU = data_health_RU.drop(['contact_tracing'],axis=1)\n",
    "data_health_RU.insert(3,'contact_tracing',s2)\n",
    "s3 = (data_health_RU['emergency_investment_in_healthcare'] - data_health_RU['emergency_investment_in_healthcare'].min())/(data_health_RU['emergency_investment_in_healthcare'].max() - data_health_RU['emergency_investment_in_healthcare'].min())\n",
    "data_health_RU = data_health_RU.drop(['emergency_investment_in_healthcare'],axis=1)\n",
    "data_health_RU.insert(4,'emergency_investment_in_healthcare',s3)\n",
    "s4 = (data_health_RU['investment_in_vaccines'] - data_health_RU['investment_in_vaccines'].min())/(data_health_RU['investment_in_vaccines'].max() - data_health_RU['investment_in_vaccines'].min())\n",
    "data_health_RU = data_health_RU.drop(['investment_in_vaccines'],axis=1)\n",
    "data_health_RU.insert(5,'investment_in_vaccines',s4)\n",
    "\n",
    "RU_health_average_ontime = data_health_RU.mean(axis = 0) \n",
    "RU_health_average = RU_health_average_ontime.mean()\n",
    "print(RU_health_average)"
   ]
  },
  {
   "cell_type": "markdown",
   "metadata": {},
   "source": [
    "Plot results"
   ]
  },
  {
   "cell_type": "markdown",
   "metadata": {},
   "source": [
    "Plot results"
   ]
  },
  {
   "cell_type": "markdown",
   "metadata": {},
   "source": [
    "Plot results"
   ]
  },
  {
   "cell_type": "code",
   "execution_count": 59,
   "metadata": {},
   "outputs": [
    {
     "name": "stdout",
     "output_type": "stream",
     "text": [
      "0.6304517133956387\n",
      "0.4134327067716877\n",
      "0.3259676159012453\n",
      "0.39899621175701405\n",
      "0.5089379600420609\n",
      "0.6356466876971609\n",
      "0.5371744791666667\n",
      "0.3515625\n",
      "0.34640666082383875\n",
      "0.3619631901840491\n",
      "0.8169414621676891\n",
      "0.5945463089444163\n",
      "0.5879984662576687\n",
      "0.5262510537545931\n",
      "0.5721868365180468\n",
      "0.26310893653510764\n",
      "0.6557324016563146\n",
      "0.3388431699016563\n",
      "0.3642526455026455\n",
      "0.598941798941799\n",
      "0.735256922257721\n",
      "0.43674559487046744\n",
      "0.673512312240808\n",
      "0.3646893194760213\n",
      "0.7246360327570518\n",
      "0.29038336202911297\n",
      "0.6711124091381101\n",
      "0.37806330508579344\n",
      "0.6019440021231423\n",
      "0.3930549170267866\n"
     ]
    }
   ],
   "source": [
    "print(AU_closure_average)\n",
    "print(AU_health_average)\n",
    "print(NZ_closure_average)\n",
    "print(NZ_health_average)\n",
    "print(SG_closure_average)\n",
    "print(SG_health_average)\n",
    "print(TH_closure_average)\n",
    "print(TH_health_average)\n",
    "print(SO_closure_average)\n",
    "print(SO_health_average)\n",
    "\n",
    "\n",
    "print(CN_closure_average)\n",
    "print(CN_health_average)\n",
    "print(EG_closure_average)\n",
    "print(EG_health_average)\n",
    "print(IL_closure_average)\n",
    "print(IL_health_average)\n",
    "print(KG_closure_average)\n",
    "print(KG_health_average)\n",
    "print(TJ_closure_average)\n",
    "print(TJ_health_average)\n",
    "\n",
    "\n",
    "print(US_closure_average)\n",
    "print(US_health_average)\n",
    "print(BR_closure_average)\n",
    "print(BR_health_average)\n",
    "print(CA_closure_average)\n",
    "print(CA_health_average)\n",
    "print(PH_closure_average)\n",
    "print(PH_health_average)\n",
    "print(RU_closure_average)\n",
    "print(RU_health_average)"
   ]
  },
  {
   "cell_type": "code",
   "execution_count": 60,
   "metadata": {},
   "outputs": [],
   "source": [
    "x = [\"AU\",\"NZ\",\"SG\",\"TH\",\"SO\",\"CN\",\"EG\",\"IL\",\"KG\",\"TJ\",\"US\",\"BR\",\"CA\",\"PH\",\"RU\"]\n",
    "y1 = [AU_closure_average,NZ_closure_average,SG_closure_average,TH_closure_average,SO_closure_average,\n",
    "      CN_closure_average,EG_closure_average,IL_closure_average,KG_closure_average,TJ_closure_average,\n",
    "      US_closure_average,BR_closure_average,CA_closure_average,PH_closure_average,RU_closure_average]\n",
    "y2 = [AU_health_average,NZ_health_average,SG_health_average,TH_health_average,SO_health_average,\n",
    "      CN_health_average,EG_health_average,IL_health_average,KG_health_average,TJ_health_average,\n",
    "      US_health_average,BR_health_average,CA_health_average,PH_health_average,RU_health_average]"
   ]
  },
  {
   "cell_type": "code",
   "execution_count": 71,
   "metadata": {},
   "outputs": [
    {
     "data": {
      "image/png": "[encoded data removed]",
      "text/plain": [
       "<Figure size 432x288 with 1 Axes>"
      ]
     },
     "metadata": {
      "needs_background": "light"
     },
     "output_type": "display_data"
    }
   ],
   "source": [
    "plt.bar(x, y1, alpha=0.7, width=0.6, color='gggggyyyyyrrrrr', edgecolor='yellow', label='ClosurePolicy', lw=3)\n",
    "plt.bar(x, y2, alpha=0.5, width=0.6, color='gggggyyyyyrrrrr', edgecolor='blue', label='HealthPolicy', lw=3)\n",
    "plt.legend(loc='upper left')\n",
    "plt.show()"
   ]
  },
  {
   "cell_type": "code",
   "execution_count": 63,
   "metadata": {},
   "outputs": [
    {
     "data": {
      "image/png": "[encoded data removed]",
      "text/plain": [
       "<Figure size 432x288 with 1 Axes>"
      ]
     },
     "metadata": {
      "needs_background": "light"
     },
     "output_type": "display_data"
    }
   ],
   "source": [
    "# plt.bar(x, y1, alpha=0.7, width=0.6, color='gggggyyyyyrrrrr', label='ClosurePolicy', lw=3)\n",
    "plt.bar(x, y2, alpha=0.5, width=0.6, color='gggggyyyyyrrrrr', edgecolor='blue', label='HealthPolicy', lw=3)\n",
    "plt.legend(loc='upper left')\n",
    "plt.show()"
   ]
  },
  {
   "cell_type": "code",
   "execution_count": 66,
   "metadata": {},
   "outputs": [
    {
     "data": {
      "image/png": "[encoded data removed]",
      "text/plain": [
       "<Figure size 432x288 with 1 Axes>"
      ]
     },
     "metadata": {
      "needs_background": "light"
     },
     "output_type": "display_data"
    }
   ],
   "source": [
    "plt.bar(x, y1, alpha=0.7, width=0.6, color='gggggyyyyyrrrrr', edgecolor='blue', label='ClosurePolicy', lw=3)\n",
    "# plt.bar(x, y2, alpha=0.5, width=0.6, color='gggggyyyyyrrrrr', edgecolor='blue', label='HealthPolicy', lw=3)\n",
    "plt.legend(loc='upper left')\n",
    "plt.show()"
   ]
  },
  {
   "cell_type": "code",
   "execution_count": 68,
   "metadata": {},
   "outputs": [],
   "source": [
    "x1 = [\"SG\",\"CN\",\"CA\"]\n",
    "y11 = [SG_closure_average,CN_closure_average,CA_closure_average]\n",
    "y22 = [SG_health_average,CN_health_average,CA_health_average]"
   ]
  },
  {
   "cell_type": "code",
   "execution_count": 70,
   "metadata": {},
   "outputs": [
    {
     "data": {
      "image/png": "[encoded data removed]",
      "text/plain": [
       "<Figure size 432x288 with 1 Axes>"
      ]
     },
     "metadata": {
      "needs_background": "light"
     },
     "output_type": "display_data"
    }
   ],
   "source": [
    "plt.bar(x1, y11, alpha=0.7, width=0.6, color='gyr', edgecolor='yellow', label='ClosurePolicy', lw=3)\n",
    "plt.bar(x1, y22, alpha=0.5, width=0.6, color='gyr', edgecolor='blue', label='HealthPolicy', lw=3)\n",
    "plt.legend(loc='upper left')\n",
    "plt.show()"
   ]
  },
  {
   "cell_type": "code",
   "execution_count": null,
   "metadata": {},
   "outputs": [],
   "source": []
  },
  {
   "cell_type": "code",
   "execution_count": null,
   "metadata": {},
   "outputs": [],
   "source": []
  },
  {
   "cell_type": "code",
   "execution_count": null,
   "metadata": {},
   "outputs": [],
   "source": []
  },
  {
   "cell_type": "code",
   "execution_count": null,
   "metadata": {},
   "outputs": [],
   "source": []
  },
  {
   "cell_type": "code",
   "execution_count": null,
   "metadata": {},
   "outputs": [],
   "source": []
  },
  {
   "cell_type": "code",
   "execution_count": 103,
   "metadata": {},
   "outputs": [
    {
     "data": {
      "image/png": "[encoded data removed]",
      "text/plain": [
       "<Figure size 720x504 with 1 Axes>"
      ]
     },
     "metadata": {
      "needs_background": "light"
     },
     "output_type": "display_data"
    },
    {
     "data": {
      "image/png": "[encoded data removed]",
      "text/plain": [
       "<Figure size 720x504 with 1 Axes>"
      ]
     },
     "metadata": {
      "needs_background": "light"
     },
     "output_type": "display_data"
    }
   ],
   "source": [
    "x = [\"AU_closure\", \"CN_closure\", \"US_closure\"]\n",
    "y = [AU_closure_average, CN_closure_average, US_closure_average]\n",
    "fig, ax = plt.subplots(figsize=(10, 7))\n",
    "ax.bar(x=x, height=y, width=0.3, align=\"center\", color=\"grb\", linewidth=2.0)\n",
    "ax.set_title(\"ClosurePolicy_AU/CN/US\", fontsize=15)\n",
    "plt.xlabel('Country')\n",
    "plt.ylabel('ClosurePolicy_Parameter')\n",
    "xticks = ax.get_xticks()\n",
    "for i in range(len(y)):\n",
    "    xy = (xticks[i], y[i] * 1.03)\n",
    "    s = str(y[i])\n",
    "    ax.annotate(s=s, xy=xy, fontsize=12, color=\"blue\", ha=\"center\", va=\"baseline\" )\n",
    "    \n",
    "a = [\"AU_health\", \"CN_health\", \"US_health\"]\n",
    "b = [AU_health_average, CN_health_average, US_health_average]\n",
    "fig, ax = plt.subplots(figsize=(10, 7))\n",
    "ax.bar(x=a, height=b, width=0.3, align=\"center\", color=\"grb\", linewidth=2.0)\n",
    "ax.set_title(\"HealthPolicy_AU/CN/US\", fontsize=15)\n",
    "plt.xlabel('Country')\n",
    "plt.ylabel('HealthPolicy_Parameter')\n",
    "aticks = ax.get_xticks()\n",
    "for i in range(len(b)):\n",
    "    ab = (aticks[i], b[i] * 1.03)\n",
    "    s = str(b[i])\n",
    "    ax.annotate(s=s, xy=ab, fontsize=12, color=\"blue\", ha=\"center\", va=\"baseline\" )\n",
    "    \n",
    "plt.show()"
   ]
  },
  {
   "cell_type": "code",
   "execution_count": null,
   "metadata": {},
   "outputs": [],
   "source": []
  },
  {
   "cell_type": "code",
   "execution_count": null,
   "metadata": {},
   "outputs": [],
   "source": []
  },
  {
   "cell_type": "code",
   "execution_count": null,
   "metadata": {},
   "outputs": [],
   "source": []
  },
  {
   "cell_type": "code",
   "execution_count": null,
   "metadata": {},
   "outputs": [],
   "source": []
  }
 ],
 "metadata": {
  "kernelspec": {
   "display_name": "Python 3",
   "language": "python",
   "name": "python3"
  },
  "language_info": {
   "codemirror_mode": {
    "name": "ipython",
    "version": 3
   },
   "file_extension": ".py",
   "mimetype": "text/x-python",
   "name": "python",
   "nbconvert_exporter": "python",
   "pygments_lexer": "ipython3",
   "version": "3.7.7"
  }
 },
 "nbformat": 4,
 "nbformat_minor": 4
}
