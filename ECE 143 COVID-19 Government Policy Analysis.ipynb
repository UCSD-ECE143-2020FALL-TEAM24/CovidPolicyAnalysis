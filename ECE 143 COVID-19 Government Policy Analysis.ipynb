{
 "cells": [
  {
   "cell_type": "markdown",
   "metadata": {},
   "source": [
    "# COVID-19 Health Policies\n",
    "*** For specific Countries ***\n",
    "(Australia, Senegal, Egypt, China)\n"
   ]
  },
  {
   "cell_type": "markdown",
   "metadata": {},
   "source": [
    "## Import required modules"
   ]
  },
  {
   "cell_type": "code",
   "execution_count": 1,
   "metadata": {},
   "outputs": [],
   "source": [
    "import pandas as pd\n",
    "import numpy as np\n",
    "import matplotlib.pyplot as plt\n",
    "import datetime as dt\n",
    "from pandas.plotting import register_matplotlib_converters\n",
    "register_matplotlib_converters()"
   ]
  },
  {
   "cell_type": "markdown",
   "metadata": {},
   "source": [
    "## Read in data"
   ]
  },
  {
   "cell_type": "code",
   "execution_count": null,
   "metadata": {},
   "outputs": [],
   "source": [
    "# Read in the data\n",
    "epi_data = pd.read_csv(\"https://storage.googleapis.com/covid19-open-data/v2/epidemiology.csv\", \n",
    "                       keep_default_na=False, na_values=[\"\"], parse_dates=['date'], index_col=['date'])\n",
    "\n",
    "gr_data = pd.read_csv(\"https://storage.googleapis.com/covid19-open-data/v2/oxford-government-response.csv\",\n",
    "                      keep_default_na=False, na_values=[\"\"], parse_dates=['date'], index_col=['date'])"
   ]
  },
  {
   "cell_type": "markdown",
   "metadata": {},
   "source": [
    "## Get Specific Country Dataframes to work with\n",
    "* Need epidemiology dataframe for each country\n",
    "* Need government response dataframe for each country"
   ]
  },
  {
   "cell_type": "code",
   "execution_count": null,
   "metadata": {},
   "outputs": [],
   "source": [
    "# Country Codes \n",
    "# Can be found by googling \"ISO 3166-1 for *countryName*\"\n",
    "# Australia - 'AU'\n",
    "# United States - 'US'\n",
    "# Senegal - 'SN'\n",
    "# China - 'CN'\n",
    "# Egypt - 'EG'\n",
    "\n",
    "# epidemiology data consists of the following columns\n",
    "# date, key, new_confirmed, new_deceased, new_recovered, new_tested, total_confirmed, total_deceased,\n",
    "# total_recovered, total_tested\n",
    "\n",
    "start_remove = ('2019-12-30')\n",
    "end_remove = ('2019-12-31')\n",
    "epi_data = epi_data.loc[(epi_data.index < start_remove) | (epi_data.index > end_remove)]\n",
    "\n",
    "us_epi_df = epi_data[(epi_data.key) == 'US']\n",
    "au_epi_df = epi_data[(epi_data.key) == 'AU']\n",
    "sn_epi_df = epi_data[(epi_data.key) == 'SN']\n",
    "eg_epi_df = epi_data[(epi_data.key) == 'EG']\n",
    "cn_epi_df = epi_data[(epi_data.key) == 'CN']\n",
    "\n",
    "# government response data consists of many columns. Can see them here\n",
    "# https://github.com/OxCGRT/covid-policy-tracker/blob/master/documentation/codebook.md#containment-and-closure-policies\n",
    "us_gr_df = gr_data[(gr_data.key) == 'US']\n",
    "au_gr_df = gr_data[(gr_data.key) == 'AU']\n",
    "sn_gr_df = gr_data[(gr_data.key) == 'SN']\n",
    "eg_gr_df = gr_data[(gr_data.key) == 'EG']\n",
    "cn_gr_df = gr_data[(gr_data.key) == 'CN']\n",
    "\n",
    "# Can visualize the data frames\n",
    "# display(us_epi_df)"
   ]
  },
  {
   "cell_type": "markdown",
   "metadata": {},
   "source": [
    "# Create necessary Data for Plotting"
   ]
  },
  {
   "cell_type": "code",
   "execution_count": null,
   "metadata": {},
   "outputs": [],
   "source": [
    "# Takes the values from 'new_confirmed' cases and creates a new column holding the 7 day rolling average\n",
    "pd.options.mode.chained_assignment = None  # default='warn'\n",
    "us_epi_df['rolling_cases'] = us_epi_df['new_confirmed'].rolling(7).mean()\n",
    "au_epi_df['rolling_cases'] = au_epi_df['new_confirmed'].rolling(7).mean()\n",
    "sn_epi_df['rolling_cases'] = sn_epi_df['new_confirmed'].rolling(7).mean()\n",
    "eg_epi_df['rolling_cases'] = eg_epi_df['new_confirmed'].rolling(7).mean()\n",
    "cn_epi_df['rolling_cases'] = cn_epi_df['new_confirmed'].rolling(7).mean()"
   ]
  },
  {
   "cell_type": "code",
   "execution_count": null,
   "metadata": {},
   "outputs": [],
   "source": [
    "def plot_health_policies(epi_data, gr_data, country):\n",
    "    fig = plt.figure(1, figsize=(15, 7))\n",
    "    ax = fig.add_subplot(111)\n",
    "    ax.set(xlabel='Month',\n",
    "           ylabel='New Daily Cases',\n",
    "           title= country + ' Health Policies vs Cases')\n",
    "\n",
    "    ax.plot(epi_data.index.values,\n",
    "            epi_data['rolling_cases'],\n",
    "            color='blue',\n",
    "            label='New Daily Cases (7-day avg)')\n",
    "\n",
    "    ax2 = ax.twinx()\n",
    "    ax2.plot(gr_data.index.values,\n",
    "            gr_data['testing_policy'],\n",
    "            color='red',\n",
    "            label='Testing Policy [0-3]')\n",
    "\n",
    "    ax2.plot(gr_data.index.values,\n",
    "            gr_data['contact_tracing'],\n",
    "            color='orange',\n",
    "            label='Contact Tracing [0-2]')\n",
    "\n",
    "    handles,labels = [],[]\n",
    "    for ax in fig.axes:\n",
    "        for h,l in zip(*ax.get_legend_handles_labels()):\n",
    "            handles.append(h)\n",
    "            labels.append(l)\n",
    "\n",
    "    ax.set_xlim([dt.date(2020, 1, 1), dt.date(2020, 12, 1)])\n",
    "    plt.legend(handles,labels)\n",
    "    plt.show()\n",
    "    \n",
    "def plot_containment_policies(epi_data, gr_data, country):\n",
    "    fig = plt.figure(1, figsize=(15, 7))\n",
    "    ax = fig.add_subplot(111)\n",
    "    ax.set(xlabel='Month',\n",
    "           ylabel='New Daily Cases',\n",
    "           title= country + ' Health Policies vs Cases')\n",
    "\n",
    "    ax.plot(epi_data.index.values,\n",
    "            epi_data['rolling_cases'],\n",
    "            color='blue',\n",
    "            label='New Daily Cases (7-day avg)')\n",
    "\n",
    "    ax2 = ax.twinx()\n",
    "    ax2.plot(gr_data.index.values,\n",
    "            gr_data['restrictions_on_gatherings'],\n",
    "            color='red',\n",
    "            label='Gather Restrictions [0-4]')\n",
    "\n",
    "    ax2.plot(gr_data.index.values,\n",
    "            gr_data['workplace_closing'],\n",
    "            color='orange',\n",
    "            label='Workplace Closing [0-3]')\n",
    "\n",
    "    ax2.plot(gr_data.index.values,\n",
    "            gr_data['school_closing'],\n",
    "            color='purple',\n",
    "            label='School Closing [0-3]')\n",
    "\n",
    "    ax2.plot(gr_data.index.values,\n",
    "            gr_data['stay_at_home_requirements'],\n",
    "            color='yellow',\n",
    "            label='Stay at Home [0-3]]')\n",
    "\n",
    "    handles,labels = [],[]\n",
    "    for ax in fig.axes:\n",
    "        for h,l in zip(*ax.get_legend_handles_labels()):\n",
    "            handles.append(h)\n",
    "            labels.append(l)\n",
    "\n",
    "    ax.set_xlim([dt.date(2020, 1, 1), dt.date(2020, 12, 1)])\n",
    "    plt.legend(handles,labels)\n",
    "    plt.show()"
   ]
  },
  {
   "cell_type": "markdown",
   "metadata": {},
   "source": [
    "# Plot United States Policies vs Cases\n",
    "- Health Policies\n",
    "    - Testing Policy\n",
    "    - Contact Tracing Policy\n",
    "- Containment Policies\n",
    "    - Stay at Home Policy\n",
    "    - Restriction on Public Gatherings Policy\n",
    "    - Workplace Closing Policy\n",
    "    - School Closing Policy"
   ]
  },
  {
   "cell_type": "code",
   "execution_count": null,
   "metadata": {},
   "outputs": [],
   "source": [
    "plot_health_policies(us_epi_df, us_gr_df, 'US')\n",
    "plot_containment_policies(us_epi_df, us_gr_df, 'US')"
   ]
  },
  {
   "cell_type": "markdown",
   "metadata": {},
   "source": [
    "# Plot Australia Policies vs Cases\n",
    "- Health Policies\n",
    "    - Testing Policy\n",
    "    - Contact Tracing Policy\n",
    "- Containment Policies\n",
    "    - Stay at Home Policy\n",
    "    - Restriction on Public Gatherings Policy\n",
    "    - Workplace Closing Policy\n",
    "    - School Closing Policy"
   ]
  },
  {
   "cell_type": "code",
   "execution_count": null,
   "metadata": {},
   "outputs": [],
   "source": [
    "plot_health_policies(au_epi_df, au_gr_df, 'Australia')\n",
    "plot_containment_policies(au_epi_df, au_gr_df, 'Australia')"
   ]
  },
  {
   "cell_type": "markdown",
   "metadata": {},
   "source": [
    "# Plot Senegal Policies vs Cases\n",
    "- Health Policies\n",
    "    - Testing Policy\n",
    "    - Contact Tracing Policy\n",
    "- Containment Policies\n",
    "    - Stay at Home Policy\n",
    "    - Restriction on Public Gatherings Policy\n",
    "    - Workplace Closing Policy\n",
    "    - School Closing Policy"
   ]
  },
  {
   "cell_type": "code",
   "execution_count": null,
   "metadata": {},
   "outputs": [],
   "source": [
    "plot_health_policies(sn_epi_df, sn_gr_df, 'Senegal')\n",
    "plot_containment_policies(sn_epi_df, sn_gr_df, 'Senegal')"
   ]
  },
  {
   "cell_type": "markdown",
   "metadata": {},
   "source": [
    "# Plot Egypt Policies vs Cases\n",
    "- Health Policies\n",
    "    - Testing Policy\n",
    "    - Contact Tracing Policy\n",
    "- Containment Policies\n",
    "    - Stay at Home Policy\n",
    "    - Restriction on Public Gatherings Policy\n",
    "    - Workplace Closing Policy\n",
    "    - School Closing Policy"
   ]
  },
  {
   "cell_type": "code",
   "execution_count": null,
   "metadata": {},
   "outputs": [],
   "source": [
    "plot_health_policies(eg_epi_df, eg_gr_df, 'Egypt')\n",
    "plot_containment_policies(eg_epi_df, eg_gr_df, 'Egypt')"
   ]
  },
  {
   "cell_type": "markdown",
   "metadata": {},
   "source": [
    "# Plot China Policies vs Cases\n",
    "- Health Policies\n",
    "    - Testing Policy\n",
    "    - Contact Tracing Policy\n",
    "- Containment Policies\n",
    "    - Stay at Home Policy\n",
    "    - Restriction on Public Gatherings Policy\n",
    "    - Workplace Closing Policy\n",
    "    - School Closing Policy"
   ]
  },
  {
   "cell_type": "code",
   "execution_count": null,
   "metadata": {},
   "outputs": [],
   "source": [
    "plot_health_policies(cn_epi_df, cn_gr_df, 'China')\n",
    "plot_containment_policies(cn_epi_df, cn_gr_df, 'China')"
   ]
  }
 ],
 "metadata": {
  "kernelspec": {
   "display_name": "Python 3",
   "language": "python",
   "name": "python3"
  },
  "language_info": {
   "codemirror_mode": {
    "name": "ipython",
    "version": 3
   },
   "file_extension": ".py",
   "mimetype": "text/x-python",
   "name": "python",
   "nbconvert_exporter": "python",
   "pygments_lexer": "ipython3",
   "version": "3.7.3"
  }
 },
 "nbformat": 4,
 "nbformat_minor": 4
}
