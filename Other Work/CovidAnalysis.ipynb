{
 "cells": [
  {
   "cell_type": "code",
   "execution_count": 50,
   "metadata": {},
   "outputs": [],
   "source": [
    "import pandas as pd\n",
    "import numpy as np\n",
    "import matplotlib.pyplot as plt"
   ]
  },
  {
   "cell_type": "code",
   "execution_count": 82,
   "metadata": {},
   "outputs": [],
   "source": [
    "import warnings\n",
    "warnings.filterwarnings(\"ignore\")"
   ]
  },
  {
   "cell_type": "code",
   "execution_count": 51,
   "metadata": {},
   "outputs": [
    {
     "name": "stdout",
     "output_type": "stream",
     "text": [
      "The dataset currently contains 74511 records, here is a sample:\n"
     ]
    },
    {
     "data": {
      "text/html": [
       "<div>\n",
       "<style scoped>\n",
       "    .dataframe tbody tr th:only-of-type {\n",
       "        vertical-align: middle;\n",
       "    }\n",
       "\n",
       "    .dataframe tbody tr th {\n",
       "        vertical-align: top;\n",
       "    }\n",
       "\n",
       "    .dataframe thead th {\n",
       "        text-align: right;\n",
       "    }\n",
       "</style>\n",
       "<table border=\"1\" class=\"dataframe\">\n",
       "  <thead>\n",
       "    <tr style=\"text-align: right;\">\n",
       "      <th></th>\n",
       "      <th>date</th>\n",
       "      <th>key</th>\n",
       "      <th>school_closing</th>\n",
       "      <th>workplace_closing</th>\n",
       "      <th>cancel_public_events</th>\n",
       "      <th>restrictions_on_gatherings</th>\n",
       "      <th>public_transport_closing</th>\n",
       "      <th>stay_at_home_requirements</th>\n",
       "      <th>restrictions_on_internal_movement</th>\n",
       "      <th>international_travel_controls</th>\n",
       "      <th>income_support</th>\n",
       "      <th>debt_relief</th>\n",
       "      <th>fiscal_measures</th>\n",
       "      <th>international_support</th>\n",
       "      <th>public_information_campaigns</th>\n",
       "      <th>testing_policy</th>\n",
       "      <th>contact_tracing</th>\n",
       "      <th>emergency_investment_in_healthcare</th>\n",
       "      <th>investment_in_vaccines</th>\n",
       "      <th>stringency_index</th>\n",
       "    </tr>\n",
       "  </thead>\n",
       "  <tbody>\n",
       "    <tr>\n",
       "      <th>58354</th>\n",
       "      <td>2020-08-30</td>\n",
       "      <td>GN</td>\n",
       "      <td>3.0</td>\n",
       "      <td>2.0</td>\n",
       "      <td>2.0</td>\n",
       "      <td>3.0</td>\n",
       "      <td>0.0</td>\n",
       "      <td>2.0</td>\n",
       "      <td>2.0</td>\n",
       "      <td>3.0</td>\n",
       "      <td>1.0</td>\n",
       "      <td>2.0</td>\n",
       "      <td>0.0</td>\n",
       "      <td>0.0</td>\n",
       "      <td>2.0</td>\n",
       "      <td>2.0</td>\n",
       "      <td>1.0</td>\n",
       "      <td>0.0</td>\n",
       "      <td>0.0</td>\n",
       "      <td>68.06</td>\n",
       "    </tr>\n",
       "    <tr>\n",
       "      <th>24792</th>\n",
       "      <td>2020-04-12</td>\n",
       "      <td>US_NM</td>\n",
       "      <td>3.0</td>\n",
       "      <td>3.0</td>\n",
       "      <td>2.0</td>\n",
       "      <td>4.0</td>\n",
       "      <td>2.0</td>\n",
       "      <td>1.0</td>\n",
       "      <td>2.0</td>\n",
       "      <td>3.0</td>\n",
       "      <td>2.0</td>\n",
       "      <td>1.0</td>\n",
       "      <td>NaN</td>\n",
       "      <td>NaN</td>\n",
       "      <td>2.0</td>\n",
       "      <td>2.0</td>\n",
       "      <td>1.0</td>\n",
       "      <td>NaN</td>\n",
       "      <td>NaN</td>\n",
       "      <td>87.04</td>\n",
       "    </tr>\n",
       "  </tbody>\n",
       "</table>\n",
       "</div>"
      ],
      "text/plain": [
       "             date    key  school_closing  workplace_closing  \\\n",
       "58354  2020-08-30     GN             3.0                2.0   \n",
       "24792  2020-04-12  US_NM             3.0                3.0   \n",
       "\n",
       "       cancel_public_events  restrictions_on_gatherings  \\\n",
       "58354                   2.0                         3.0   \n",
       "24792                   2.0                         4.0   \n",
       "\n",
       "       public_transport_closing  stay_at_home_requirements  \\\n",
       "58354                       0.0                        2.0   \n",
       "24792                       2.0                        1.0   \n",
       "\n",
       "       restrictions_on_internal_movement  international_travel_controls  \\\n",
       "58354                                2.0                            3.0   \n",
       "24792                                2.0                            3.0   \n",
       "\n",
       "       income_support  debt_relief  fiscal_measures  international_support  \\\n",
       "58354             1.0          2.0              0.0                    0.0   \n",
       "24792             2.0          1.0              NaN                    NaN   \n",
       "\n",
       "       public_information_campaigns  testing_policy  contact_tracing  \\\n",
       "58354                           2.0             2.0              1.0   \n",
       "24792                           2.0             2.0              1.0   \n",
       "\n",
       "       emergency_investment_in_healthcare  investment_in_vaccines  \\\n",
       "58354                                 0.0                     0.0   \n",
       "24792                                 NaN                     NaN   \n",
       "\n",
       "       stringency_index  \n",
       "58354             68.06  \n",
       "24792             87.04  "
      ]
     },
     "execution_count": 51,
     "metadata": {},
     "output_type": "execute_result"
    }
   ],
   "source": [
    "# Load CSV data directly from the URL with pandas, the options are needed to prevent\n",
    "# reading of records with key \"NA\" (Namibia) as NaN\n",
    "data = pd.read_csv(\n",
    "    \"https://storage.googleapis.com/covid19-open-data/v2/oxford-government-response.csv\",\n",
    "    keep_default_na=False,\n",
    "    na_values=[\"\"],\n",
    ")\n",
    "\n",
    "# NOTE: We are only downloading the last day of data, but you can download all\n",
    "# the data at once if you'd like by changing the URL to:\n",
    "# https://storage.googleapis.com/covid19-open-data/v2/main.csv\n",
    "\n",
    "# Print a small snippet of the dataset\n",
    "print(f\"The dataset currently contains {len(data)} records, here is a sample:\")\n",
    "data.sample(2)"
   ]
  },
  {
   "cell_type": "markdown",
   "metadata": {},
   "source": [
    "choose specific policies (closure and health)"
   ]
  },
  {
   "cell_type": "code",
   "execution_count": 52,
   "metadata": {},
   "outputs": [],
   "source": [
    "data_closure = data[['date','key','school_closing', 'workplace_closing', 'cancel_public_events','restrictions_on_gatherings','public_transport_closing','stay_at_home_requirements','restrictions_on_internal_movement','international_travel_controls']]\n",
    "data_health = data[['date','key', 'testing_policy', 'contact_tracing','emergency_investment_in_healthcare','investment_in_vaccines']] "
   ]
  },
  {
   "cell_type": "markdown",
   "metadata": {},
   "source": [
    "pick: Green(Australia), Yellow(China),Red(US)"
   ]
  },
  {
   "cell_type": "markdown",
   "metadata": {},
   "source": [
    "Australia"
   ]
  },
  {
   "cell_type": "markdown",
   "metadata": {},
   "source": [
    "Closure Policy Data of AU"
   ]
  },
  {
   "cell_type": "code",
   "execution_count": 60,
   "metadata": {},
   "outputs": [],
   "source": [
    "data_closure_AU = data_closure[data_closure['key'] == \"AU\"]"
   ]
  },
  {
   "cell_type": "code",
   "execution_count": 61,
   "metadata": {},
   "outputs": [
    {
     "data": {
      "text/html": [
       "<div>\n",
       "<style scoped>\n",
       "    .dataframe tbody tr th:only-of-type {\n",
       "        vertical-align: middle;\n",
       "    }\n",
       "\n",
       "    .dataframe tbody tr th {\n",
       "        vertical-align: top;\n",
       "    }\n",
       "\n",
       "    .dataframe thead th {\n",
       "        text-align: right;\n",
       "    }\n",
       "</style>\n",
       "<table border=\"1\" class=\"dataframe\">\n",
       "  <thead>\n",
       "    <tr style=\"text-align: right;\">\n",
       "      <th></th>\n",
       "      <th>date</th>\n",
       "      <th>key</th>\n",
       "      <th>school_closing</th>\n",
       "      <th>workplace_closing</th>\n",
       "      <th>cancel_public_events</th>\n",
       "      <th>restrictions_on_gatherings</th>\n",
       "      <th>public_transport_closing</th>\n",
       "      <th>stay_at_home_requirements</th>\n",
       "      <th>restrictions_on_internal_movement</th>\n",
       "      <th>international_travel_controls</th>\n",
       "    </tr>\n",
       "  </thead>\n",
       "  <tbody>\n",
       "    <tr>\n",
       "      <th>8</th>\n",
       "      <td>2020-01-01</td>\n",
       "      <td>AU</td>\n",
       "      <td>0.000000</td>\n",
       "      <td>0.000000</td>\n",
       "      <td>0.0</td>\n",
       "      <td>0.00</td>\n",
       "      <td>0.0</td>\n",
       "      <td>0.000000</td>\n",
       "      <td>0.0</td>\n",
       "      <td>0.00</td>\n",
       "    </tr>\n",
       "    <tr>\n",
       "      <th>249</th>\n",
       "      <td>2020-01-02</td>\n",
       "      <td>AU</td>\n",
       "      <td>0.000000</td>\n",
       "      <td>0.000000</td>\n",
       "      <td>0.0</td>\n",
       "      <td>0.00</td>\n",
       "      <td>0.0</td>\n",
       "      <td>0.000000</td>\n",
       "      <td>0.0</td>\n",
       "      <td>0.00</td>\n",
       "    </tr>\n",
       "    <tr>\n",
       "      <th>490</th>\n",
       "      <td>2020-01-03</td>\n",
       "      <td>AU</td>\n",
       "      <td>0.000000</td>\n",
       "      <td>0.000000</td>\n",
       "      <td>0.0</td>\n",
       "      <td>0.00</td>\n",
       "      <td>0.0</td>\n",
       "      <td>0.000000</td>\n",
       "      <td>0.0</td>\n",
       "      <td>0.00</td>\n",
       "    </tr>\n",
       "    <tr>\n",
       "      <th>731</th>\n",
       "      <td>2020-01-04</td>\n",
       "      <td>AU</td>\n",
       "      <td>0.000000</td>\n",
       "      <td>0.000000</td>\n",
       "      <td>0.0</td>\n",
       "      <td>0.00</td>\n",
       "      <td>0.0</td>\n",
       "      <td>0.000000</td>\n",
       "      <td>0.0</td>\n",
       "      <td>0.00</td>\n",
       "    </tr>\n",
       "    <tr>\n",
       "      <th>972</th>\n",
       "      <td>2020-01-05</td>\n",
       "      <td>AU</td>\n",
       "      <td>0.000000</td>\n",
       "      <td>0.000000</td>\n",
       "      <td>0.0</td>\n",
       "      <td>0.00</td>\n",
       "      <td>0.0</td>\n",
       "      <td>0.000000</td>\n",
       "      <td>0.0</td>\n",
       "      <td>0.00</td>\n",
       "    </tr>\n",
       "    <tr>\n",
       "      <th>...</th>\n",
       "      <td>...</td>\n",
       "      <td>...</td>\n",
       "      <td>...</td>\n",
       "      <td>...</td>\n",
       "      <td>...</td>\n",
       "      <td>...</td>\n",
       "      <td>...</td>\n",
       "      <td>...</td>\n",
       "      <td>...</td>\n",
       "      <td>...</td>\n",
       "    </tr>\n",
       "    <tr>\n",
       "      <th>72786</th>\n",
       "      <td>2020-10-31</td>\n",
       "      <td>AU</td>\n",
       "      <td>0.333333</td>\n",
       "      <td>0.333333</td>\n",
       "      <td>0.5</td>\n",
       "      <td>0.75</td>\n",
       "      <td>1.0</td>\n",
       "      <td>0.333333</td>\n",
       "      <td>1.0</td>\n",
       "      <td>0.75</td>\n",
       "    </tr>\n",
       "    <tr>\n",
       "      <th>72988</th>\n",
       "      <td>2020-11-01</td>\n",
       "      <td>AU</td>\n",
       "      <td>0.333333</td>\n",
       "      <td>0.333333</td>\n",
       "      <td>0.5</td>\n",
       "      <td>0.75</td>\n",
       "      <td>1.0</td>\n",
       "      <td>0.333333</td>\n",
       "      <td>1.0</td>\n",
       "      <td>0.75</td>\n",
       "    </tr>\n",
       "    <tr>\n",
       "      <th>73188</th>\n",
       "      <td>2020-11-02</td>\n",
       "      <td>AU</td>\n",
       "      <td>0.333333</td>\n",
       "      <td>0.333333</td>\n",
       "      <td>0.5</td>\n",
       "      <td>0.75</td>\n",
       "      <td>1.0</td>\n",
       "      <td>0.333333</td>\n",
       "      <td>1.0</td>\n",
       "      <td>0.75</td>\n",
       "    </tr>\n",
       "    <tr>\n",
       "      <th>73379</th>\n",
       "      <td>2020-11-03</td>\n",
       "      <td>AU</td>\n",
       "      <td>0.333333</td>\n",
       "      <td>0.333333</td>\n",
       "      <td>0.5</td>\n",
       "      <td>0.75</td>\n",
       "      <td>1.0</td>\n",
       "      <td>0.333333</td>\n",
       "      <td>1.0</td>\n",
       "      <td>0.75</td>\n",
       "    </tr>\n",
       "    <tr>\n",
       "      <th>73562</th>\n",
       "      <td>2020-11-04</td>\n",
       "      <td>AU</td>\n",
       "      <td>0.333333</td>\n",
       "      <td>0.333333</td>\n",
       "      <td>0.5</td>\n",
       "      <td>0.75</td>\n",
       "      <td>1.0</td>\n",
       "      <td>0.333333</td>\n",
       "      <td>1.0</td>\n",
       "      <td>0.75</td>\n",
       "    </tr>\n",
       "  </tbody>\n",
       "</table>\n",
       "<p>309 rows × 10 columns</p>\n",
       "</div>"
      ],
      "text/plain": [
       "             date key  school_closing  workplace_closing  \\\n",
       "8      2020-01-01  AU        0.000000           0.000000   \n",
       "249    2020-01-02  AU        0.000000           0.000000   \n",
       "490    2020-01-03  AU        0.000000           0.000000   \n",
       "731    2020-01-04  AU        0.000000           0.000000   \n",
       "972    2020-01-05  AU        0.000000           0.000000   \n",
       "...           ...  ..             ...                ...   \n",
       "72786  2020-10-31  AU        0.333333           0.333333   \n",
       "72988  2020-11-01  AU        0.333333           0.333333   \n",
       "73188  2020-11-02  AU        0.333333           0.333333   \n",
       "73379  2020-11-03  AU        0.333333           0.333333   \n",
       "73562  2020-11-04  AU        0.333333           0.333333   \n",
       "\n",
       "       cancel_public_events  restrictions_on_gatherings  \\\n",
       "8                       0.0                        0.00   \n",
       "249                     0.0                        0.00   \n",
       "490                     0.0                        0.00   \n",
       "731                     0.0                        0.00   \n",
       "972                     0.0                        0.00   \n",
       "...                     ...                         ...   \n",
       "72786                   0.5                        0.75   \n",
       "72988                   0.5                        0.75   \n",
       "73188                   0.5                        0.75   \n",
       "73379                   0.5                        0.75   \n",
       "73562                   0.5                        0.75   \n",
       "\n",
       "       public_transport_closing  stay_at_home_requirements  \\\n",
       "8                           0.0                   0.000000   \n",
       "249                         0.0                   0.000000   \n",
       "490                         0.0                   0.000000   \n",
       "731                         0.0                   0.000000   \n",
       "972                         0.0                   0.000000   \n",
       "...                         ...                        ...   \n",
       "72786                       1.0                   0.333333   \n",
       "72988                       1.0                   0.333333   \n",
       "73188                       1.0                   0.333333   \n",
       "73379                       1.0                   0.333333   \n",
       "73562                       1.0                   0.333333   \n",
       "\n",
       "       restrictions_on_internal_movement  international_travel_controls  \n",
       "8                                    0.0                           0.00  \n",
       "249                                  0.0                           0.00  \n",
       "490                                  0.0                           0.00  \n",
       "731                                  0.0                           0.00  \n",
       "972                                  0.0                           0.00  \n",
       "...                                  ...                            ...  \n",
       "72786                                1.0                           0.75  \n",
       "72988                                1.0                           0.75  \n",
       "73188                                1.0                           0.75  \n",
       "73379                                1.0                           0.75  \n",
       "73562                                1.0                           0.75  \n",
       "\n",
       "[309 rows x 10 columns]"
      ]
     },
     "execution_count": 61,
     "metadata": {},
     "output_type": "execute_result"
    }
   ],
   "source": [
    "s1 = (data_closure_AU['school_closing'] - data_closure_AU['school_closing'].min())/(data_closure_AU['school_closing'].max() - data_closure_AU['school_closing'].min())\n",
    "data_closure_AU = data_closure_AU.drop(['school_closing'],axis=1)\n",
    "data_closure_AU.insert(2,'school_closing',s1)\n",
    "s2 = (data_closure_AU['workplace_closing'] - data_closure_AU['workplace_closing'].min())/(data_closure_AU['workplace_closing'].max() - data_closure_AU['workplace_closing'].min())\n",
    "data_closure_AU = data_closure_AU.drop(['workplace_closing'],axis=1)\n",
    "data_closure_AU.insert(3,'workplace_closing',s2)\n",
    "s3 = (data_closure_AU['cancel_public_events'] - data_closure_AU['cancel_public_events'].min())/(data_closure_AU['cancel_public_events'].max() - data_closure_AU['cancel_public_events'].min())\n",
    "data_closure_AU = data_closure_AU.drop(['cancel_public_events'],axis=1)\n",
    "data_closure_AU.insert(4,'cancel_public_events',s3)\n",
    "s4 = (data_closure_AU['restrictions_on_gatherings'] - data_closure_AU['restrictions_on_gatherings'].min())/(data_closure_AU['restrictions_on_gatherings'].max() - data_closure_AU['restrictions_on_gatherings'].min())\n",
    "data_closure_AU = data_closure_AU.drop(['restrictions_on_gatherings'],axis=1)\n",
    "data_closure_AU.insert(5,'restrictions_on_gatherings',s4)\n",
    "s5 = (data_closure_AU['public_transport_closing'] - data_closure_AU['public_transport_closing'].min())/(data_closure_AU['public_transport_closing'].max() - data_closure_AU['public_transport_closing'].min())\n",
    "data_closure_AU = data_closure_AU.drop(['public_transport_closing'],axis=1)\n",
    "data_closure_AU.insert(6,'public_transport_closing',s5)\n",
    "s6 = (data_closure_AU['stay_at_home_requirements'] - data_closure_AU['stay_at_home_requirements'].min())/(data_closure_AU['stay_at_home_requirements'].max() - data_closure_AU['stay_at_home_requirements'].min())\n",
    "data_closure_AU = data_closure_AU.drop(['stay_at_home_requirements'],axis=1)\n",
    "data_closure_AU.insert(7,'stay_at_home_requirements',s6)\n",
    "s7 = (data_closure_AU['restrictions_on_internal_movement'] - data_closure_AU['restrictions_on_internal_movement'].min())/(data_closure_AU['restrictions_on_internal_movement'].max() - data_closure_AU['restrictions_on_internal_movement'].min())\n",
    "data_closure_AU = data_closure_AU.drop(['restrictions_on_internal_movement'],axis=1)\n",
    "data_closure_AU.insert(8,'restrictions_on_internal_movement',s7)\n",
    "s8 = (data_closure_AU['international_travel_controls'] - data_closure_AU['international_travel_controls'].min())/(data_closure_AU['international_travel_controls'].max() - data_closure_AU['international_travel_controls'].min())\n",
    "data_closure_AU = data_closure_AU.drop(['international_travel_controls'],axis=1)\n",
    "data_closure_AU.insert(9,'international_travel_controls',s8)\n",
    "\n",
    "data_closure_AU"
   ]
  },
  {
   "cell_type": "code",
   "execution_count": 62,
   "metadata": {},
   "outputs": [
    {
     "data": {
      "text/plain": [
       "school_closing                       0.564186\n",
       "workplace_closing                    0.491909\n",
       "cancel_public_events                 0.710356\n",
       "restrictions_on_gatherings           0.703883\n",
       "public_transport_closing             0.553398\n",
       "stay_at_home_requirements            0.419633\n",
       "restrictions_on_internal_movement    0.747573\n",
       "international_travel_controls        0.844660\n",
       "dtype: float64"
      ]
     },
     "execution_count": 62,
     "metadata": {},
     "output_type": "execute_result"
    }
   ],
   "source": [
    "AU_closure_average_ontime = data_closure_AU.mean(axis = 0) \n",
    "AU_closure_average_ontime"
   ]
  },
  {
   "cell_type": "code",
   "execution_count": 65,
   "metadata": {},
   "outputs": [
    {
     "data": {
      "text/plain": [
       "0.6294498381877023"
      ]
     },
     "execution_count": 65,
     "metadata": {},
     "output_type": "execute_result"
    }
   ],
   "source": [
    "AU_closure_average = AU_closure_average_ontime.mean()\n",
    "AU_closure_average"
   ]
  },
  {
   "cell_type": "markdown",
   "metadata": {},
   "source": [
    "Health Policy Data of AU"
   ]
  },
  {
   "cell_type": "code",
   "execution_count": 128,
   "metadata": {},
   "outputs": [
    {
     "data": {
      "text/plain": [
       "0.4127818672163291"
      ]
     },
     "execution_count": 128,
     "metadata": {},
     "output_type": "execute_result"
    }
   ],
   "source": [
    "data_health_AU = data_health[data_health['key'] == \"AU\"]\n",
    "\n",
    "s1 = (data_health_AU['testing_policy'] - data_health_AU['testing_policy'].min())/(data_health_AU['testing_policy'].max() - data_health_AU['testing_policy'].min())\n",
    "data_health_AU = data_health_AU.drop(['testing_policy'],axis=1)\n",
    "data_health_AU.insert(2,'testing_policy',s1)\n",
    "s2 = (data_health_AU['contact_tracing'] - data_health_AU['contact_tracing'].min())/(data_health_AU['contact_tracing'].max() - data_health_AU['contact_tracing'].min())\n",
    "data_health_AU = data_health_AU.drop(['contact_tracing'],axis=1)\n",
    "data_health_AU.insert(3,'contact_tracing',s2)\n",
    "s3 = (data_health_AU['emergency_investment_in_healthcare'] - data_health_AU['emergency_investment_in_healthcare'].min())/(data_health_AU['emergency_investment_in_healthcare'].max() - data_health_AU['emergency_investment_in_healthcare'].min())\n",
    "data_health_AU = data_health_AU.drop(['emergency_investment_in_healthcare'],axis=1)\n",
    "data_health_AU.insert(4,'emergency_investment_in_healthcare',s3)\n",
    "s4 = (data_health_AU['investment_in_vaccines'] - data_health_AU['investment_in_vaccines'].min())/(data_health_AU['investment_in_vaccines'].max() - data_health_AU['investment_in_vaccines'].min())\n",
    "data_health_AU = data_health_AU.drop(['investment_in_vaccines'],axis=1)\n",
    "data_health_AU.insert(5,'investment_in_vaccines',s4)\n",
    "\n",
    "AU_health_average_ontime = data_health_AU.mean(axis = 0) \n",
    "AU_health_average = AU_health_average_ontime.mean()\n",
    "AU_health_average"
   ]
  },
  {
   "cell_type": "markdown",
   "metadata": {},
   "source": [
    "China"
   ]
  },
  {
   "cell_type": "code",
   "execution_count": 64,
   "metadata": {},
   "outputs": [
    {
     "data": {
      "text/plain": [
       "0.8193413091309131"
      ]
     },
     "execution_count": 64,
     "metadata": {},
     "output_type": "execute_result"
    }
   ],
   "source": [
    "data_closure_CN = data_closure[data_closure['key'] == \"CN\"]\n",
    "\n",
    "s1 = (data_closure_CN['school_closing'] - data_closure_CN['school_closing'].min())/(data_closure_CN['school_closing'].max() - data_closure_CN['school_closing'].min())\n",
    "data_closure_CN = data_closure_CN.drop(['school_closing'],axis=1)\n",
    "data_closure_CN.insert(2,'school_closing',s1)\n",
    "s2 = (data_closure_CN['workplace_closing'] - data_closure_CN['workplace_closing'].min())/(data_closure_CN['workplace_closing'].max() - data_closure_CN['workplace_closing'].min())\n",
    "data_closure_CN = data_closure_CN.drop(['workplace_closing'],axis=1)\n",
    "data_closure_CN.insert(3,'workplace_closing',s2)\n",
    "s3 = (data_closure_CN['cancel_public_events'] - data_closure_CN['cancel_public_events'].min())/(data_closure_CN['cancel_public_events'].max() - data_closure_CN['cancel_public_events'].min())\n",
    "data_closure_CN = data_closure_CN.drop(['cancel_public_events'],axis=1)\n",
    "data_closure_CN.insert(4,'cancel_public_events',s3)\n",
    "s4 = (data_closure_CN['restrictions_on_gatherings'] - data_closure_CN['restrictions_on_gatherings'].min())/(data_closure_CN['restrictions_on_gatherings'].max() - data_closure_CN['restrictions_on_gatherings'].min())\n",
    "data_closure_CN = data_closure_CN.drop(['restrictions_on_gatherings'],axis=1)\n",
    "data_closure_CN.insert(5,'restrictions_on_gatherings',s4)\n",
    "s5 = (data_closure_CN['public_transport_closing'] - data_closure_CN['public_transport_closing'].min())/(data_closure_CN['public_transport_closing'].max() - data_closure_CN['public_transport_closing'].min())\n",
    "data_closure_CN = data_closure_CN.drop(['public_transport_closing'],axis=1)\n",
    "data_closure_CN.insert(6,'public_transport_closing',s5)\n",
    "s6 = (data_closure_CN['stay_at_home_requirements'] - data_closure_CN['stay_at_home_requirements'].min())/(data_closure_CN['stay_at_home_requirements'].max() - data_closure_CN['stay_at_home_requirements'].min())\n",
    "data_closure_CN = data_closure_CN.drop(['stay_at_home_requirements'],axis=1)\n",
    "data_closure_CN.insert(7,'stay_at_home_requirements',s6)\n",
    "s7 = (data_closure_CN['restrictions_on_internal_movement'] - data_closure_CN['restrictions_on_internal_movement'].min())/(data_closure_CN['restrictions_on_internal_movement'].max() - data_closure_CN['restrictions_on_internal_movement'].min())\n",
    "data_closure_CN = data_closure_CN.drop(['restrictions_on_internal_movement'],axis=1)\n",
    "data_closure_CN.insert(8,'restrictions_on_internal_movement',s7)\n",
    "s8 = (data_closure_CN['international_travel_controls'] - data_closure_CN['international_travel_controls'].min())/(data_closure_CN['international_travel_controls'].max() - data_closure_CN['international_travel_controls'].min())\n",
    "data_closure_CN = data_closure_CN.drop(['international_travel_controls'],axis=1)\n",
    "data_closure_CN.insert(9,'international_travel_controls',s8)\n",
    "\n",
    "CN_closure_average_ontime = data_closure_CN.mean(axis = 0) \n",
    "\n",
    "CN_closure_average = CN_closure_average_ontime.mean()\n",
    "CN_closure_average"
   ]
  },
  {
   "cell_type": "code",
   "execution_count": 72,
   "metadata": {},
   "outputs": [
    {
     "data": {
      "text/plain": [
       "0.5890718263450375"
      ]
     },
     "execution_count": 72,
     "metadata": {},
     "output_type": "execute_result"
    }
   ],
   "source": [
    "data_health_CN = data_health[data_health['key'] == \"CN\"]\n",
    "\n",
    "s1 = (data_health_CN['testing_policy'] - data_health_CN['testing_policy'].min())/(data_health_CN['testing_policy'].max() - data_health_CN['testing_policy'].min())\n",
    "data_health_CN = data_health_CN.drop(['testing_policy'],axis=1)\n",
    "data_health_CN.insert(2,'testing_policy',s1)\n",
    "s2 = (data_health_CN['contact_tracing'] - data_health_CN['contact_tracing'].min())/(data_health_CN['contact_tracing'].max() - data_health_CN['contact_tracing'].min())\n",
    "data_health_CN = data_health_CN.drop(['contact_tracing'],axis=1)\n",
    "data_health_CN.insert(3,'contact_tracing',s2)\n",
    "s3 = (data_health_CN['emergency_investment_in_healthcare'] - data_health_CN['emergency_investment_in_healthcare'].min())/(data_health_CN['emergency_investment_in_healthcare'].max() - data_health_CN['emergency_investment_in_healthcare'].min())\n",
    "data_health_CN = data_health_CN.drop(['emergency_investment_in_healthcare'],axis=1)\n",
    "data_health_CN.insert(4,'emergency_investment_in_healthcare',s3)\n",
    "s4 = (data_health_CN['investment_in_vaccines'] - data_health_CN['investment_in_vaccines'].min())/(data_health_CN['investment_in_vaccines'].max() - data_health_CN['investment_in_vaccines'].min())\n",
    "data_health_CN = data_health_CN.drop(['investment_in_vaccines'],axis=1)\n",
    "data_health_CN.insert(5,'investment_in_vaccines',s4)\n",
    "\n",
    "CN_health_average_ontime = data_health_CN.mean(axis = 0) \n",
    "CN_health_average = CN_health_average_ontime.mean()\n",
    "CN_health_average"
   ]
  },
  {
   "cell_type": "markdown",
   "metadata": {},
   "source": [
    "United States"
   ]
  },
  {
   "cell_type": "code",
   "execution_count": 66,
   "metadata": {},
   "outputs": [
    {
     "data": {
      "text/plain": [
       "0.735256922257721"
      ]
     },
     "execution_count": 66,
     "metadata": {},
     "output_type": "execute_result"
    }
   ],
   "source": [
    "data_closure_US = data_closure[data_closure['key'] == \"US\"]\n",
    "\n",
    "s1 = (data_closure_US['school_closing'] - data_closure_US['school_closing'].min())/(data_closure_US['school_closing'].max() - data_closure_US['school_closing'].min())\n",
    "data_closure_US = data_closure_US.drop(['school_closing'],axis=1)\n",
    "data_closure_US.insert(2,'school_closing',s1)\n",
    "s2 = (data_closure_US['workplace_closing'] - data_closure_US['workplace_closing'].min())/(data_closure_US['workplace_closing'].max() - data_closure_US['workplace_closing'].min())\n",
    "data_closure_US = data_closure_US.drop(['workplace_closing'],axis=1)\n",
    "data_closure_US.insert(3,'workplace_closing',s2)\n",
    "s3 = (data_closure_US['cancel_public_events'] - data_closure_US['cancel_public_events'].min())/(data_closure_US['cancel_public_events'].max() - data_closure_US['cancel_public_events'].min())\n",
    "data_closure_US = data_closure_US.drop(['cancel_public_events'],axis=1)\n",
    "data_closure_US.insert(4,'cancel_public_events',s3)\n",
    "s4 = (data_closure_US['restrictions_on_gatherings'] - data_closure_US['restrictions_on_gatherings'].min())/(data_closure_US['restrictions_on_gatherings'].max() - data_closure_US['restrictions_on_gatherings'].min())\n",
    "data_closure_US = data_closure_US.drop(['restrictions_on_gatherings'],axis=1)\n",
    "data_closure_US.insert(5,'restrictions_on_gatherings',s4)\n",
    "s5 = (data_closure_US['public_transport_closing'] - data_closure_US['public_transport_closing'].min())/(data_closure_US['public_transport_closing'].max() - data_closure_US['public_transport_closing'].min())\n",
    "data_closure_US = data_closure_US.drop(['public_transport_closing'],axis=1)\n",
    "data_closure_US.insert(6,'public_transport_closing',s5)\n",
    "s6 = (data_closure_US['stay_at_home_requirements'] - data_closure_US['stay_at_home_requirements'].min())/(data_closure_US['stay_at_home_requirements'].max() - data_closure_US['stay_at_home_requirements'].min())\n",
    "data_closure_US = data_closure_US.drop(['stay_at_home_requirements'],axis=1)\n",
    "data_closure_US.insert(7,'stay_at_home_requirements',s6)\n",
    "s7 = (data_closure_US['restrictions_on_internal_movement'] - data_closure_US['restrictions_on_internal_movement'].min())/(data_closure_US['restrictions_on_internal_movement'].max() - data_closure_US['restrictions_on_internal_movement'].min())\n",
    "data_closure_US = data_closure_US.drop(['restrictions_on_internal_movement'],axis=1)\n",
    "data_closure_US.insert(8,'restrictions_on_internal_movement',s7)\n",
    "s8 = (data_closure_US['international_travel_controls'] - data_closure_US['international_travel_controls'].min())/(data_closure_US['international_travel_controls'].max() - data_closure_US['international_travel_controls'].min())\n",
    "data_closure_US = data_closure_US.drop(['international_travel_controls'],axis=1)\n",
    "data_closure_US.insert(9,'international_travel_controls',s8)\n",
    "\n",
    "US_closure_average_ontime = data_closure_US.mean(axis = 0) \n",
    "\n",
    "US_closure_average = US_closure_average_ontime.mean()\n",
    "US_closure_average"
   ]
  },
  {
   "cell_type": "code",
   "execution_count": 73,
   "metadata": {},
   "outputs": [
    {
     "data": {
      "text/plain": [
       "0.43674559487046744"
      ]
     },
     "execution_count": 73,
     "metadata": {},
     "output_type": "execute_result"
    }
   ],
   "source": [
    "data_health_US = data_health[data_health['key'] == \"US\"]\n",
    "\n",
    "s1 = (data_health_US['testing_policy'] - data_health_US['testing_policy'].min())/(data_health_US['testing_policy'].max() - data_health_US['testing_policy'].min())\n",
    "data_health_US = data_health_US.drop(['testing_policy'],axis=1)\n",
    "data_health_US.insert(2,'testing_policy',s1)\n",
    "s2 = (data_health_US['contact_tracing'] - data_health_US['contact_tracing'].min())/(data_health_US['contact_tracing'].max() - data_health_US['contact_tracing'].min())\n",
    "data_health_US = data_health_US.drop(['contact_tracing'],axis=1)\n",
    "data_health_US.insert(3,'contact_tracing',s2)\n",
    "s3 = (data_health_US['emergency_investment_in_healthcare'] - data_health_US['emergency_investment_in_healthcare'].min())/(data_health_US['emergency_investment_in_healthcare'].max() - data_health_US['emergency_investment_in_healthcare'].min())\n",
    "data_health_US = data_health_US.drop(['emergency_investment_in_healthcare'],axis=1)\n",
    "data_health_US.insert(4,'emergency_investment_in_healthcare',s3)\n",
    "s4 = (data_health_US['investment_in_vaccines'] - data_health_US['investment_in_vaccines'].min())/(data_health_US['investment_in_vaccines'].max() - data_health_US['investment_in_vaccines'].min())\n",
    "data_health_US = data_health_US.drop(['investment_in_vaccines'],axis=1)\n",
    "data_health_US.insert(5,'investment_in_vaccines',s4)\n",
    "\n",
    "US_health_average_ontime = data_health_US.mean(axis = 0) \n",
    "US_health_average = US_health_average_ontime.mean()\n",
    "US_health_average"
   ]
  },
  {
   "cell_type": "markdown",
   "metadata": {},
   "source": [
    "Plot results"
   ]
  },
  {
   "cell_type": "code",
   "execution_count": 76,
   "metadata": {},
   "outputs": [
    {
     "name": "stdout",
     "output_type": "stream",
     "text": [
      "0.6294498381877023\n",
      "0.4127818672163291\n",
      "0.8193413091309131\n",
      "0.5890718263450375\n",
      "0.735256922257721\n",
      "0.43674559487046744\n"
     ]
    }
   ],
   "source": [
    "print(AU_closure_average)\n",
    "print(AU_health_average)\n",
    "print(CN_closure_average)\n",
    "print(CN_health_average)\n",
    "print(US_closure_average)\n",
    "print(US_health_average)"
   ]
  },
  {
   "cell_type": "code",
   "execution_count": 111,
   "metadata": {},
   "outputs": [],
   "source": [
    "x = [\"AU\", \"CN\", \"US\"]\n",
    "y1 = [AU_closure_average, CN_closure_average, US_closure_average]\n",
    "y2 = [AU_health_average, CN_health_average, US_health_average]"
   ]
  },
  {
   "cell_type": "code",
   "execution_count": 127,
   "metadata": {},
   "outputs": [
    {
     "data": {
      "image/png": "[encoded data removed]",
      "text/plain": [
       "<Figure size 432x288 with 1 Axes>"
      ]
     },
     "metadata": {
      "needs_background": "light"
     },
     "output_type": "display_data"
    }
   ],
   "source": [
    "plt.bar(x, y1, alpha=0.7, width=0.6, color='grb', edgecolor='black', label='ClosurePolicy', lw=3)\n",
    "plt.bar(x, y2, alpha=0.5, width=0.6, color='grb', edgecolor='yellow', label='HealthPolicy', lw=3)\n",
    "plt.legend(loc='upper left')\n",
    "plt.show()"
   ]
  },
  {
   "cell_type": "code",
   "execution_count": 103,
   "metadata": {},
   "outputs": [
    {
     "data": {
      "image/png": "[encoded data removed]",
      "text/plain": [
       "<Figure size 720x504 with 1 Axes>"
      ]
     },
     "metadata": {
      "needs_background": "light"
     },
     "output_type": "display_data"
    },
    {
     "data": {
      "image/png": "[encoded data removed]",
      "text/plain": [
       "<Figure size 720x504 with 1 Axes>"
      ]
     },
     "metadata": {
      "needs_background": "light"
     },
     "output_type": "display_data"
    }
   ],
   "source": [
    "x = [\"AU_closure\", \"CN_closure\", \"US_closure\"]\n",
    "y = [AU_closure_average, CN_closure_average, US_closure_average]\n",
    "fig, ax = plt.subplots(figsize=(10, 7))\n",
    "ax.bar(x=x, height=y, width=0.3, align=\"center\", color=\"grb\", linewidth=2.0)\n",
    "ax.set_title(\"ClosurePolicy_AU/CN/US\", fontsize=15)\n",
    "plt.xlabel('Country')\n",
    "plt.ylabel('ClosurePolicy_Parameter')\n",
    "xticks = ax.get_xticks()\n",
    "for i in range(len(y)):\n",
    "    xy = (xticks[i], y[i] * 1.03)\n",
    "    s = str(y[i])\n",
    "    ax.annotate(s=s, xy=xy, fontsize=12, color=\"blue\", ha=\"center\", va=\"baseline\" )\n",
    "    \n",
    "a = [\"AU_health\", \"CN_health\", \"US_health\"]\n",
    "b = [AU_health_average, CN_health_average, US_health_average]\n",
    "fig, ax = plt.subplots(figsize=(10, 7))\n",
    "ax.bar(x=a, height=b, width=0.3, align=\"center\", color=\"grb\", linewidth=2.0)\n",
    "ax.set_title(\"HealthPolicy_AU/CN/US\", fontsize=15)\n",
    "plt.xlabel('Country')\n",
    "plt.ylabel('HealthPolicy_Parameter')\n",
    "aticks = ax.get_xticks()\n",
    "for i in range(len(b)):\n",
    "    ab = (aticks[i], b[i] * 1.03)\n",
    "    s = str(b[i])\n",
    "    ax.annotate(s=s, xy=ab, fontsize=12, color=\"blue\", ha=\"center\", va=\"baseline\" )\n",
    "    \n",
    "plt.show()"
   ]
  },
  {
   "cell_type": "code",
   "execution_count": null,
   "metadata": {},
   "outputs": [],
   "source": []
  },
  {
   "cell_type": "code",
   "execution_count": null,
   "metadata": {},
   "outputs": [],
   "source": []
  },
  {
   "cell_type": "code",
   "execution_count": null,
   "metadata": {},
   "outputs": [],
   "source": []
  },
  {
   "cell_type": "code",
   "execution_count": null,
   "metadata": {},
   "outputs": [],
   "source": []
  }
 ],
 "metadata": {
  "kernelspec": {
   "display_name": "Python 3",
   "language": "python",
   "name": "python3"
  },
  "language_info": {
   "codemirror_mode": {
    "name": "ipython",
    "version": 3
   },
   "file_extension": ".py",
   "mimetype": "text/x-python",
   "name": "python",
   "nbconvert_exporter": "python",
   "pygments_lexer": "ipython3",
   "version": "3.7.7"
  }
 },
 "nbformat": 4,
 "nbformat_minor": 4
}
